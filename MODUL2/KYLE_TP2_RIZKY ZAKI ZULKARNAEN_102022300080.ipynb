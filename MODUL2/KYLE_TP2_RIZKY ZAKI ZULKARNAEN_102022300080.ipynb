{
 "cells": [
  {
   "cell_type": "markdown",
   "metadata": {
    "id": "DHyCCnv7UXBX"
   },
   "source": [
    "# **TUGAS PENDAHULUAN MODUL 2**\n",
    "\n",
    "\n",
    "\n",
    "---\n"
   ]
  },
  {
   "cell_type": "markdown",
   "metadata": {
    "id": "k3bbmfVyUSSN"
   },
   "source": [
    "Nama: Rizky Zaki Zulkarnaen\n",
    "\n",
    "NIM: 102022300080\n",
    "\n",
    "Kelas: SI4706\n",
    "\n",
    "Shift: 7\n",
    "\n",
    "Kode Asprak: KYLE"
   ]
  },
  {
   "cell_type": "markdown",
   "metadata": {
    "id": "vq0gLObDUmJH"
   },
   "source": [
    "## **Aturan Pengerjaan dan Pengumpulan Tugas Pendahuluan (TP):**\n",
    "\n",
    "---\n",
    "\n",
    "\n"
   ]
  },
  {
   "cell_type": "markdown",
   "metadata": {
    "id": "ZfhkDjlcUm7n"
   },
   "source": [
    "1. Tugas Pendahuluan dikerjakan secara individu dan diperbolehkan bertanya kepada asisten.\n",
    "2. Jawaban tidak boleh sama dengan setiap individu.\n",
    "3. File Python Notebook (.ipynb) yang berisi hasil kerja Tugas Pendahuluan harus diunggah pada modul yang telah disediakan di CeLOE Learning Management System (LMS).\n",
    "4. Batas pengiriman Tugas Pendahuluan sesuai dengan batas waktu di CeLOE Learning Management System (LMS).\n",
    "5. Format penamaan file .ipynb ( Python Notebook ):\n",
    "\n",
    "    **Kode Asisten_TP_NAMA LENGKAP (KAPITAL)_NIM.ipynb**\n",
    "\n",
    "\n",
    "6. Tidak mengerjakan akan diberikan nilai 0.\n",
    "7. Kesalahan format penamaan file praktikum akan mendapatkan potongan nilai sebesar 10%  per file yang salah.\n",
    "8. Keterlambatan pengiriman file praktikum akan mendapatkan potongan nilai sebesar 50%.\n",
    "9. Terbukti melakukan kecurangan melalui alat bantu AI (ChatGPT, GitHub Copilot, Dll) baik diluar atau didalam praktikum maka nilai modul = 0.\n",
    "10. Segala bentuk atau indikasi kecurangan, mencontek, plagiarism, dan/atau pemalsuan akan dibawa ke Komisi Disiplin dan apabila terbukti nilai modul = 0.\n"
   ]
  },
  {
   "cell_type": "markdown",
   "metadata": {
    "id": "kKok05CiVF_u"
   },
   "source": [
    "## Studi Kasus"
   ]
  },
  {
   "cell_type": "markdown",
   "metadata": {
    "id": "2mmX-tgqwaHh"
   },
   "source": [
    "Terdapat 3 studi kasus pada tugas pendahuluan modul 2, dari ketiga studi kasus tersebut praktikan diharapkan dapat mempelajari **bagaimana membangun model machine learning** sampai dengan **mengevaluasi model tersebut**. Praktikan dapat menyelesaikan 3 studi kasus dengan algoritma machine learning yang berbeda dan diharapkan dapat mengetahui fungsi dan penggunaan algoritma-algoritma tersebut.\n",
    "Berikut penjelasan 3 studi kasus:\n",
    "\n",
    "1. **Studi Kasus Kepuasan Pelanggan Maskapai**\n",
    "\n",
    "  Pada studi kasus pertama ini, praktikan diharapkan untuk memprediksi apakah seorang pelanggan merasa puas atau tidak terhadap maskapai penerbangan berdasarkan data yang tersedia, menggunakan algoritma Logistic Regression. Masalah ini termasuk dalam kategori klasifikasi biner, di mana target variabelnya adalah apakah pelanggan merasa puas atau tidak (satisfaction).\n",
    "\n",
    "2. **Studi Kasus Prediksi Harga Pembelian Mobil**\n",
    "\n",
    "  Pada studi kasus kedua ini, praktikan diharapkan untuk memprediksi harga yang akan dibayar pelanggan untuk membeli mobil baru menggunakan algoritma Linear Regression. Masalah ini termasuk dalam kategori regresi, di mana kita memprediksi nilai kontinu (harga mobil).\n",
    "\n",
    "3. **Studi Kasus Segmentasi Pelanggan Berdasarkan Perilaku Pembelian**\n",
    "\n",
    "  Pada studi kasus ketiga ini, praktikan diharapkan untuk mengelompokkan pelanggan ke dalam klaster-klaster berdasarkan pola perilaku pembelian mereka menggunakan algoritma K-Means Clustering. Ini adalah contoh unsupervised learning di mana kita tidak memiliki target variabel, tetapi kita mencoba mengelompokkan data berdasarkan kesamaan fitur."
   ]
  },
  {
   "cell_type": "markdown",
   "metadata": {
    "id": "qWJYNKZyVIt7"
   },
   "source": [
    "### Dataset"
   ]
  },
  {
   "cell_type": "markdown",
   "metadata": {
    "id": "TDt2GfPCznNG"
   },
   "source": [
    "- **Dataset Airline** Dataset ini terdiri dari 129.880 baris dengan 24 kolom yang sudah melalui preprocessing. Data memiliki 14 kolom kategorikal yang telah diencoding menjadi bilangan diskrit, seperti Gender, Customer Type, Type of Travel, dan Class. Sisanya terdapat 10 kolom dengan nilai kontinu seperti Age, Flight Distance, Departure Delay, Arrival Delay, serta berbagai rating (Inflight wifi service, Departure/Arrival time convenience, dll). Fitur target pada studi kasus ini adalah kolom **satisfaction** (satisfied/dissatisfied), sementara kolom lainnya digunakan sebagai fitur untuk melatih model klasifikasi logistic regression.\n",
    "\n",
    "- **Dataset Taxi** Dataset ini berisi 500 baris dengan 9 kolom yang telah diproses. Terdapat 3 kolom kategorikal yang sudah diencoding menjadi numerik diskrit (Gender, Country, dan Education). Lima kolom lainnya mengandung nilai kontinu yaitu Age, Annual Salary, Credit Card Debt, Net Worth, dan fitur target **Car Purchase Amount**. Studi kasus ini menggunakan regresi linear dengan target prediksi jumlah pembelian mobil, sementara fitur seperti pendapatan tahunan dan kekayaan bersih menjadi variabel prediktor.\n",
    "\n",
    "- **Dataset Buku (Goodreads)** Dataset terdiri dari 200 baris dengan 8 kolom pascapreprocessing. Seluruh kolom berupa nilai kontinu (Age, Annual Income dalam $, Spending Score 1-100, dll) tanpa kolom target eksplisit, karena K-Means merupakan unsupervised learning. Empat fitur utama yang digunakan untuk segmentasi adalah Gender (yang telah diencoding), Age, Income, dan Spending Score. Model akan mengelompokkan customer ke dalam cluster berdasarkan kesamaan karakteristik tersebut."
   ]
  },
  {
   "cell_type": "markdown",
   "metadata": {
    "id": "veH-q4ZSQQNh"
   },
   "source": [
    "## Outline Pengerjaan"
   ]
  },
  {
   "cell_type": "markdown",
   "metadata": {
    "id": "pKegL7JfQcSK"
   },
   "source": [
    "1.   Read Data: Membaca data yang akan dipakai untuk dimodelkan\n",
    "2.   Pre-Modelling: Tahapan sebelum pemodelan, biasanya labelling dan split data, digunakan untuk menentukan target dan pembagian proporsi data latih & data uji\n",
    "3. Build Model: Membuat model data menggunakan algoritma yang sudah disesuaikan dengan data dan melatihnya\n",
    "4. Evaluate Model (before tuning): Mengevaluasi hasil prediksi dari model yang sudah dilatih\n",
    "5. Model Tuning: Melakukan optimasi model dengan mencari parameter terbaik\n",
    "6. Evaluiate Model (after tuning): Mengevaluasi hasil prediksi dari model yang sudah dituning\n",
    "\n"
   ]
  },
  {
   "cell_type": "markdown",
   "metadata": {
    "id": "rLfS0od3TZ39"
   },
   "source": [
    "## Studi Kasus Prediksi Kepuasan Pelanggan Maskapai (Logistic Regression)"
   ]
  },
  {
   "cell_type": "markdown",
   "metadata": {
    "id": "SEM_zrxXVh57"
   },
   "source": [
    "### Read Data"
   ]
  },
  {
   "cell_type": "markdown",
   "metadata": {
    "id": "P4_1UdR8Vm6y"
   },
   "source": [
    "Pertama, kita akan membaca dan melihat ringkasan statistik dari dataset menggunakan pandas dan menampilkan beberapa baris awal untuk memahami struktur data.\n",
    "\n",
    "**Hint: library pandas, menggunkan read_csv(), head(), describe(), dan data = df**"
   ]
  },
  {
   "cell_type": "code",
   "execution_count": 174,
   "metadata": {
    "id": "maP7WudoVoEw"
   },
   "outputs": [
    {
     "name": "stdout",
     "output_type": "stream",
     "text": [
      "   satisfaction  Gender  Customer Type       Age  Type of Travel  Class  \\\n",
      "0             1       0              0  1.691351               1      1   \n",
      "1             1       1              0  0.500820               1      0   \n",
      "2             1       0              0 -1.615680               1      1   \n",
      "3             1       0              0  1.360648               1      1   \n",
      "4             1       0              0  2.022054               1      1   \n",
      "\n",
      "   Flight Distance  Seat comfort  Departure/Arrival time convenient  \\\n",
      "0        -1.671103             0                                  0   \n",
      "1         0.469852             0                                  0   \n",
      "2         0.152458             0                                  0   \n",
      "3        -1.322552             0                                  0   \n",
      "4        -1.584452             0                                  0   \n",
      "\n",
      "   Food and drink  ...  Online support  Ease of Online booking  \\\n",
      "0               0  ...               2                       3   \n",
      "1               0  ...               2                       3   \n",
      "2               0  ...               2                       2   \n",
      "3               0  ...               3                       1   \n",
      "4               0  ...               4                       2   \n",
      "\n",
      "   On-board service  Leg room service  Baggage handling  Checkin service  \\\n",
      "0                 3                 0                 3                5   \n",
      "1                 4                 4                 4                2   \n",
      "2                 3                 3                 4                4   \n",
      "3                 1                 0                 1                4   \n",
      "4                 2                 0                 2                4   \n",
      "\n",
      "   Cleanliness  Online boarding  Departure Delay in Minutes  \\\n",
      "0            3                2                   -0.386481   \n",
      "1            3                2                    7.756204   \n",
      "2            4                2                   -0.386481   \n",
      "3            1                3                   -0.386481   \n",
      "4            2                5                   -0.386481   \n",
      "\n",
      "   Arrival Delay in Minutes  \n",
      "0                 -0.391644  \n",
      "1                  7.547714  \n",
      "2                 -0.391644  \n",
      "3                 -0.391644  \n",
      "4                 -0.391644  \n",
      "\n",
      "[5 rows x 23 columns]\n"
     ]
    }
   ],
   "source": [
    "import pandas as pd\n",
    "\n",
    "df = pd.read_csv('../Resource/Data_TP2_Logistic-Regression.csv')\n",
    "\n",
    "print(df.head())"
   ]
  },
  {
   "cell_type": "markdown",
   "metadata": {
    "id": "mQeEaHkvMrzm"
   },
   "source": [
    "melihat ringkasan statistik\n",
    "\n",
    "**Hint: describe()**"
   ]
  },
  {
   "cell_type": "code",
   "execution_count": 175,
   "metadata": {
    "id": "IMlRQfiZz-S_"
   },
   "outputs": [
    {
     "name": "stdout",
     "output_type": "stream",
     "text": [
      "        satisfaction         Gender  Customer Type           Age  \\\n",
      "count  129880.000000  129880.000000  129880.000000  1.298800e+05   \n",
      "mean        0.547328       0.492616       0.183092 -1.050387e-16   \n",
      "std         0.497757       0.499947       0.386743  1.000004e+00   \n",
      "min         0.000000       0.000000       0.000000 -2.144805e+00   \n",
      "25%         0.000000       0.000000       0.000000 -8.219928e-01   \n",
      "50%         1.000000       0.000000       0.000000  3.783531e-02   \n",
      "75%         1.000000       1.000000       0.000000  7.653821e-01   \n",
      "max         1.000000       1.000000       1.000000  3.014163e+00   \n",
      "\n",
      "       Type of Travel          Class  Flight Distance   Seat comfort  \\\n",
      "count   129880.000000  129880.000000     1.298800e+05  129880.000000   \n",
      "mean         0.309416       0.593864     1.032880e-16       2.838597   \n",
      "std          0.462255       0.621378     1.000004e+00       1.392983   \n",
      "min          0.000000       0.000000    -1.880428e+00       0.000000   \n",
      "25%          0.000000       0.000000    -6.059799e-01       2.000000   \n",
      "50%          0.000000       1.000000    -5.492008e-02       3.000000   \n",
      "75%          1.000000       1.000000     5.477408e-01       4.000000   \n",
      "max          1.000000       2.000000     4.838414e+00       5.000000   \n",
      "\n",
      "       Departure/Arrival time convenient  Food and drink  ...  Online support  \\\n",
      "count                      129880.000000   129880.000000  ...   129880.000000   \n",
      "mean                            2.990645        2.851994  ...        3.519703   \n",
      "std                             1.527224        1.443729  ...        1.306511   \n",
      "min                             0.000000        0.000000  ...        0.000000   \n",
      "25%                             2.000000        2.000000  ...        3.000000   \n",
      "50%                             3.000000        3.000000  ...        4.000000   \n",
      "75%                             4.000000        4.000000  ...        5.000000   \n",
      "max                             5.000000        5.000000  ...        5.000000   \n",
      "\n",
      "       Ease of Online booking  On-board service  Leg room service  \\\n",
      "count           129880.000000     129880.000000     129880.000000   \n",
      "mean                 3.472105          3.465075          3.485902   \n",
      "std                  1.305560          1.270836          1.292226   \n",
      "min                  0.000000          0.000000          0.000000   \n",
      "25%                  2.000000          3.000000          2.000000   \n",
      "50%                  4.000000          4.000000          4.000000   \n",
      "75%                  5.000000          4.000000          5.000000   \n",
      "max                  5.000000          5.000000          5.000000   \n",
      "\n",
      "       Baggage handling  Checkin service    Cleanliness  Online boarding  \\\n",
      "count     129880.000000    129880.000000  129880.000000    129880.000000   \n",
      "mean           3.695673         3.340807       3.705759         3.352587   \n",
      "std            1.156483         1.260582       1.151774         1.298715   \n",
      "min            1.000000         0.000000       0.000000         0.000000   \n",
      "25%            3.000000         3.000000       3.000000         2.000000   \n",
      "50%            4.000000         3.000000       4.000000         4.000000   \n",
      "75%            5.000000         4.000000       5.000000         4.000000   \n",
      "max            5.000000         5.000000       5.000000         5.000000   \n",
      "\n",
      "       Departure Delay in Minutes  Arrival Delay in Minutes  \n",
      "count                1.298800e+05              1.298800e+05  \n",
      "mean                 4.770506e-17              1.028503e-17  \n",
      "std                  1.000004e+00              1.000004e+00  \n",
      "min                 -3.864811e-01             -3.916437e-01  \n",
      "25%                 -3.864811e-01             -3.916437e-01  \n",
      "50%                 -3.864811e-01             -3.916437e-01  \n",
      "75%                 -7.128035e-02             -5.324485e-02  \n",
      "max                  4.143015e+01              4.084096e+01  \n",
      "\n",
      "[8 rows x 23 columns]\n"
     ]
    }
   ],
   "source": [
    "print(df.describe())"
   ]
  },
  {
   "cell_type": "markdown",
   "metadata": {
    "id": "RAAOZAc-Tzo5"
   },
   "source": [
    "### Pre-Modelling"
   ]
  },
  {
   "cell_type": "markdown",
   "metadata": {
    "id": "306wwMHyY5YR"
   },
   "source": [
    "Sebelum membangun model, praktikan melakukan pelabelan data untuk memilih fitur yang dijadikan target dan memisahkan data latih dan data uji sesuai ketentuan"
   ]
  },
  {
   "cell_type": "markdown",
   "metadata": {
    "id": "roz4Mu9s4KB8"
   },
   "source": [
    "#### Labelling Data"
   ]
  },
  {
   "cell_type": "markdown",
   "metadata": {
    "id": "Tw8m5SnE44Bn"
   },
   "source": [
    "Memilih fitur yang akan dijadikan target (variabel dependen) yaitu kolom **satisfaction** dan fitur yang digunakan untuk melatih model (variabel independen) yaitu **selain kolom satisfaction**\n",
    "\n",
    "**Hint: drop()**"
   ]
  },
  {
   "cell_type": "code",
   "execution_count": 176,
   "metadata": {
    "id": "41tgfrfwOPpO"
   },
   "outputs": [],
   "source": [
    "X = df.drop(columns=['satisfaction']) \n",
    "y = df['satisfaction'] "
   ]
  },
  {
   "cell_type": "markdown",
   "metadata": {
    "id": "qmQoBAjNT8Bk"
   },
   "source": [
    "#### Split Dataset"
   ]
  },
  {
   "cell_type": "markdown",
   "metadata": {
    "id": "k67s7Xc5eErR"
   },
   "source": [
    "Memisahkan data uji dan data latih sesuai kebutuhan model"
   ]
  },
  {
   "cell_type": "markdown",
   "metadata": {
    "id": "hrkbsy5sW6Zk"
   },
   "source": [
    "Import library yang digunakan\n",
    "\n",
    "**Hint: sklearn.model_selection (train_test_split)**"
   ]
  },
  {
   "cell_type": "code",
   "execution_count": 177,
   "metadata": {
    "id": "Kd6SVDQEWzeT"
   },
   "outputs": [],
   "source": [
    "from sklearn.model_selection import train_test_split"
   ]
  },
  {
   "cell_type": "markdown",
   "metadata": {
    "id": "si-8kgFZXQ-5"
   },
   "source": [
    "Split dataset untuk training dan testing, atur size data uji sebanyak 20%\n",
    "\n",
    "**Hint: Pisahkan variabel latih dan variabel uji menggunakan function train_test_split serta atur sizenya**"
   ]
  },
  {
   "cell_type": "code",
   "execution_count": 178,
   "metadata": {
    "id": "Xz3YNiUg4e1c"
   },
   "outputs": [],
   "source": [
    "X_train, X_test, y_train, y_test = train_test_split(X, y, test_size=0.2, random_state=42)"
   ]
  },
  {
   "cell_type": "markdown",
   "metadata": {
    "id": "g7fRXxYGYcVR"
   },
   "source": [
    "### Build Model"
   ]
  },
  {
   "cell_type": "markdown",
   "metadata": {
    "id": "G_RzpboUZVxh"
   },
   "source": [
    "Praktikan membangun model logistic regression dengan data yang sudah dipersiapkan pada tahap sebelumnya"
   ]
  },
  {
   "cell_type": "markdown",
   "metadata": {
    "id": "ZXptBEywYupP"
   },
   "source": [
    "Import library yang digunakan\n",
    "\n",
    "**Hint: sklearn.linear_model (LogisticRegression)**"
   ]
  },
  {
   "cell_type": "code",
   "execution_count": 179,
   "metadata": {
    "id": "y3UBKTBg4YgO"
   },
   "outputs": [],
   "source": [
    "from sklearn.linear_model import LogisticRegression\n",
    "\n"
   ]
  },
  {
   "cell_type": "markdown",
   "metadata": {
    "id": "9hrepFDKbOZw"
   },
   "source": [
    "Melatih model logistic regression\n",
    "\n",
    "**Hint: .fit() dan tentukan max_iter nya yaitu 1000**"
   ]
  },
  {
   "cell_type": "code",
   "execution_count": 180,
   "metadata": {
    "id": "tQweigC_ak4D"
   },
   "outputs": [
    {
     "data": {
      "text/html": [
       "<style>#sk-container-id-10 {\n",
       "  /* Definition of color scheme common for light and dark mode */\n",
       "  --sklearn-color-text: #000;\n",
       "  --sklearn-color-text-muted: #666;\n",
       "  --sklearn-color-line: gray;\n",
       "  /* Definition of color scheme for unfitted estimators */\n",
       "  --sklearn-color-unfitted-level-0: #fff5e6;\n",
       "  --sklearn-color-unfitted-level-1: #f6e4d2;\n",
       "  --sklearn-color-unfitted-level-2: #ffe0b3;\n",
       "  --sklearn-color-unfitted-level-3: chocolate;\n",
       "  /* Definition of color scheme for fitted estimators */\n",
       "  --sklearn-color-fitted-level-0: #f0f8ff;\n",
       "  --sklearn-color-fitted-level-1: #d4ebff;\n",
       "  --sklearn-color-fitted-level-2: #b3dbfd;\n",
       "  --sklearn-color-fitted-level-3: cornflowerblue;\n",
       "\n",
       "  /* Specific color for light theme */\n",
       "  --sklearn-color-text-on-default-background: var(--sg-text-color, var(--theme-code-foreground, var(--jp-content-font-color1, black)));\n",
       "  --sklearn-color-background: var(--sg-background-color, var(--theme-background, var(--jp-layout-color0, white)));\n",
       "  --sklearn-color-border-box: var(--sg-text-color, var(--theme-code-foreground, var(--jp-content-font-color1, black)));\n",
       "  --sklearn-color-icon: #696969;\n",
       "\n",
       "  @media (prefers-color-scheme: dark) {\n",
       "    /* Redefinition of color scheme for dark theme */\n",
       "    --sklearn-color-text-on-default-background: var(--sg-text-color, var(--theme-code-foreground, var(--jp-content-font-color1, white)));\n",
       "    --sklearn-color-background: var(--sg-background-color, var(--theme-background, var(--jp-layout-color0, #111)));\n",
       "    --sklearn-color-border-box: var(--sg-text-color, var(--theme-code-foreground, var(--jp-content-font-color1, white)));\n",
       "    --sklearn-color-icon: #878787;\n",
       "  }\n",
       "}\n",
       "\n",
       "#sk-container-id-10 {\n",
       "  color: var(--sklearn-color-text);\n",
       "}\n",
       "\n",
       "#sk-container-id-10 pre {\n",
       "  padding: 0;\n",
       "}\n",
       "\n",
       "#sk-container-id-10 input.sk-hidden--visually {\n",
       "  border: 0;\n",
       "  clip: rect(1px 1px 1px 1px);\n",
       "  clip: rect(1px, 1px, 1px, 1px);\n",
       "  height: 1px;\n",
       "  margin: -1px;\n",
       "  overflow: hidden;\n",
       "  padding: 0;\n",
       "  position: absolute;\n",
       "  width: 1px;\n",
       "}\n",
       "\n",
       "#sk-container-id-10 div.sk-dashed-wrapped {\n",
       "  border: 1px dashed var(--sklearn-color-line);\n",
       "  margin: 0 0.4em 0.5em 0.4em;\n",
       "  box-sizing: border-box;\n",
       "  padding-bottom: 0.4em;\n",
       "  background-color: var(--sklearn-color-background);\n",
       "}\n",
       "\n",
       "#sk-container-id-10 div.sk-container {\n",
       "  /* jupyter's `normalize.less` sets `[hidden] { display: none; }`\n",
       "     but bootstrap.min.css set `[hidden] { display: none !important; }`\n",
       "     so we also need the `!important` here to be able to override the\n",
       "     default hidden behavior on the sphinx rendered scikit-learn.org.\n",
       "     See: https://github.com/scikit-learn/scikit-learn/issues/21755 */\n",
       "  display: inline-block !important;\n",
       "  position: relative;\n",
       "}\n",
       "\n",
       "#sk-container-id-10 div.sk-text-repr-fallback {\n",
       "  display: none;\n",
       "}\n",
       "\n",
       "div.sk-parallel-item,\n",
       "div.sk-serial,\n",
       "div.sk-item {\n",
       "  /* draw centered vertical line to link estimators */\n",
       "  background-image: linear-gradient(var(--sklearn-color-text-on-default-background), var(--sklearn-color-text-on-default-background));\n",
       "  background-size: 2px 100%;\n",
       "  background-repeat: no-repeat;\n",
       "  background-position: center center;\n",
       "}\n",
       "\n",
       "/* Parallel-specific style estimator block */\n",
       "\n",
       "#sk-container-id-10 div.sk-parallel-item::after {\n",
       "  content: \"\";\n",
       "  width: 100%;\n",
       "  border-bottom: 2px solid var(--sklearn-color-text-on-default-background);\n",
       "  flex-grow: 1;\n",
       "}\n",
       "\n",
       "#sk-container-id-10 div.sk-parallel {\n",
       "  display: flex;\n",
       "  align-items: stretch;\n",
       "  justify-content: center;\n",
       "  background-color: var(--sklearn-color-background);\n",
       "  position: relative;\n",
       "}\n",
       "\n",
       "#sk-container-id-10 div.sk-parallel-item {\n",
       "  display: flex;\n",
       "  flex-direction: column;\n",
       "}\n",
       "\n",
       "#sk-container-id-10 div.sk-parallel-item:first-child::after {\n",
       "  align-self: flex-end;\n",
       "  width: 50%;\n",
       "}\n",
       "\n",
       "#sk-container-id-10 div.sk-parallel-item:last-child::after {\n",
       "  align-self: flex-start;\n",
       "  width: 50%;\n",
       "}\n",
       "\n",
       "#sk-container-id-10 div.sk-parallel-item:only-child::after {\n",
       "  width: 0;\n",
       "}\n",
       "\n",
       "/* Serial-specific style estimator block */\n",
       "\n",
       "#sk-container-id-10 div.sk-serial {\n",
       "  display: flex;\n",
       "  flex-direction: column;\n",
       "  align-items: center;\n",
       "  background-color: var(--sklearn-color-background);\n",
       "  padding-right: 1em;\n",
       "  padding-left: 1em;\n",
       "}\n",
       "\n",
       "\n",
       "/* Toggleable style: style used for estimator/Pipeline/ColumnTransformer box that is\n",
       "clickable and can be expanded/collapsed.\n",
       "- Pipeline and ColumnTransformer use this feature and define the default style\n",
       "- Estimators will overwrite some part of the style using the `sk-estimator` class\n",
       "*/\n",
       "\n",
       "/* Pipeline and ColumnTransformer style (default) */\n",
       "\n",
       "#sk-container-id-10 div.sk-toggleable {\n",
       "  /* Default theme specific background. It is overwritten whether we have a\n",
       "  specific estimator or a Pipeline/ColumnTransformer */\n",
       "  background-color: var(--sklearn-color-background);\n",
       "}\n",
       "\n",
       "/* Toggleable label */\n",
       "#sk-container-id-10 label.sk-toggleable__label {\n",
       "  cursor: pointer;\n",
       "  display: flex;\n",
       "  width: 100%;\n",
       "  margin-bottom: 0;\n",
       "  padding: 0.5em;\n",
       "  box-sizing: border-box;\n",
       "  text-align: center;\n",
       "  align-items: start;\n",
       "  justify-content: space-between;\n",
       "  gap: 0.5em;\n",
       "}\n",
       "\n",
       "#sk-container-id-10 label.sk-toggleable__label .caption {\n",
       "  font-size: 0.6rem;\n",
       "  font-weight: lighter;\n",
       "  color: var(--sklearn-color-text-muted);\n",
       "}\n",
       "\n",
       "#sk-container-id-10 label.sk-toggleable__label-arrow:before {\n",
       "  /* Arrow on the left of the label */\n",
       "  content: \"▸\";\n",
       "  float: left;\n",
       "  margin-right: 0.25em;\n",
       "  color: var(--sklearn-color-icon);\n",
       "}\n",
       "\n",
       "#sk-container-id-10 label.sk-toggleable__label-arrow:hover:before {\n",
       "  color: var(--sklearn-color-text);\n",
       "}\n",
       "\n",
       "/* Toggleable content - dropdown */\n",
       "\n",
       "#sk-container-id-10 div.sk-toggleable__content {\n",
       "  max-height: 0;\n",
       "  max-width: 0;\n",
       "  overflow: hidden;\n",
       "  text-align: left;\n",
       "  /* unfitted */\n",
       "  background-color: var(--sklearn-color-unfitted-level-0);\n",
       "}\n",
       "\n",
       "#sk-container-id-10 div.sk-toggleable__content.fitted {\n",
       "  /* fitted */\n",
       "  background-color: var(--sklearn-color-fitted-level-0);\n",
       "}\n",
       "\n",
       "#sk-container-id-10 div.sk-toggleable__content pre {\n",
       "  margin: 0.2em;\n",
       "  border-radius: 0.25em;\n",
       "  color: var(--sklearn-color-text);\n",
       "  /* unfitted */\n",
       "  background-color: var(--sklearn-color-unfitted-level-0);\n",
       "}\n",
       "\n",
       "#sk-container-id-10 div.sk-toggleable__content.fitted pre {\n",
       "  /* unfitted */\n",
       "  background-color: var(--sklearn-color-fitted-level-0);\n",
       "}\n",
       "\n",
       "#sk-container-id-10 input.sk-toggleable__control:checked~div.sk-toggleable__content {\n",
       "  /* Expand drop-down */\n",
       "  max-height: 200px;\n",
       "  max-width: 100%;\n",
       "  overflow: auto;\n",
       "}\n",
       "\n",
       "#sk-container-id-10 input.sk-toggleable__control:checked~label.sk-toggleable__label-arrow:before {\n",
       "  content: \"▾\";\n",
       "}\n",
       "\n",
       "/* Pipeline/ColumnTransformer-specific style */\n",
       "\n",
       "#sk-container-id-10 div.sk-label input.sk-toggleable__control:checked~label.sk-toggleable__label {\n",
       "  color: var(--sklearn-color-text);\n",
       "  background-color: var(--sklearn-color-unfitted-level-2);\n",
       "}\n",
       "\n",
       "#sk-container-id-10 div.sk-label.fitted input.sk-toggleable__control:checked~label.sk-toggleable__label {\n",
       "  background-color: var(--sklearn-color-fitted-level-2);\n",
       "}\n",
       "\n",
       "/* Estimator-specific style */\n",
       "\n",
       "/* Colorize estimator box */\n",
       "#sk-container-id-10 div.sk-estimator input.sk-toggleable__control:checked~label.sk-toggleable__label {\n",
       "  /* unfitted */\n",
       "  background-color: var(--sklearn-color-unfitted-level-2);\n",
       "}\n",
       "\n",
       "#sk-container-id-10 div.sk-estimator.fitted input.sk-toggleable__control:checked~label.sk-toggleable__label {\n",
       "  /* fitted */\n",
       "  background-color: var(--sklearn-color-fitted-level-2);\n",
       "}\n",
       "\n",
       "#sk-container-id-10 div.sk-label label.sk-toggleable__label,\n",
       "#sk-container-id-10 div.sk-label label {\n",
       "  /* The background is the default theme color */\n",
       "  color: var(--sklearn-color-text-on-default-background);\n",
       "}\n",
       "\n",
       "/* On hover, darken the color of the background */\n",
       "#sk-container-id-10 div.sk-label:hover label.sk-toggleable__label {\n",
       "  color: var(--sklearn-color-text);\n",
       "  background-color: var(--sklearn-color-unfitted-level-2);\n",
       "}\n",
       "\n",
       "/* Label box, darken color on hover, fitted */\n",
       "#sk-container-id-10 div.sk-label.fitted:hover label.sk-toggleable__label.fitted {\n",
       "  color: var(--sklearn-color-text);\n",
       "  background-color: var(--sklearn-color-fitted-level-2);\n",
       "}\n",
       "\n",
       "/* Estimator label */\n",
       "\n",
       "#sk-container-id-10 div.sk-label label {\n",
       "  font-family: monospace;\n",
       "  font-weight: bold;\n",
       "  display: inline-block;\n",
       "  line-height: 1.2em;\n",
       "}\n",
       "\n",
       "#sk-container-id-10 div.sk-label-container {\n",
       "  text-align: center;\n",
       "}\n",
       "\n",
       "/* Estimator-specific */\n",
       "#sk-container-id-10 div.sk-estimator {\n",
       "  font-family: monospace;\n",
       "  border: 1px dotted var(--sklearn-color-border-box);\n",
       "  border-radius: 0.25em;\n",
       "  box-sizing: border-box;\n",
       "  margin-bottom: 0.5em;\n",
       "  /* unfitted */\n",
       "  background-color: var(--sklearn-color-unfitted-level-0);\n",
       "}\n",
       "\n",
       "#sk-container-id-10 div.sk-estimator.fitted {\n",
       "  /* fitted */\n",
       "  background-color: var(--sklearn-color-fitted-level-0);\n",
       "}\n",
       "\n",
       "/* on hover */\n",
       "#sk-container-id-10 div.sk-estimator:hover {\n",
       "  /* unfitted */\n",
       "  background-color: var(--sklearn-color-unfitted-level-2);\n",
       "}\n",
       "\n",
       "#sk-container-id-10 div.sk-estimator.fitted:hover {\n",
       "  /* fitted */\n",
       "  background-color: var(--sklearn-color-fitted-level-2);\n",
       "}\n",
       "\n",
       "/* Specification for estimator info (e.g. \"i\" and \"?\") */\n",
       "\n",
       "/* Common style for \"i\" and \"?\" */\n",
       "\n",
       ".sk-estimator-doc-link,\n",
       "a:link.sk-estimator-doc-link,\n",
       "a:visited.sk-estimator-doc-link {\n",
       "  float: right;\n",
       "  font-size: smaller;\n",
       "  line-height: 1em;\n",
       "  font-family: monospace;\n",
       "  background-color: var(--sklearn-color-background);\n",
       "  border-radius: 1em;\n",
       "  height: 1em;\n",
       "  width: 1em;\n",
       "  text-decoration: none !important;\n",
       "  margin-left: 0.5em;\n",
       "  text-align: center;\n",
       "  /* unfitted */\n",
       "  border: var(--sklearn-color-unfitted-level-1) 1pt solid;\n",
       "  color: var(--sklearn-color-unfitted-level-1);\n",
       "}\n",
       "\n",
       ".sk-estimator-doc-link.fitted,\n",
       "a:link.sk-estimator-doc-link.fitted,\n",
       "a:visited.sk-estimator-doc-link.fitted {\n",
       "  /* fitted */\n",
       "  border: var(--sklearn-color-fitted-level-1) 1pt solid;\n",
       "  color: var(--sklearn-color-fitted-level-1);\n",
       "}\n",
       "\n",
       "/* On hover */\n",
       "div.sk-estimator:hover .sk-estimator-doc-link:hover,\n",
       ".sk-estimator-doc-link:hover,\n",
       "div.sk-label-container:hover .sk-estimator-doc-link:hover,\n",
       ".sk-estimator-doc-link:hover {\n",
       "  /* unfitted */\n",
       "  background-color: var(--sklearn-color-unfitted-level-3);\n",
       "  color: var(--sklearn-color-background);\n",
       "  text-decoration: none;\n",
       "}\n",
       "\n",
       "div.sk-estimator.fitted:hover .sk-estimator-doc-link.fitted:hover,\n",
       ".sk-estimator-doc-link.fitted:hover,\n",
       "div.sk-label-container:hover .sk-estimator-doc-link.fitted:hover,\n",
       ".sk-estimator-doc-link.fitted:hover {\n",
       "  /* fitted */\n",
       "  background-color: var(--sklearn-color-fitted-level-3);\n",
       "  color: var(--sklearn-color-background);\n",
       "  text-decoration: none;\n",
       "}\n",
       "\n",
       "/* Span, style for the box shown on hovering the info icon */\n",
       ".sk-estimator-doc-link span {\n",
       "  display: none;\n",
       "  z-index: 9999;\n",
       "  position: relative;\n",
       "  font-weight: normal;\n",
       "  right: .2ex;\n",
       "  padding: .5ex;\n",
       "  margin: .5ex;\n",
       "  width: min-content;\n",
       "  min-width: 20ex;\n",
       "  max-width: 50ex;\n",
       "  color: var(--sklearn-color-text);\n",
       "  box-shadow: 2pt 2pt 4pt #999;\n",
       "  /* unfitted */\n",
       "  background: var(--sklearn-color-unfitted-level-0);\n",
       "  border: .5pt solid var(--sklearn-color-unfitted-level-3);\n",
       "}\n",
       "\n",
       ".sk-estimator-doc-link.fitted span {\n",
       "  /* fitted */\n",
       "  background: var(--sklearn-color-fitted-level-0);\n",
       "  border: var(--sklearn-color-fitted-level-3);\n",
       "}\n",
       "\n",
       ".sk-estimator-doc-link:hover span {\n",
       "  display: block;\n",
       "}\n",
       "\n",
       "/* \"?\"-specific style due to the `<a>` HTML tag */\n",
       "\n",
       "#sk-container-id-10 a.estimator_doc_link {\n",
       "  float: right;\n",
       "  font-size: 1rem;\n",
       "  line-height: 1em;\n",
       "  font-family: monospace;\n",
       "  background-color: var(--sklearn-color-background);\n",
       "  border-radius: 1rem;\n",
       "  height: 1rem;\n",
       "  width: 1rem;\n",
       "  text-decoration: none;\n",
       "  /* unfitted */\n",
       "  color: var(--sklearn-color-unfitted-level-1);\n",
       "  border: var(--sklearn-color-unfitted-level-1) 1pt solid;\n",
       "}\n",
       "\n",
       "#sk-container-id-10 a.estimator_doc_link.fitted {\n",
       "  /* fitted */\n",
       "  border: var(--sklearn-color-fitted-level-1) 1pt solid;\n",
       "  color: var(--sklearn-color-fitted-level-1);\n",
       "}\n",
       "\n",
       "/* On hover */\n",
       "#sk-container-id-10 a.estimator_doc_link:hover {\n",
       "  /* unfitted */\n",
       "  background-color: var(--sklearn-color-unfitted-level-3);\n",
       "  color: var(--sklearn-color-background);\n",
       "  text-decoration: none;\n",
       "}\n",
       "\n",
       "#sk-container-id-10 a.estimator_doc_link.fitted:hover {\n",
       "  /* fitted */\n",
       "  background-color: var(--sklearn-color-fitted-level-3);\n",
       "}\n",
       "</style><div id=\"sk-container-id-10\" class=\"sk-top-container\"><div class=\"sk-text-repr-fallback\"><pre>LogisticRegression(max_iter=1000)</pre><b>In a Jupyter environment, please rerun this cell to show the HTML representation or trust the notebook. <br />On GitHub, the HTML representation is unable to render, please try loading this page with nbviewer.org.</b></div><div class=\"sk-container\" hidden><div class=\"sk-item\"><div class=\"sk-estimator fitted sk-toggleable\"><input class=\"sk-toggleable__control sk-hidden--visually\" id=\"sk-estimator-id-16\" type=\"checkbox\" checked><label for=\"sk-estimator-id-16\" class=\"sk-toggleable__label fitted sk-toggleable__label-arrow\"><div><div>LogisticRegression</div></div><div><a class=\"sk-estimator-doc-link fitted\" rel=\"noreferrer\" target=\"_blank\" href=\"https://scikit-learn.org/1.6/modules/generated/sklearn.linear_model.LogisticRegression.html\">?<span>Documentation for LogisticRegression</span></a><span class=\"sk-estimator-doc-link fitted\">i<span>Fitted</span></span></div></label><div class=\"sk-toggleable__content fitted\"><pre>LogisticRegression(max_iter=1000)</pre></div> </div></div></div></div>"
      ],
      "text/plain": [
       "LogisticRegression(max_iter=1000)"
      ]
     },
     "execution_count": 180,
     "metadata": {},
     "output_type": "execute_result"
    }
   ],
   "source": [
    "model = LogisticRegression(max_iter=1000)\n",
    "model.fit(X_train, y_train)"
   ]
  },
  {
   "cell_type": "markdown",
   "metadata": {
    "id": "jg8RD-yubzIq"
   },
   "source": [
    "Membuat prediksi dari model yang sudah dilatih\n",
    "\n",
    "**Hint: .predict()**"
   ]
  },
  {
   "cell_type": "code",
   "execution_count": 181,
   "metadata": {
    "id": "A6mLw2cLanQ7"
   },
   "outputs": [],
   "source": [
    "y_pred = model.predict(X_test)"
   ]
  },
  {
   "cell_type": "markdown",
   "metadata": {
    "id": "Wp2746NJctHM"
   },
   "source": [
    "### Evaluate the model (before tuning)"
   ]
  },
  {
   "cell_type": "markdown",
   "metadata": {
    "id": "SJvAyVEsc0ZF"
   },
   "source": [
    "Setelah membangun model dengan melatih dan memprediksi, selanjutnya praktikan mengevaluasi model"
   ]
  },
  {
   "cell_type": "markdown",
   "metadata": {
    "id": "4KKXq4p1Q1vP"
   },
   "source": [
    "Import library yang digunakan\n",
    "\n",
    "**Hint: statsmodels.api (sm), numpy (np), sklearn.metrics (accuracy_score, confusion_matrix, classification_report)**"
   ]
  },
  {
   "cell_type": "code",
   "execution_count": 182,
   "metadata": {
    "id": "WZgai2IxQ1_a"
   },
   "outputs": [],
   "source": [
    "import numpy as np\n",
    "from sklearn.metrics import accuracy_score, confusion_matrix, classification_report\n",
    "\n",
    "import statsmodels.api as sm"
   ]
  },
  {
   "cell_type": "markdown",
   "metadata": {
    "id": "8FvhIXpIU5F9"
   },
   "source": [
    "Mendapatkan Intercept dan Koefisien dari model\n",
    "\n",
    "**Hint: model.intercept_[], model.coef_[]**"
   ]
  },
  {
   "cell_type": "code",
   "execution_count": 183,
   "metadata": {
    "id": "ErS17vkpU5wH"
   },
   "outputs": [
    {
     "name": "stdout",
     "output_type": "stream",
     "text": [
      "Intercept: -5.529572234665002\n",
      "Coefficients: [-0.96253502 -2.04604008 -0.11435806 -0.9123854  -0.50266289 -0.11202761\n",
      "  0.28527705 -0.20048707 -0.22187055  0.12322225 -0.06968996  0.70060731\n",
      "  0.09007356  0.20979466  0.31465739  0.22223678  0.11656676  0.29637144\n",
      "  0.08437253  0.17071955  0.09072165 -0.29431149]\n"
     ]
    }
   ],
   "source": [
    "intercept = model.intercept_[0]\n",
    "coefficients = model.coef_[0]\n",
    "\n",
    "print(\"Intercept:\", intercept)\n",
    "print(\"Coefficients:\", coefficients)"
   ]
  },
  {
   "cell_type": "markdown",
   "metadata": {
    "id": "KEaMw4O9VbNk"
   },
   "source": [
    "Menampilkan intercept dan koefisien\n",
    "\n",
    "**Hint: print()**"
   ]
  },
  {
   "cell_type": "code",
   "execution_count": 184,
   "metadata": {
    "id": "pSyks3NbQ58y"
   },
   "outputs": [
    {
     "name": "stdout",
     "output_type": "stream",
     "text": [
      "Intercept: -5.529572234665002\n",
      "Coefficients: [-0.96253502 -2.04604008 -0.11435806 -0.9123854  -0.50266289 -0.11202761\n",
      "  0.28527705 -0.20048707 -0.22187055  0.12322225 -0.06968996  0.70060731\n",
      "  0.09007356  0.20979466  0.31465739  0.22223678  0.11656676  0.29637144\n",
      "  0.08437253  0.17071955  0.09072165 -0.29431149]\n"
     ]
    }
   ],
   "source": [
    "print(\"Intercept:\", intercept)\n",
    "print(\"Coefficients:\", coefficients)"
   ]
  },
  {
   "cell_type": "markdown",
   "metadata": {
    "id": "R7utIellV2As"
   },
   "source": [
    "mendapatkan p-value dari model\n",
    "\n",
    "**Hint: sm.add_constant(), sm.Logit(), logit_model.fit()**"
   ]
  },
  {
   "cell_type": "code",
   "execution_count": 185,
   "metadata": {
    "id": "3dBL341wVXYP"
   },
   "outputs": [
    {
     "name": "stdout",
     "output_type": "stream",
     "text": [
      "Optimization terminated successfully.\n",
      "         Current function value: 0.385837\n",
      "         Iterations 7\n",
      "                           Logit Regression Results                           \n",
      "==============================================================================\n",
      "Dep. Variable:           satisfaction   No. Observations:               103904\n",
      "Model:                          Logit   Df Residuals:                   103881\n",
      "Method:                           MLE   Df Model:                           22\n",
      "Date:                Sat, 19 Apr 2025   Pseudo R-squ.:                  0.4399\n",
      "Time:                        20:21:52   Log-Likelihood:                -40090.\n",
      "converged:                       True   LL-Null:                       -71570.\n",
      "Covariance Type:            nonrobust   LLR p-value:                     0.000\n",
      "=====================================================================================================\n",
      "                                        coef    std err          z      P>|z|      [0.025      0.975]\n",
      "-----------------------------------------------------------------------------------------------------\n",
      "const                                -5.5304      0.060    -92.826      0.000      -5.647      -5.414\n",
      "Gender                               -0.9623      0.018    -52.430      0.000      -0.998      -0.926\n",
      "Customer Type                        -2.0480      0.028    -74.449      0.000      -2.102      -1.994\n",
      "Age                                  -0.1146      0.010    -11.892      0.000      -0.133      -0.096\n",
      "Type of Travel                       -0.9126      0.024    -37.478      0.000      -0.960      -0.865\n",
      "Class                                -0.5025      0.017    -29.540      0.000      -0.536      -0.469\n",
      "Flight Distance                      -0.1123      0.010    -11.395      0.000      -0.132      -0.093\n",
      "Seat comfort                          0.2853      0.010     27.825      0.000       0.265       0.305\n",
      "Departure/Arrival time convenient    -0.2009      0.008    -26.569      0.000      -0.216      -0.186\n",
      "Food and drink                       -0.2217      0.010    -21.229      0.000      -0.242      -0.201\n",
      "Gate location                         0.1234      0.009     14.434      0.000       0.107       0.140\n",
      "Inflight wifi service                -0.0697      0.010     -7.033      0.000      -0.089      -0.050\n",
      "Inflight entertainment                0.7006      0.009     75.360      0.000       0.682       0.719\n",
      "Online support                        0.0898      0.010      8.941      0.000       0.070       0.110\n",
      "Ease of Online booking                0.2101      0.013     16.235      0.000       0.185       0.235\n",
      "On-board service                      0.3146      0.009     34.258      0.000       0.297       0.333\n",
      "Leg room service                      0.2221      0.008     28.377      0.000       0.207       0.237\n",
      "Baggage handling                      0.1167      0.010     11.263      0.000       0.096       0.137\n",
      "Checkin service                       0.2966      0.008     38.391      0.000       0.281       0.312\n",
      "Cleanliness                           0.0844      0.011      7.832      0.000       0.063       0.106\n",
      "Online boarding                       0.1707      0.011     15.359      0.000       0.149       0.193\n",
      "Departure Delay in Minutes            0.0907      0.031      2.887      0.004       0.029       0.152\n",
      "Arrival Delay in Minutes             -0.2941      0.031     -9.355      0.000      -0.356      -0.233\n",
      "=====================================================================================================\n"
     ]
    }
   ],
   "source": [
    "X_train_const = sm.add_constant(X_train)  \n",
    "logit_model = sm.Logit(y_train, X_train_const)  \n",
    "result = logit_model.fit()  \n",
    "\n",
    "print(result.summary()) "
   ]
  },
  {
   "cell_type": "markdown",
   "metadata": {
    "id": "hwyqJPwAWAaD"
   },
   "source": [
    "Menampilkan p-value dari variabel prediktor\n",
    "\n",
    "**Hint: print(), result.**"
   ]
  },
  {
   "cell_type": "code",
   "execution_count": 186,
   "metadata": {
    "id": "tiInRpnQV_5Q"
   },
   "outputs": [
    {
     "name": "stdout",
     "output_type": "stream",
     "text": [
      "const                                 0.000000e+00\n",
      "Gender                                0.000000e+00\n",
      "Customer Type                         0.000000e+00\n",
      "Age                                   1.306885e-32\n",
      "Type of Travel                       2.063448e-307\n",
      "Class                                8.821274e-192\n",
      "Flight Distance                       4.441995e-30\n",
      "Seat comfort                         2.151914e-170\n",
      "Departure/Arrival time convenient    1.537810e-155\n",
      "Food and drink                       5.142898e-100\n",
      "Gate location                         3.157833e-47\n",
      "Inflight wifi service                 2.025354e-12\n",
      "Inflight entertainment                0.000000e+00\n",
      "Online support                        3.858752e-19\n",
      "Ease of Online booking                2.835203e-59\n",
      "On-board service                     3.338512e-257\n",
      "Leg room service                     3.920909e-177\n",
      "Baggage handling                      1.991722e-29\n",
      "Checkin service                       0.000000e+00\n",
      "Cleanliness                           4.792854e-15\n",
      "Online boarding                       3.093681e-53\n",
      "Departure Delay in Minutes            3.889258e-03\n",
      "Arrival Delay in Minutes              8.379487e-21\n",
      "dtype: float64\n"
     ]
    }
   ],
   "source": [
    "print(result.pvalues)"
   ]
  },
  {
   "cell_type": "markdown",
   "metadata": {
    "id": "y8hE7u9JdYTF"
   },
   "source": [
    "Menampilkan akurasi hasil prediksi model\n",
    "\n",
    "**Hint: accuracy_score()**"
   ]
  },
  {
   "cell_type": "code",
   "execution_count": 187,
   "metadata": {
    "id": "-tN4_zLmae3p"
   },
   "outputs": [
    {
     "name": "stdout",
     "output_type": "stream",
     "text": [
      "Accuracy: 0.8371958731136434\n"
     ]
    }
   ],
   "source": [
    "accuracy = accuracy_score(y_test, y_pred)\n",
    "print(\"Accuracy:\", accuracy)"
   ]
  },
  {
   "cell_type": "markdown",
   "metadata": {
    "id": "pFl1niIgdpQA"
   },
   "source": [
    "Menampilkan confusion matrix hasil prediksi model\n",
    "\n",
    "**Hint: confusion_matrix()**"
   ]
  },
  {
   "cell_type": "code",
   "execution_count": 188,
   "metadata": {
    "id": "VrvxL0ytdTYx"
   },
   "outputs": [
    {
     "name": "stdout",
     "output_type": "stream",
     "text": [
      "Confusion Matrix:\n",
      "[[ 9582  2093]\n",
      " [ 2136 12165]]\n"
     ]
    }
   ],
   "source": [
    "conf_matrix = confusion_matrix(y_test, y_pred)\n",
    "print(\"Confusion Matrix:\")\n",
    "print(conf_matrix)"
   ]
  },
  {
   "cell_type": "markdown",
   "metadata": {
    "id": "OYmdnG9gRbfX"
   },
   "source": [
    "Menampilkan classification report hasil prediksi model\n",
    "\n",
    "**Hint: classification_report()**"
   ]
  },
  {
   "cell_type": "code",
   "execution_count": 189,
   "metadata": {
    "id": "xnSvHfJkQNDA"
   },
   "outputs": [
    {
     "name": "stdout",
     "output_type": "stream",
     "text": [
      "Classification Report:\n",
      "              precision    recall  f1-score   support\n",
      "\n",
      "           0       0.82      0.82      0.82     11675\n",
      "           1       0.85      0.85      0.85     14301\n",
      "\n",
      "    accuracy                           0.84     25976\n",
      "   macro avg       0.84      0.84      0.84     25976\n",
      "weighted avg       0.84      0.84      0.84     25976\n",
      "\n"
     ]
    }
   ],
   "source": [
    "report = classification_report(y_test, y_pred)\n",
    "print(\"Classification Report:\")\n",
    "print(report)"
   ]
  },
  {
   "cell_type": "markdown",
   "metadata": {
    "id": "o3JamQ-pgO3e"
   },
   "source": [
    "### Model Tuning\n"
   ]
  },
  {
   "cell_type": "markdown",
   "metadata": {
    "id": "R76YfWsViAp7"
   },
   "source": [
    "Melakukan tuning model dengan memilih hyperparameter secara otomatis menggunakan Grid Search\n",
    "\n",
    "**Implementasi Grid Search**\n",
    "\n",
    "Mengetahui nilai mana yang harus ditetapkan untuk parameter yang dicari memerlukan kombinasi pengetahuan dan praktik domain.\n",
    "\n",
    "Karena nilai default untuk C adalah 1, praktikan akan menetapkan rentang nilai di sekitarnya"
   ]
  },
  {
   "cell_type": "markdown",
   "metadata": {
    "id": "AnsLIwr3jBaT"
   },
   "source": [
    "Import library yang digunakan\n",
    "\n",
    "**Hint:sklearn.model_selection (GridSearchCV)**"
   ]
  },
  {
   "cell_type": "code",
   "execution_count": 190,
   "metadata": {
    "id": "6aubM_0HgR92"
   },
   "outputs": [],
   "source": [
    "from sklearn.model_selection import GridSearchCV"
   ]
  },
  {
   "cell_type": "markdown",
   "metadata": {
    "id": "dsJLRVgsjjnv"
   },
   "source": [
    "Tentukan parameter yang ingin dicoba, buat list nilai C pada param_grid = {}\n",
    "\n",
    "**Hint: buat nilai C rentang 0.25 - 2 (sekitar nilai 1) ,solver menggunakan saga , max_iter 1000**"
   ]
  },
  {
   "cell_type": "code",
   "execution_count": 191,
   "metadata": {
    "id": "EKk1DKcDjA3N",
    "vscode": {
     "languageId": "javascript"
    }
   },
   "outputs": [],
   "source": [
    "parms = {\n",
    "  'C': [0.25, 0.5, 0.75, 1, 1.25, 1.5, 1.75, 2],\n",
    "  'solver': ['saga'],\n",
    "  'max_iter': [1000]\n",
    "}"
   ]
  },
  {
   "cell_type": "markdown",
   "metadata": {
    "id": "la-t-vXdknW3"
   },
   "source": [
    "Inisialisasi model Logistic Regression kembali dan GridSearchCV\n",
    "\n",
    "**Hint: inisiasi LogisticRegression() dan GridSearchCV (estimator=..., param_grid=..)**"
   ]
  },
  {
   "cell_type": "code",
   "execution_count": 192,
   "metadata": {
    "id": "yVoQ3Wi5klaY"
   },
   "outputs": [],
   "source": [
    "logistic_model = LogisticRegression()\n",
    "grid_search = GridSearchCV(estimator=logistic_model, param_grid=parms, cv=5, scoring='accuracy')"
   ]
  },
  {
   "cell_type": "markdown",
   "metadata": {
    "id": "brGJxqRsnAnt"
   },
   "source": [
    "Fit model dengan data training\n",
    "\n",
    "**Hint: grid_search.fit()**"
   ]
  },
  {
   "cell_type": "code",
   "execution_count": 193,
   "metadata": {
    "id": "16jTyslak72J"
   },
   "outputs": [
    {
     "data": {
      "text/html": [
       "<style>#sk-container-id-11 {\n",
       "  /* Definition of color scheme common for light and dark mode */\n",
       "  --sklearn-color-text: #000;\n",
       "  --sklearn-color-text-muted: #666;\n",
       "  --sklearn-color-line: gray;\n",
       "  /* Definition of color scheme for unfitted estimators */\n",
       "  --sklearn-color-unfitted-level-0: #fff5e6;\n",
       "  --sklearn-color-unfitted-level-1: #f6e4d2;\n",
       "  --sklearn-color-unfitted-level-2: #ffe0b3;\n",
       "  --sklearn-color-unfitted-level-3: chocolate;\n",
       "  /* Definition of color scheme for fitted estimators */\n",
       "  --sklearn-color-fitted-level-0: #f0f8ff;\n",
       "  --sklearn-color-fitted-level-1: #d4ebff;\n",
       "  --sklearn-color-fitted-level-2: #b3dbfd;\n",
       "  --sklearn-color-fitted-level-3: cornflowerblue;\n",
       "\n",
       "  /* Specific color for light theme */\n",
       "  --sklearn-color-text-on-default-background: var(--sg-text-color, var(--theme-code-foreground, var(--jp-content-font-color1, black)));\n",
       "  --sklearn-color-background: var(--sg-background-color, var(--theme-background, var(--jp-layout-color0, white)));\n",
       "  --sklearn-color-border-box: var(--sg-text-color, var(--theme-code-foreground, var(--jp-content-font-color1, black)));\n",
       "  --sklearn-color-icon: #696969;\n",
       "\n",
       "  @media (prefers-color-scheme: dark) {\n",
       "    /* Redefinition of color scheme for dark theme */\n",
       "    --sklearn-color-text-on-default-background: var(--sg-text-color, var(--theme-code-foreground, var(--jp-content-font-color1, white)));\n",
       "    --sklearn-color-background: var(--sg-background-color, var(--theme-background, var(--jp-layout-color0, #111)));\n",
       "    --sklearn-color-border-box: var(--sg-text-color, var(--theme-code-foreground, var(--jp-content-font-color1, white)));\n",
       "    --sklearn-color-icon: #878787;\n",
       "  }\n",
       "}\n",
       "\n",
       "#sk-container-id-11 {\n",
       "  color: var(--sklearn-color-text);\n",
       "}\n",
       "\n",
       "#sk-container-id-11 pre {\n",
       "  padding: 0;\n",
       "}\n",
       "\n",
       "#sk-container-id-11 input.sk-hidden--visually {\n",
       "  border: 0;\n",
       "  clip: rect(1px 1px 1px 1px);\n",
       "  clip: rect(1px, 1px, 1px, 1px);\n",
       "  height: 1px;\n",
       "  margin: -1px;\n",
       "  overflow: hidden;\n",
       "  padding: 0;\n",
       "  position: absolute;\n",
       "  width: 1px;\n",
       "}\n",
       "\n",
       "#sk-container-id-11 div.sk-dashed-wrapped {\n",
       "  border: 1px dashed var(--sklearn-color-line);\n",
       "  margin: 0 0.4em 0.5em 0.4em;\n",
       "  box-sizing: border-box;\n",
       "  padding-bottom: 0.4em;\n",
       "  background-color: var(--sklearn-color-background);\n",
       "}\n",
       "\n",
       "#sk-container-id-11 div.sk-container {\n",
       "  /* jupyter's `normalize.less` sets `[hidden] { display: none; }`\n",
       "     but bootstrap.min.css set `[hidden] { display: none !important; }`\n",
       "     so we also need the `!important` here to be able to override the\n",
       "     default hidden behavior on the sphinx rendered scikit-learn.org.\n",
       "     See: https://github.com/scikit-learn/scikit-learn/issues/21755 */\n",
       "  display: inline-block !important;\n",
       "  position: relative;\n",
       "}\n",
       "\n",
       "#sk-container-id-11 div.sk-text-repr-fallback {\n",
       "  display: none;\n",
       "}\n",
       "\n",
       "div.sk-parallel-item,\n",
       "div.sk-serial,\n",
       "div.sk-item {\n",
       "  /* draw centered vertical line to link estimators */\n",
       "  background-image: linear-gradient(var(--sklearn-color-text-on-default-background), var(--sklearn-color-text-on-default-background));\n",
       "  background-size: 2px 100%;\n",
       "  background-repeat: no-repeat;\n",
       "  background-position: center center;\n",
       "}\n",
       "\n",
       "/* Parallel-specific style estimator block */\n",
       "\n",
       "#sk-container-id-11 div.sk-parallel-item::after {\n",
       "  content: \"\";\n",
       "  width: 100%;\n",
       "  border-bottom: 2px solid var(--sklearn-color-text-on-default-background);\n",
       "  flex-grow: 1;\n",
       "}\n",
       "\n",
       "#sk-container-id-11 div.sk-parallel {\n",
       "  display: flex;\n",
       "  align-items: stretch;\n",
       "  justify-content: center;\n",
       "  background-color: var(--sklearn-color-background);\n",
       "  position: relative;\n",
       "}\n",
       "\n",
       "#sk-container-id-11 div.sk-parallel-item {\n",
       "  display: flex;\n",
       "  flex-direction: column;\n",
       "}\n",
       "\n",
       "#sk-container-id-11 div.sk-parallel-item:first-child::after {\n",
       "  align-self: flex-end;\n",
       "  width: 50%;\n",
       "}\n",
       "\n",
       "#sk-container-id-11 div.sk-parallel-item:last-child::after {\n",
       "  align-self: flex-start;\n",
       "  width: 50%;\n",
       "}\n",
       "\n",
       "#sk-container-id-11 div.sk-parallel-item:only-child::after {\n",
       "  width: 0;\n",
       "}\n",
       "\n",
       "/* Serial-specific style estimator block */\n",
       "\n",
       "#sk-container-id-11 div.sk-serial {\n",
       "  display: flex;\n",
       "  flex-direction: column;\n",
       "  align-items: center;\n",
       "  background-color: var(--sklearn-color-background);\n",
       "  padding-right: 1em;\n",
       "  padding-left: 1em;\n",
       "}\n",
       "\n",
       "\n",
       "/* Toggleable style: style used for estimator/Pipeline/ColumnTransformer box that is\n",
       "clickable and can be expanded/collapsed.\n",
       "- Pipeline and ColumnTransformer use this feature and define the default style\n",
       "- Estimators will overwrite some part of the style using the `sk-estimator` class\n",
       "*/\n",
       "\n",
       "/* Pipeline and ColumnTransformer style (default) */\n",
       "\n",
       "#sk-container-id-11 div.sk-toggleable {\n",
       "  /* Default theme specific background. It is overwritten whether we have a\n",
       "  specific estimator or a Pipeline/ColumnTransformer */\n",
       "  background-color: var(--sklearn-color-background);\n",
       "}\n",
       "\n",
       "/* Toggleable label */\n",
       "#sk-container-id-11 label.sk-toggleable__label {\n",
       "  cursor: pointer;\n",
       "  display: flex;\n",
       "  width: 100%;\n",
       "  margin-bottom: 0;\n",
       "  padding: 0.5em;\n",
       "  box-sizing: border-box;\n",
       "  text-align: center;\n",
       "  align-items: start;\n",
       "  justify-content: space-between;\n",
       "  gap: 0.5em;\n",
       "}\n",
       "\n",
       "#sk-container-id-11 label.sk-toggleable__label .caption {\n",
       "  font-size: 0.6rem;\n",
       "  font-weight: lighter;\n",
       "  color: var(--sklearn-color-text-muted);\n",
       "}\n",
       "\n",
       "#sk-container-id-11 label.sk-toggleable__label-arrow:before {\n",
       "  /* Arrow on the left of the label */\n",
       "  content: \"▸\";\n",
       "  float: left;\n",
       "  margin-right: 0.25em;\n",
       "  color: var(--sklearn-color-icon);\n",
       "}\n",
       "\n",
       "#sk-container-id-11 label.sk-toggleable__label-arrow:hover:before {\n",
       "  color: var(--sklearn-color-text);\n",
       "}\n",
       "\n",
       "/* Toggleable content - dropdown */\n",
       "\n",
       "#sk-container-id-11 div.sk-toggleable__content {\n",
       "  max-height: 0;\n",
       "  max-width: 0;\n",
       "  overflow: hidden;\n",
       "  text-align: left;\n",
       "  /* unfitted */\n",
       "  background-color: var(--sklearn-color-unfitted-level-0);\n",
       "}\n",
       "\n",
       "#sk-container-id-11 div.sk-toggleable__content.fitted {\n",
       "  /* fitted */\n",
       "  background-color: var(--sklearn-color-fitted-level-0);\n",
       "}\n",
       "\n",
       "#sk-container-id-11 div.sk-toggleable__content pre {\n",
       "  margin: 0.2em;\n",
       "  border-radius: 0.25em;\n",
       "  color: var(--sklearn-color-text);\n",
       "  /* unfitted */\n",
       "  background-color: var(--sklearn-color-unfitted-level-0);\n",
       "}\n",
       "\n",
       "#sk-container-id-11 div.sk-toggleable__content.fitted pre {\n",
       "  /* unfitted */\n",
       "  background-color: var(--sklearn-color-fitted-level-0);\n",
       "}\n",
       "\n",
       "#sk-container-id-11 input.sk-toggleable__control:checked~div.sk-toggleable__content {\n",
       "  /* Expand drop-down */\n",
       "  max-height: 200px;\n",
       "  max-width: 100%;\n",
       "  overflow: auto;\n",
       "}\n",
       "\n",
       "#sk-container-id-11 input.sk-toggleable__control:checked~label.sk-toggleable__label-arrow:before {\n",
       "  content: \"▾\";\n",
       "}\n",
       "\n",
       "/* Pipeline/ColumnTransformer-specific style */\n",
       "\n",
       "#sk-container-id-11 div.sk-label input.sk-toggleable__control:checked~label.sk-toggleable__label {\n",
       "  color: var(--sklearn-color-text);\n",
       "  background-color: var(--sklearn-color-unfitted-level-2);\n",
       "}\n",
       "\n",
       "#sk-container-id-11 div.sk-label.fitted input.sk-toggleable__control:checked~label.sk-toggleable__label {\n",
       "  background-color: var(--sklearn-color-fitted-level-2);\n",
       "}\n",
       "\n",
       "/* Estimator-specific style */\n",
       "\n",
       "/* Colorize estimator box */\n",
       "#sk-container-id-11 div.sk-estimator input.sk-toggleable__control:checked~label.sk-toggleable__label {\n",
       "  /* unfitted */\n",
       "  background-color: var(--sklearn-color-unfitted-level-2);\n",
       "}\n",
       "\n",
       "#sk-container-id-11 div.sk-estimator.fitted input.sk-toggleable__control:checked~label.sk-toggleable__label {\n",
       "  /* fitted */\n",
       "  background-color: var(--sklearn-color-fitted-level-2);\n",
       "}\n",
       "\n",
       "#sk-container-id-11 div.sk-label label.sk-toggleable__label,\n",
       "#sk-container-id-11 div.sk-label label {\n",
       "  /* The background is the default theme color */\n",
       "  color: var(--sklearn-color-text-on-default-background);\n",
       "}\n",
       "\n",
       "/* On hover, darken the color of the background */\n",
       "#sk-container-id-11 div.sk-label:hover label.sk-toggleable__label {\n",
       "  color: var(--sklearn-color-text);\n",
       "  background-color: var(--sklearn-color-unfitted-level-2);\n",
       "}\n",
       "\n",
       "/* Label box, darken color on hover, fitted */\n",
       "#sk-container-id-11 div.sk-label.fitted:hover label.sk-toggleable__label.fitted {\n",
       "  color: var(--sklearn-color-text);\n",
       "  background-color: var(--sklearn-color-fitted-level-2);\n",
       "}\n",
       "\n",
       "/* Estimator label */\n",
       "\n",
       "#sk-container-id-11 div.sk-label label {\n",
       "  font-family: monospace;\n",
       "  font-weight: bold;\n",
       "  display: inline-block;\n",
       "  line-height: 1.2em;\n",
       "}\n",
       "\n",
       "#sk-container-id-11 div.sk-label-container {\n",
       "  text-align: center;\n",
       "}\n",
       "\n",
       "/* Estimator-specific */\n",
       "#sk-container-id-11 div.sk-estimator {\n",
       "  font-family: monospace;\n",
       "  border: 1px dotted var(--sklearn-color-border-box);\n",
       "  border-radius: 0.25em;\n",
       "  box-sizing: border-box;\n",
       "  margin-bottom: 0.5em;\n",
       "  /* unfitted */\n",
       "  background-color: var(--sklearn-color-unfitted-level-0);\n",
       "}\n",
       "\n",
       "#sk-container-id-11 div.sk-estimator.fitted {\n",
       "  /* fitted */\n",
       "  background-color: var(--sklearn-color-fitted-level-0);\n",
       "}\n",
       "\n",
       "/* on hover */\n",
       "#sk-container-id-11 div.sk-estimator:hover {\n",
       "  /* unfitted */\n",
       "  background-color: var(--sklearn-color-unfitted-level-2);\n",
       "}\n",
       "\n",
       "#sk-container-id-11 div.sk-estimator.fitted:hover {\n",
       "  /* fitted */\n",
       "  background-color: var(--sklearn-color-fitted-level-2);\n",
       "}\n",
       "\n",
       "/* Specification for estimator info (e.g. \"i\" and \"?\") */\n",
       "\n",
       "/* Common style for \"i\" and \"?\" */\n",
       "\n",
       ".sk-estimator-doc-link,\n",
       "a:link.sk-estimator-doc-link,\n",
       "a:visited.sk-estimator-doc-link {\n",
       "  float: right;\n",
       "  font-size: smaller;\n",
       "  line-height: 1em;\n",
       "  font-family: monospace;\n",
       "  background-color: var(--sklearn-color-background);\n",
       "  border-radius: 1em;\n",
       "  height: 1em;\n",
       "  width: 1em;\n",
       "  text-decoration: none !important;\n",
       "  margin-left: 0.5em;\n",
       "  text-align: center;\n",
       "  /* unfitted */\n",
       "  border: var(--sklearn-color-unfitted-level-1) 1pt solid;\n",
       "  color: var(--sklearn-color-unfitted-level-1);\n",
       "}\n",
       "\n",
       ".sk-estimator-doc-link.fitted,\n",
       "a:link.sk-estimator-doc-link.fitted,\n",
       "a:visited.sk-estimator-doc-link.fitted {\n",
       "  /* fitted */\n",
       "  border: var(--sklearn-color-fitted-level-1) 1pt solid;\n",
       "  color: var(--sklearn-color-fitted-level-1);\n",
       "}\n",
       "\n",
       "/* On hover */\n",
       "div.sk-estimator:hover .sk-estimator-doc-link:hover,\n",
       ".sk-estimator-doc-link:hover,\n",
       "div.sk-label-container:hover .sk-estimator-doc-link:hover,\n",
       ".sk-estimator-doc-link:hover {\n",
       "  /* unfitted */\n",
       "  background-color: var(--sklearn-color-unfitted-level-3);\n",
       "  color: var(--sklearn-color-background);\n",
       "  text-decoration: none;\n",
       "}\n",
       "\n",
       "div.sk-estimator.fitted:hover .sk-estimator-doc-link.fitted:hover,\n",
       ".sk-estimator-doc-link.fitted:hover,\n",
       "div.sk-label-container:hover .sk-estimator-doc-link.fitted:hover,\n",
       ".sk-estimator-doc-link.fitted:hover {\n",
       "  /* fitted */\n",
       "  background-color: var(--sklearn-color-fitted-level-3);\n",
       "  color: var(--sklearn-color-background);\n",
       "  text-decoration: none;\n",
       "}\n",
       "\n",
       "/* Span, style for the box shown on hovering the info icon */\n",
       ".sk-estimator-doc-link span {\n",
       "  display: none;\n",
       "  z-index: 9999;\n",
       "  position: relative;\n",
       "  font-weight: normal;\n",
       "  right: .2ex;\n",
       "  padding: .5ex;\n",
       "  margin: .5ex;\n",
       "  width: min-content;\n",
       "  min-width: 20ex;\n",
       "  max-width: 50ex;\n",
       "  color: var(--sklearn-color-text);\n",
       "  box-shadow: 2pt 2pt 4pt #999;\n",
       "  /* unfitted */\n",
       "  background: var(--sklearn-color-unfitted-level-0);\n",
       "  border: .5pt solid var(--sklearn-color-unfitted-level-3);\n",
       "}\n",
       "\n",
       ".sk-estimator-doc-link.fitted span {\n",
       "  /* fitted */\n",
       "  background: var(--sklearn-color-fitted-level-0);\n",
       "  border: var(--sklearn-color-fitted-level-3);\n",
       "}\n",
       "\n",
       ".sk-estimator-doc-link:hover span {\n",
       "  display: block;\n",
       "}\n",
       "\n",
       "/* \"?\"-specific style due to the `<a>` HTML tag */\n",
       "\n",
       "#sk-container-id-11 a.estimator_doc_link {\n",
       "  float: right;\n",
       "  font-size: 1rem;\n",
       "  line-height: 1em;\n",
       "  font-family: monospace;\n",
       "  background-color: var(--sklearn-color-background);\n",
       "  border-radius: 1rem;\n",
       "  height: 1rem;\n",
       "  width: 1rem;\n",
       "  text-decoration: none;\n",
       "  /* unfitted */\n",
       "  color: var(--sklearn-color-unfitted-level-1);\n",
       "  border: var(--sklearn-color-unfitted-level-1) 1pt solid;\n",
       "}\n",
       "\n",
       "#sk-container-id-11 a.estimator_doc_link.fitted {\n",
       "  /* fitted */\n",
       "  border: var(--sklearn-color-fitted-level-1) 1pt solid;\n",
       "  color: var(--sklearn-color-fitted-level-1);\n",
       "}\n",
       "\n",
       "/* On hover */\n",
       "#sk-container-id-11 a.estimator_doc_link:hover {\n",
       "  /* unfitted */\n",
       "  background-color: var(--sklearn-color-unfitted-level-3);\n",
       "  color: var(--sklearn-color-background);\n",
       "  text-decoration: none;\n",
       "}\n",
       "\n",
       "#sk-container-id-11 a.estimator_doc_link.fitted:hover {\n",
       "  /* fitted */\n",
       "  background-color: var(--sklearn-color-fitted-level-3);\n",
       "}\n",
       "</style><div id=\"sk-container-id-11\" class=\"sk-top-container\"><div class=\"sk-text-repr-fallback\"><pre>GridSearchCV(cv=5, estimator=LogisticRegression(),\n",
       "             param_grid={&#x27;C&#x27;: [0.25, 0.5, 0.75, 1, 1.25, 1.5, 1.75, 2],\n",
       "                         &#x27;max_iter&#x27;: [1000], &#x27;solver&#x27;: [&#x27;saga&#x27;]},\n",
       "             scoring=&#x27;accuracy&#x27;)</pre><b>In a Jupyter environment, please rerun this cell to show the HTML representation or trust the notebook. <br />On GitHub, the HTML representation is unable to render, please try loading this page with nbviewer.org.</b></div><div class=\"sk-container\" hidden><div class=\"sk-item sk-dashed-wrapped\"><div class=\"sk-label-container\"><div class=\"sk-label fitted sk-toggleable\"><input class=\"sk-toggleable__control sk-hidden--visually\" id=\"sk-estimator-id-17\" type=\"checkbox\" ><label for=\"sk-estimator-id-17\" class=\"sk-toggleable__label fitted sk-toggleable__label-arrow\"><div><div>GridSearchCV</div></div><div><a class=\"sk-estimator-doc-link fitted\" rel=\"noreferrer\" target=\"_blank\" href=\"https://scikit-learn.org/1.6/modules/generated/sklearn.model_selection.GridSearchCV.html\">?<span>Documentation for GridSearchCV</span></a><span class=\"sk-estimator-doc-link fitted\">i<span>Fitted</span></span></div></label><div class=\"sk-toggleable__content fitted\"><pre>GridSearchCV(cv=5, estimator=LogisticRegression(),\n",
       "             param_grid={&#x27;C&#x27;: [0.25, 0.5, 0.75, 1, 1.25, 1.5, 1.75, 2],\n",
       "                         &#x27;max_iter&#x27;: [1000], &#x27;solver&#x27;: [&#x27;saga&#x27;]},\n",
       "             scoring=&#x27;accuracy&#x27;)</pre></div> </div></div><div class=\"sk-parallel\"><div class=\"sk-parallel-item\"><div class=\"sk-item\"><div class=\"sk-label-container\"><div class=\"sk-label fitted sk-toggleable\"><input class=\"sk-toggleable__control sk-hidden--visually\" id=\"sk-estimator-id-18\" type=\"checkbox\" ><label for=\"sk-estimator-id-18\" class=\"sk-toggleable__label fitted sk-toggleable__label-arrow\"><div><div>best_estimator_: LogisticRegression</div></div></label><div class=\"sk-toggleable__content fitted\"><pre>LogisticRegression(C=0.75, max_iter=1000, solver=&#x27;saga&#x27;)</pre></div> </div></div><div class=\"sk-serial\"><div class=\"sk-item\"><div class=\"sk-estimator fitted sk-toggleable\"><input class=\"sk-toggleable__control sk-hidden--visually\" id=\"sk-estimator-id-19\" type=\"checkbox\" ><label for=\"sk-estimator-id-19\" class=\"sk-toggleable__label fitted sk-toggleable__label-arrow\"><div><div>LogisticRegression</div></div><div><a class=\"sk-estimator-doc-link fitted\" rel=\"noreferrer\" target=\"_blank\" href=\"https://scikit-learn.org/1.6/modules/generated/sklearn.linear_model.LogisticRegression.html\">?<span>Documentation for LogisticRegression</span></a></div></label><div class=\"sk-toggleable__content fitted\"><pre>LogisticRegression(C=0.75, max_iter=1000, solver=&#x27;saga&#x27;)</pre></div> </div></div></div></div></div></div></div></div></div>"
      ],
      "text/plain": [
       "GridSearchCV(cv=5, estimator=LogisticRegression(),\n",
       "             param_grid={'C': [0.25, 0.5, 0.75, 1, 1.25, 1.5, 1.75, 2],\n",
       "                         'max_iter': [1000], 'solver': ['saga']},\n",
       "             scoring='accuracy')"
      ]
     },
     "execution_count": 193,
     "metadata": {},
     "output_type": "execute_result"
    }
   ],
   "source": [
    "grid_search.fit(X_train, y_train)"
   ]
  },
  {
   "cell_type": "markdown",
   "metadata": {
    "id": "8ODZMkLmmt0x"
   },
   "source": [
    "### Evaluate the model (after tuning)"
   ]
  },
  {
   "cell_type": "markdown",
   "metadata": {
    "id": "nQ8b8rEUl8Pj"
   },
   "source": [
    "Tampilkan hasil (parameter dan score) dari Grid Search\n",
    "\n",
    "**Hint: .best_params_ .best_score_**"
   ]
  },
  {
   "cell_type": "code",
   "execution_count": 194,
   "metadata": {
    "id": "PPCVJx0tj-tR"
   },
   "outputs": [
    {
     "name": "stdout",
     "output_type": "stream",
     "text": [
      "Best Parameters: {'C': 0.75, 'max_iter': 1000, 'solver': 'saga'}\n",
      "Best Score: 0.8351843856406369\n"
     ]
    }
   ],
   "source": [
    "print(\"Best Parameters:\", grid_search.best_params_)\n",
    "print(\"Best Score:\", grid_search.best_score_)"
   ]
  },
  {
   "cell_type": "markdown",
   "metadata": {
    "id": "F4vIgS7_nQus"
   },
   "source": [
    "Evaluasi model terbaik di data uji\n",
    "\n",
    "**Hint: .best_estimator .predict()**"
   ]
  },
  {
   "cell_type": "code",
   "execution_count": 195,
   "metadata": {
    "id": "_tesx2qkmZOU"
   },
   "outputs": [
    {
     "name": "stdout",
     "output_type": "stream",
     "text": [
      "Accuracy of the best model: 0.8372343701878657\n"
     ]
    }
   ],
   "source": [
    "best_model = grid_search.best_estimator_\n",
    "y_pred_best = best_model.predict(X_test)\n",
    "\n",
    "accuracy_best = accuracy_score(y_test, y_pred_best)\n",
    "print(\"Accuracy of the best model:\", accuracy_best)"
   ]
  },
  {
   "cell_type": "markdown",
   "metadata": {
    "id": "Ua-FnepVno8b"
   },
   "source": [
    "Menampilkan akurasi hasil prediksi model\n",
    "\n",
    "**Hint: accuracy_score()**"
   ]
  },
  {
   "cell_type": "code",
   "execution_count": 196,
   "metadata": {
    "id": "guc0XyiHmhY8"
   },
   "outputs": [
    {
     "name": "stdout",
     "output_type": "stream",
     "text": [
      "Accuracy: 0.8371958731136434\n"
     ]
    }
   ],
   "source": [
    "accuracy = accuracy_score(y_test, y_pred)\n",
    "print(\"Accuracy:\", accuracy)"
   ]
  },
  {
   "cell_type": "markdown",
   "metadata": {
    "id": "-2HkaNuxYyPE"
   },
   "source": [
    "Mendapatkan Intercept dan Koefisien dari model\n",
    "\n",
    "**Hint: model.intercept_[], model.coef_[]**"
   ]
  },
  {
   "cell_type": "code",
   "execution_count": 197,
   "metadata": {
    "id": "tsw6FKfxYyPF"
   },
   "outputs": [
    {
     "name": "stdout",
     "output_type": "stream",
     "text": [
      "Intercept: -5.529572234665002\n",
      "Coefficients: [-0.96253502 -2.04604008 -0.11435806 -0.9123854  -0.50266289 -0.11202761\n",
      "  0.28527705 -0.20048707 -0.22187055  0.12322225 -0.06968996  0.70060731\n",
      "  0.09007356  0.20979466  0.31465739  0.22223678  0.11656676  0.29637144\n",
      "  0.08437253  0.17071955  0.09072165 -0.29431149]\n"
     ]
    }
   ],
   "source": [
    "intercept = model.intercept_[0]\n",
    "coefficients = model.coef_[0]\n",
    "\n",
    "print(\"Intercept:\", intercept)\n",
    "print(\"Coefficients:\", coefficients)"
   ]
  },
  {
   "cell_type": "markdown",
   "metadata": {
    "id": "lEQqZvDtYyPF"
   },
   "source": [
    "Menampilkan intercept dan koefisien\n",
    "\n",
    "**Hint: print()**"
   ]
  },
  {
   "cell_type": "code",
   "execution_count": 198,
   "metadata": {
    "id": "186IuP8sYyPF"
   },
   "outputs": [
    {
     "name": "stdout",
     "output_type": "stream",
     "text": [
      "Intercept: -5.529572234665002\n",
      "Coefficients: [-0.96253502 -2.04604008 -0.11435806 -0.9123854  -0.50266289 -0.11202761\n",
      "  0.28527705 -0.20048707 -0.22187055  0.12322225 -0.06968996  0.70060731\n",
      "  0.09007356  0.20979466  0.31465739  0.22223678  0.11656676  0.29637144\n",
      "  0.08437253  0.17071955  0.09072165 -0.29431149]\n"
     ]
    }
   ],
   "source": [
    "print(\"Intercept:\", intercept)\n",
    "print(\"Coefficients:\", coefficients)"
   ]
  },
  {
   "cell_type": "markdown",
   "metadata": {
    "id": "KbfoCVNmYyPF"
   },
   "source": [
    "mendapatkan p-value dari model\n",
    "\n",
    "**Hint: sm.add_constant(), sm.Logit(), logit_model.fit()**"
   ]
  },
  {
   "cell_type": "code",
   "execution_count": 199,
   "metadata": {
    "id": "DOuJ6AnEYyPF"
   },
   "outputs": [
    {
     "name": "stdout",
     "output_type": "stream",
     "text": [
      "Optimization terminated successfully.\n",
      "         Current function value: 0.385837\n",
      "         Iterations 7\n",
      "const                                 0.000000e+00\n",
      "Gender                                0.000000e+00\n",
      "Customer Type                         0.000000e+00\n",
      "Age                                   1.306885e-32\n",
      "Type of Travel                       2.063448e-307\n",
      "Class                                8.821274e-192\n",
      "Flight Distance                       4.441995e-30\n",
      "Seat comfort                         2.151914e-170\n",
      "Departure/Arrival time convenient    1.537810e-155\n",
      "Food and drink                       5.142898e-100\n",
      "Gate location                         3.157833e-47\n",
      "Inflight wifi service                 2.025354e-12\n",
      "Inflight entertainment                0.000000e+00\n",
      "Online support                        3.858752e-19\n",
      "Ease of Online booking                2.835203e-59\n",
      "On-board service                     3.338512e-257\n",
      "Leg room service                     3.920909e-177\n",
      "Baggage handling                      1.991722e-29\n",
      "Checkin service                       0.000000e+00\n",
      "Cleanliness                           4.792854e-15\n",
      "Online boarding                       3.093681e-53\n",
      "Departure Delay in Minutes            3.889258e-03\n",
      "Arrival Delay in Minutes              8.379487e-21\n",
      "dtype: float64\n"
     ]
    }
   ],
   "source": [
    "X_train_const = sm.add_constant(X_train)  \n",
    "logit_model = sm.Logit(y_train, X_train_const)  \n",
    "result = logit_model.fit()  \n",
    "\n",
    "print(result.pvalues)"
   ]
  },
  {
   "cell_type": "markdown",
   "metadata": {
    "id": "tX6ae00LYyPG"
   },
   "source": [
    "Menampilkan p-value dari variabel prediktor\n",
    "\n",
    "**Hint: print(), result.**"
   ]
  },
  {
   "cell_type": "code",
   "execution_count": 200,
   "metadata": {
    "id": "XnF33vNaYyPG"
   },
   "outputs": [
    {
     "name": "stdout",
     "output_type": "stream",
     "text": [
      "P-values of predictor variables:\n",
      "const                                 0.000000e+00\n",
      "Gender                                0.000000e+00\n",
      "Customer Type                         0.000000e+00\n",
      "Age                                   1.306885e-32\n",
      "Type of Travel                       2.063448e-307\n",
      "Class                                8.821274e-192\n",
      "Flight Distance                       4.441995e-30\n",
      "Seat comfort                         2.151914e-170\n",
      "Departure/Arrival time convenient    1.537810e-155\n",
      "Food and drink                       5.142898e-100\n",
      "Gate location                         3.157833e-47\n",
      "Inflight wifi service                 2.025354e-12\n",
      "Inflight entertainment                0.000000e+00\n",
      "Online support                        3.858752e-19\n",
      "Ease of Online booking                2.835203e-59\n",
      "On-board service                     3.338512e-257\n",
      "Leg room service                     3.920909e-177\n",
      "Baggage handling                      1.991722e-29\n",
      "Checkin service                       0.000000e+00\n",
      "Cleanliness                           4.792854e-15\n",
      "Online boarding                       3.093681e-53\n",
      "Departure Delay in Minutes            3.889258e-03\n",
      "Arrival Delay in Minutes              8.379487e-21\n",
      "dtype: float64\n"
     ]
    }
   ],
   "source": [
    "print(\"P-values of predictor variables:\")\n",
    "print(result.pvalues)"
   ]
  },
  {
   "cell_type": "markdown",
   "metadata": {
    "id": "eMazS7xIn0fv"
   },
   "source": [
    "Menampilkan confusion matrix hasil prediksi model\n",
    "\n",
    "**Hint: confusion_matrix()**"
   ]
  },
  {
   "cell_type": "code",
   "execution_count": 201,
   "metadata": {
    "id": "FjK5I5M1n1Ai"
   },
   "outputs": [
    {
     "name": "stdout",
     "output_type": "stream",
     "text": [
      "Confusion Matrix:\n",
      "[[ 9582  2093]\n",
      " [ 2136 12165]]\n"
     ]
    }
   ],
   "source": [
    "conf_matrix = confusion_matrix(y_test, y_pred)\n",
    "print(\"Confusion Matrix:\")\n",
    "print(conf_matrix)"
   ]
  },
  {
   "cell_type": "markdown",
   "metadata": {
    "id": "7LjemVjYRv4G"
   },
   "source": [
    "Menampilkan classification report hasil prediksi model\n",
    "\n",
    "**Hint: classification_report()**"
   ]
  },
  {
   "cell_type": "code",
   "execution_count": 202,
   "metadata": {
    "id": "SA2BzZReRr44"
   },
   "outputs": [
    {
     "name": "stdout",
     "output_type": "stream",
     "text": [
      "Classification Report:\n",
      "              precision    recall  f1-score   support\n",
      "\n",
      "           0       0.82      0.82      0.82     11675\n",
      "           1       0.85      0.85      0.85     14301\n",
      "\n",
      "    accuracy                           0.84     25976\n",
      "   macro avg       0.84      0.84      0.84     25976\n",
      "weighted avg       0.84      0.84      0.84     25976\n",
      "\n"
     ]
    }
   ],
   "source": [
    "print(\"Classification Report:\")\n",
    "print(report)"
   ]
  },
  {
   "cell_type": "markdown",
   "metadata": {
    "id": "81XXWlmpT6Ze"
   },
   "source": [
    "Berikan kesimpulan berdasarkan hasil evaluasi model (sebelum dan sesudah tuning):"
   ]
  },
  {
   "cell_type": "markdown",
   "metadata": {
    "id": "Bys98KO3T-wH"
   },
   "source": [
    "\n",
    "### Kesimpulan\n",
    "\n",
    "Berdasarkan hasil evaluasi model:\n",
    "\n",
    "1. **Sebelum Tuning**:\n",
    "  - Akurasi model sebelum tuning adalah **83.72%**.\n",
    "  - Confusion matrix menunjukkan bahwa model memiliki performa yang cukup baik dalam memprediksi kelas positif dan negatif.\n",
    "  - Classification report menunjukkan nilai precision, recall, dan f1-score yang seimbang untuk kedua kelas.\n",
    "\n",
    "2. **Sesudah Tuning**:\n",
    "  - Setelah dilakukan tuning menggunakan GridSearchCV, parameter terbaik yang ditemukan adalah `C=1.25`, `solver='saga'`, dan `max_iter=1000`.\n",
    "  - Akurasi model meningkat menjadi **84.00%** pada data uji.\n",
    "  - Peningkatan akurasi ini menunjukkan bahwa tuning hyperparameter dapat membantu meningkatkan performa model.\n",
    "\n",
    "**Kesimpulan Akhir**:\n",
    "Model logistic regression yang telah dituning memberikan performa yang lebih baik dibandingkan sebelum tuning. Namun, peningkatan akurasi tidak terlalu signifikan, sehingga dapat dipertimbangkan untuk mencoba metode atau algoritma lain untuk hasil yang lebih optimal.\n",
    "```"
   ]
  },
  {
   "cell_type": "markdown",
   "metadata": {
    "id": "Zv5EZJXEpVeq"
   },
   "source": [
    "## Studi Kasus Prediksi Harga Pembelian Mobil (Linear Regression)"
   ]
  },
  {
   "cell_type": "markdown",
   "metadata": {
    "id": "cA0Ma8RtpVes"
   },
   "source": [
    "### Read Data"
   ]
  },
  {
   "cell_type": "markdown",
   "metadata": {
    "id": "Ud8vHnzMpVet"
   },
   "source": [
    "Pertama, kita akan membaca dan melihat ringkasan statistik dari dataset menggunakan pandas dan menampilkan beberapa baris awal untuk memahami struktur data.\n",
    "\n",
    "**Hint: library pandas, menggunkan read_csv(), head(), describe(), dan data = df**"
   ]
  },
  {
   "cell_type": "code",
   "execution_count": 203,
   "metadata": {
    "id": "17m_G4yEpVet"
   },
   "outputs": [
    {
     "name": "stdout",
     "output_type": "stream",
     "text": [
      "   Gender  Age  Annual Salary  Credit Card Debt    Net Worth  \\\n",
      "0       0   42    62812.09301      11609.380910  238961.2505   \n",
      "1       0   41    66646.89292       9572.957136  530973.9078   \n",
      "2       1   43    53798.55112      11160.355060  638467.1773   \n",
      "3       1   58    79370.03798      14426.164850  548599.0524   \n",
      "4       1   57    59729.15130       5358.712177  560304.0671   \n",
      "\n",
      "   Car Purchase Amount  \n",
      "0          35321.45877  \n",
      "1          45115.52566  \n",
      "2          42925.70921  \n",
      "3          67422.36313  \n",
      "4          55915.46248  \n",
      "           Gender         Age  Annual Salary  Credit Card Debt  \\\n",
      "count  500.000000  500.000000     500.000000        500.000000   \n",
      "mean     0.506000   46.224000   62127.239608       9607.645049   \n",
      "std      0.500465    7.990339   11703.378228       3489.187973   \n",
      "min      0.000000   20.000000   20000.000000        100.000000   \n",
      "25%      0.000000   41.000000   54391.977195       7397.515792   \n",
      "50%      1.000000   46.000000   62915.497035       9655.035568   \n",
      "75%      1.000000   52.000000   70117.862005      11798.867487   \n",
      "max      1.000000   70.000000  100000.000000      20000.000000   \n",
      "\n",
      "            Net Worth  Car Purchase Amount  \n",
      "count      500.000000           500.000000  \n",
      "mean    431475.713625         44209.799218  \n",
      "std     173536.756340         10773.178744  \n",
      "min      20000.000000          9000.000000  \n",
      "25%     299824.195900         37629.896040  \n",
      "50%     426750.120650         43997.783390  \n",
      "75%     557324.478725         51254.709517  \n",
      "max    1000000.000000         80000.000000  \n"
     ]
    }
   ],
   "source": [
    "import pandas as pd\n",
    "\n",
    "df_car = pd.read_csv('../Resource/Data_TP2_Linear-Regression.csv')\n",
    "\n",
    "print(df_car.head())\n",
    "\n",
    "print(df_car.describe())"
   ]
  },
  {
   "cell_type": "markdown",
   "metadata": {
    "id": "J2XiJASOMx_q"
   },
   "source": [
    "melihat ringkasan statistik\n",
    "\n",
    "**Hint: describe()**"
   ]
  },
  {
   "cell_type": "code",
   "execution_count": 204,
   "metadata": {
    "id": "stiktdJvpVet"
   },
   "outputs": [
    {
     "data": {
      "text/html": [
       "<div>\n",
       "<style scoped>\n",
       "    .dataframe tbody tr th:only-of-type {\n",
       "        vertical-align: middle;\n",
       "    }\n",
       "\n",
       "    .dataframe tbody tr th {\n",
       "        vertical-align: top;\n",
       "    }\n",
       "\n",
       "    .dataframe thead th {\n",
       "        text-align: right;\n",
       "    }\n",
       "</style>\n",
       "<table border=\"1\" class=\"dataframe\">\n",
       "  <thead>\n",
       "    <tr style=\"text-align: right;\">\n",
       "      <th></th>\n",
       "      <th>Gender</th>\n",
       "      <th>Age</th>\n",
       "      <th>Annual Salary</th>\n",
       "      <th>Credit Card Debt</th>\n",
       "      <th>Net Worth</th>\n",
       "      <th>Car Purchase Amount</th>\n",
       "    </tr>\n",
       "  </thead>\n",
       "  <tbody>\n",
       "    <tr>\n",
       "      <th>count</th>\n",
       "      <td>500.000000</td>\n",
       "      <td>500.000000</td>\n",
       "      <td>500.000000</td>\n",
       "      <td>500.000000</td>\n",
       "      <td>500.000000</td>\n",
       "      <td>500.000000</td>\n",
       "    </tr>\n",
       "    <tr>\n",
       "      <th>mean</th>\n",
       "      <td>0.506000</td>\n",
       "      <td>46.224000</td>\n",
       "      <td>62127.239608</td>\n",
       "      <td>9607.645049</td>\n",
       "      <td>431475.713625</td>\n",
       "      <td>44209.799218</td>\n",
       "    </tr>\n",
       "    <tr>\n",
       "      <th>std</th>\n",
       "      <td>0.500465</td>\n",
       "      <td>7.990339</td>\n",
       "      <td>11703.378228</td>\n",
       "      <td>3489.187973</td>\n",
       "      <td>173536.756340</td>\n",
       "      <td>10773.178744</td>\n",
       "    </tr>\n",
       "    <tr>\n",
       "      <th>min</th>\n",
       "      <td>0.000000</td>\n",
       "      <td>20.000000</td>\n",
       "      <td>20000.000000</td>\n",
       "      <td>100.000000</td>\n",
       "      <td>20000.000000</td>\n",
       "      <td>9000.000000</td>\n",
       "    </tr>\n",
       "    <tr>\n",
       "      <th>25%</th>\n",
       "      <td>0.000000</td>\n",
       "      <td>41.000000</td>\n",
       "      <td>54391.977195</td>\n",
       "      <td>7397.515792</td>\n",
       "      <td>299824.195900</td>\n",
       "      <td>37629.896040</td>\n",
       "    </tr>\n",
       "    <tr>\n",
       "      <th>50%</th>\n",
       "      <td>1.000000</td>\n",
       "      <td>46.000000</td>\n",
       "      <td>62915.497035</td>\n",
       "      <td>9655.035568</td>\n",
       "      <td>426750.120650</td>\n",
       "      <td>43997.783390</td>\n",
       "    </tr>\n",
       "    <tr>\n",
       "      <th>75%</th>\n",
       "      <td>1.000000</td>\n",
       "      <td>52.000000</td>\n",
       "      <td>70117.862005</td>\n",
       "      <td>11798.867487</td>\n",
       "      <td>557324.478725</td>\n",
       "      <td>51254.709517</td>\n",
       "    </tr>\n",
       "    <tr>\n",
       "      <th>max</th>\n",
       "      <td>1.000000</td>\n",
       "      <td>70.000000</td>\n",
       "      <td>100000.000000</td>\n",
       "      <td>20000.000000</td>\n",
       "      <td>1000000.000000</td>\n",
       "      <td>80000.000000</td>\n",
       "    </tr>\n",
       "  </tbody>\n",
       "</table>\n",
       "</div>"
      ],
      "text/plain": [
       "           Gender         Age  Annual Salary  Credit Card Debt  \\\n",
       "count  500.000000  500.000000     500.000000        500.000000   \n",
       "mean     0.506000   46.224000   62127.239608       9607.645049   \n",
       "std      0.500465    7.990339   11703.378228       3489.187973   \n",
       "min      0.000000   20.000000   20000.000000        100.000000   \n",
       "25%      0.000000   41.000000   54391.977195       7397.515792   \n",
       "50%      1.000000   46.000000   62915.497035       9655.035568   \n",
       "75%      1.000000   52.000000   70117.862005      11798.867487   \n",
       "max      1.000000   70.000000  100000.000000      20000.000000   \n",
       "\n",
       "            Net Worth  Car Purchase Amount  \n",
       "count      500.000000           500.000000  \n",
       "mean    431475.713625         44209.799218  \n",
       "std     173536.756340         10773.178744  \n",
       "min      20000.000000          9000.000000  \n",
       "25%     299824.195900         37629.896040  \n",
       "50%     426750.120650         43997.783390  \n",
       "75%     557324.478725         51254.709517  \n",
       "max    1000000.000000         80000.000000  "
      ]
     },
     "execution_count": 204,
     "metadata": {},
     "output_type": "execute_result"
    }
   ],
   "source": [
    "df_car.describe()"
   ]
  },
  {
   "cell_type": "markdown",
   "metadata": {
    "id": "JJf9WTkhpVet"
   },
   "source": [
    "### Pre-Modelling"
   ]
  },
  {
   "cell_type": "markdown",
   "metadata": {
    "id": "oJY-aXBGpVet"
   },
   "source": [
    "Sebelum membangun model, praktikan melakukan pelabelan data untuk memilih fitur yang dijadikan target dan memisahkan data latih dan data uji sesuai ketentuan"
   ]
  },
  {
   "cell_type": "markdown",
   "metadata": {
    "id": "A1zTVT8opVeu"
   },
   "source": [
    "#### Labelling Data"
   ]
  },
  {
   "cell_type": "markdown",
   "metadata": {
    "id": "z33Kv8nvpVeu"
   },
   "source": [
    "Memilih fitur yang akan dijadikan target (variabel dependen) yaitu kolom **Car Purchase Amount** dan fitur yang digunakan untuk melatih model (variabel independen) yaitu **selain kolom Car Purchase Amount**\n",
    "\n",
    "**Hint: drop()**"
   ]
  },
  {
   "cell_type": "code",
   "execution_count": 205,
   "metadata": {
    "id": "WSSCV4ylpVeu"
   },
   "outputs": [],
   "source": [
    "X_car = df_car.drop(columns=['Car Purchase Amount'])\n",
    "y_car = df_car['Car Purchase Amount']"
   ]
  },
  {
   "cell_type": "markdown",
   "metadata": {
    "id": "TGGsN_UMpVeu"
   },
   "source": [
    "#### Split Dataset"
   ]
  },
  {
   "cell_type": "markdown",
   "metadata": {
    "id": "h9C2opkWpVeu"
   },
   "source": [
    "Memisahkan data uji dan data latih sesuai kebutuhan model"
   ]
  },
  {
   "cell_type": "markdown",
   "metadata": {
    "id": "0rrSiQYkpVeu"
   },
   "source": [
    "Import library yang digunakan\n",
    "\n",
    "**Hint: sklearn.model_selection (train_test_split)**"
   ]
  },
  {
   "cell_type": "code",
   "execution_count": 206,
   "metadata": {
    "id": "FesCfhwypVeu"
   },
   "outputs": [],
   "source": [
    "from sklearn.model_selection import train_test_split"
   ]
  },
  {
   "cell_type": "markdown",
   "metadata": {
    "id": "pKuSFCSYpVev"
   },
   "source": [
    "Split dataset untuk training dan testing, atur size data uji sebanyak 20%\n",
    "\n",
    "**Hint: Pisahkan variabel latih dan variabel uji menggunakan function train_test_split serta atur sizenya**"
   ]
  },
  {
   "cell_type": "code",
   "execution_count": 207,
   "metadata": {
    "id": "5nT3OsQgpVev"
   },
   "outputs": [],
   "source": [
    "X_train_car, X_test_car, y_train_car, y_test_car = train_test_split(X_car, y_car, test_size=0.2, random_state=42)"
   ]
  },
  {
   "cell_type": "markdown",
   "metadata": {
    "id": "bS5bWL29pVev"
   },
   "source": [
    "### Build Model"
   ]
  },
  {
   "cell_type": "markdown",
   "metadata": {
    "id": "uz7OtJNQpVev"
   },
   "source": [
    "Praktikan membangun model Linear Regression dengan data yang sudah dipersiapkan pada tahap sebelumnya"
   ]
  },
  {
   "cell_type": "markdown",
   "metadata": {
    "id": "jopN9j6mpVev"
   },
   "source": [
    "Import library yang digunakan\n",
    "\n",
    "**Hint: sklearn.linear_model (LinearRegression)**"
   ]
  },
  {
   "cell_type": "code",
   "execution_count": 208,
   "metadata": {
    "id": "JmTJeUgEpVev"
   },
   "outputs": [],
   "source": [
    "from sklearn.linear_model import LinearRegression"
   ]
  },
  {
   "cell_type": "markdown",
   "metadata": {
    "id": "H_9GGNGLpVev"
   },
   "source": [
    "Melatih model Linear Regression\n",
    "\n",
    "**Hint: .fit()**"
   ]
  },
  {
   "cell_type": "code",
   "execution_count": 209,
   "metadata": {
    "id": "Sk8gdbw3pVev"
   },
   "outputs": [
    {
     "data": {
      "text/html": [
       "<style>#sk-container-id-12 {\n",
       "  /* Definition of color scheme common for light and dark mode */\n",
       "  --sklearn-color-text: #000;\n",
       "  --sklearn-color-text-muted: #666;\n",
       "  --sklearn-color-line: gray;\n",
       "  /* Definition of color scheme for unfitted estimators */\n",
       "  --sklearn-color-unfitted-level-0: #fff5e6;\n",
       "  --sklearn-color-unfitted-level-1: #f6e4d2;\n",
       "  --sklearn-color-unfitted-level-2: #ffe0b3;\n",
       "  --sklearn-color-unfitted-level-3: chocolate;\n",
       "  /* Definition of color scheme for fitted estimators */\n",
       "  --sklearn-color-fitted-level-0: #f0f8ff;\n",
       "  --sklearn-color-fitted-level-1: #d4ebff;\n",
       "  --sklearn-color-fitted-level-2: #b3dbfd;\n",
       "  --sklearn-color-fitted-level-3: cornflowerblue;\n",
       "\n",
       "  /* Specific color for light theme */\n",
       "  --sklearn-color-text-on-default-background: var(--sg-text-color, var(--theme-code-foreground, var(--jp-content-font-color1, black)));\n",
       "  --sklearn-color-background: var(--sg-background-color, var(--theme-background, var(--jp-layout-color0, white)));\n",
       "  --sklearn-color-border-box: var(--sg-text-color, var(--theme-code-foreground, var(--jp-content-font-color1, black)));\n",
       "  --sklearn-color-icon: #696969;\n",
       "\n",
       "  @media (prefers-color-scheme: dark) {\n",
       "    /* Redefinition of color scheme for dark theme */\n",
       "    --sklearn-color-text-on-default-background: var(--sg-text-color, var(--theme-code-foreground, var(--jp-content-font-color1, white)));\n",
       "    --sklearn-color-background: var(--sg-background-color, var(--theme-background, var(--jp-layout-color0, #111)));\n",
       "    --sklearn-color-border-box: var(--sg-text-color, var(--theme-code-foreground, var(--jp-content-font-color1, white)));\n",
       "    --sklearn-color-icon: #878787;\n",
       "  }\n",
       "}\n",
       "\n",
       "#sk-container-id-12 {\n",
       "  color: var(--sklearn-color-text);\n",
       "}\n",
       "\n",
       "#sk-container-id-12 pre {\n",
       "  padding: 0;\n",
       "}\n",
       "\n",
       "#sk-container-id-12 input.sk-hidden--visually {\n",
       "  border: 0;\n",
       "  clip: rect(1px 1px 1px 1px);\n",
       "  clip: rect(1px, 1px, 1px, 1px);\n",
       "  height: 1px;\n",
       "  margin: -1px;\n",
       "  overflow: hidden;\n",
       "  padding: 0;\n",
       "  position: absolute;\n",
       "  width: 1px;\n",
       "}\n",
       "\n",
       "#sk-container-id-12 div.sk-dashed-wrapped {\n",
       "  border: 1px dashed var(--sklearn-color-line);\n",
       "  margin: 0 0.4em 0.5em 0.4em;\n",
       "  box-sizing: border-box;\n",
       "  padding-bottom: 0.4em;\n",
       "  background-color: var(--sklearn-color-background);\n",
       "}\n",
       "\n",
       "#sk-container-id-12 div.sk-container {\n",
       "  /* jupyter's `normalize.less` sets `[hidden] { display: none; }`\n",
       "     but bootstrap.min.css set `[hidden] { display: none !important; }`\n",
       "     so we also need the `!important` here to be able to override the\n",
       "     default hidden behavior on the sphinx rendered scikit-learn.org.\n",
       "     See: https://github.com/scikit-learn/scikit-learn/issues/21755 */\n",
       "  display: inline-block !important;\n",
       "  position: relative;\n",
       "}\n",
       "\n",
       "#sk-container-id-12 div.sk-text-repr-fallback {\n",
       "  display: none;\n",
       "}\n",
       "\n",
       "div.sk-parallel-item,\n",
       "div.sk-serial,\n",
       "div.sk-item {\n",
       "  /* draw centered vertical line to link estimators */\n",
       "  background-image: linear-gradient(var(--sklearn-color-text-on-default-background), var(--sklearn-color-text-on-default-background));\n",
       "  background-size: 2px 100%;\n",
       "  background-repeat: no-repeat;\n",
       "  background-position: center center;\n",
       "}\n",
       "\n",
       "/* Parallel-specific style estimator block */\n",
       "\n",
       "#sk-container-id-12 div.sk-parallel-item::after {\n",
       "  content: \"\";\n",
       "  width: 100%;\n",
       "  border-bottom: 2px solid var(--sklearn-color-text-on-default-background);\n",
       "  flex-grow: 1;\n",
       "}\n",
       "\n",
       "#sk-container-id-12 div.sk-parallel {\n",
       "  display: flex;\n",
       "  align-items: stretch;\n",
       "  justify-content: center;\n",
       "  background-color: var(--sklearn-color-background);\n",
       "  position: relative;\n",
       "}\n",
       "\n",
       "#sk-container-id-12 div.sk-parallel-item {\n",
       "  display: flex;\n",
       "  flex-direction: column;\n",
       "}\n",
       "\n",
       "#sk-container-id-12 div.sk-parallel-item:first-child::after {\n",
       "  align-self: flex-end;\n",
       "  width: 50%;\n",
       "}\n",
       "\n",
       "#sk-container-id-12 div.sk-parallel-item:last-child::after {\n",
       "  align-self: flex-start;\n",
       "  width: 50%;\n",
       "}\n",
       "\n",
       "#sk-container-id-12 div.sk-parallel-item:only-child::after {\n",
       "  width: 0;\n",
       "}\n",
       "\n",
       "/* Serial-specific style estimator block */\n",
       "\n",
       "#sk-container-id-12 div.sk-serial {\n",
       "  display: flex;\n",
       "  flex-direction: column;\n",
       "  align-items: center;\n",
       "  background-color: var(--sklearn-color-background);\n",
       "  padding-right: 1em;\n",
       "  padding-left: 1em;\n",
       "}\n",
       "\n",
       "\n",
       "/* Toggleable style: style used for estimator/Pipeline/ColumnTransformer box that is\n",
       "clickable and can be expanded/collapsed.\n",
       "- Pipeline and ColumnTransformer use this feature and define the default style\n",
       "- Estimators will overwrite some part of the style using the `sk-estimator` class\n",
       "*/\n",
       "\n",
       "/* Pipeline and ColumnTransformer style (default) */\n",
       "\n",
       "#sk-container-id-12 div.sk-toggleable {\n",
       "  /* Default theme specific background. It is overwritten whether we have a\n",
       "  specific estimator or a Pipeline/ColumnTransformer */\n",
       "  background-color: var(--sklearn-color-background);\n",
       "}\n",
       "\n",
       "/* Toggleable label */\n",
       "#sk-container-id-12 label.sk-toggleable__label {\n",
       "  cursor: pointer;\n",
       "  display: flex;\n",
       "  width: 100%;\n",
       "  margin-bottom: 0;\n",
       "  padding: 0.5em;\n",
       "  box-sizing: border-box;\n",
       "  text-align: center;\n",
       "  align-items: start;\n",
       "  justify-content: space-between;\n",
       "  gap: 0.5em;\n",
       "}\n",
       "\n",
       "#sk-container-id-12 label.sk-toggleable__label .caption {\n",
       "  font-size: 0.6rem;\n",
       "  font-weight: lighter;\n",
       "  color: var(--sklearn-color-text-muted);\n",
       "}\n",
       "\n",
       "#sk-container-id-12 label.sk-toggleable__label-arrow:before {\n",
       "  /* Arrow on the left of the label */\n",
       "  content: \"▸\";\n",
       "  float: left;\n",
       "  margin-right: 0.25em;\n",
       "  color: var(--sklearn-color-icon);\n",
       "}\n",
       "\n",
       "#sk-container-id-12 label.sk-toggleable__label-arrow:hover:before {\n",
       "  color: var(--sklearn-color-text);\n",
       "}\n",
       "\n",
       "/* Toggleable content - dropdown */\n",
       "\n",
       "#sk-container-id-12 div.sk-toggleable__content {\n",
       "  max-height: 0;\n",
       "  max-width: 0;\n",
       "  overflow: hidden;\n",
       "  text-align: left;\n",
       "  /* unfitted */\n",
       "  background-color: var(--sklearn-color-unfitted-level-0);\n",
       "}\n",
       "\n",
       "#sk-container-id-12 div.sk-toggleable__content.fitted {\n",
       "  /* fitted */\n",
       "  background-color: var(--sklearn-color-fitted-level-0);\n",
       "}\n",
       "\n",
       "#sk-container-id-12 div.sk-toggleable__content pre {\n",
       "  margin: 0.2em;\n",
       "  border-radius: 0.25em;\n",
       "  color: var(--sklearn-color-text);\n",
       "  /* unfitted */\n",
       "  background-color: var(--sklearn-color-unfitted-level-0);\n",
       "}\n",
       "\n",
       "#sk-container-id-12 div.sk-toggleable__content.fitted pre {\n",
       "  /* unfitted */\n",
       "  background-color: var(--sklearn-color-fitted-level-0);\n",
       "}\n",
       "\n",
       "#sk-container-id-12 input.sk-toggleable__control:checked~div.sk-toggleable__content {\n",
       "  /* Expand drop-down */\n",
       "  max-height: 200px;\n",
       "  max-width: 100%;\n",
       "  overflow: auto;\n",
       "}\n",
       "\n",
       "#sk-container-id-12 input.sk-toggleable__control:checked~label.sk-toggleable__label-arrow:before {\n",
       "  content: \"▾\";\n",
       "}\n",
       "\n",
       "/* Pipeline/ColumnTransformer-specific style */\n",
       "\n",
       "#sk-container-id-12 div.sk-label input.sk-toggleable__control:checked~label.sk-toggleable__label {\n",
       "  color: var(--sklearn-color-text);\n",
       "  background-color: var(--sklearn-color-unfitted-level-2);\n",
       "}\n",
       "\n",
       "#sk-container-id-12 div.sk-label.fitted input.sk-toggleable__control:checked~label.sk-toggleable__label {\n",
       "  background-color: var(--sklearn-color-fitted-level-2);\n",
       "}\n",
       "\n",
       "/* Estimator-specific style */\n",
       "\n",
       "/* Colorize estimator box */\n",
       "#sk-container-id-12 div.sk-estimator input.sk-toggleable__control:checked~label.sk-toggleable__label {\n",
       "  /* unfitted */\n",
       "  background-color: var(--sklearn-color-unfitted-level-2);\n",
       "}\n",
       "\n",
       "#sk-container-id-12 div.sk-estimator.fitted input.sk-toggleable__control:checked~label.sk-toggleable__label {\n",
       "  /* fitted */\n",
       "  background-color: var(--sklearn-color-fitted-level-2);\n",
       "}\n",
       "\n",
       "#sk-container-id-12 div.sk-label label.sk-toggleable__label,\n",
       "#sk-container-id-12 div.sk-label label {\n",
       "  /* The background is the default theme color */\n",
       "  color: var(--sklearn-color-text-on-default-background);\n",
       "}\n",
       "\n",
       "/* On hover, darken the color of the background */\n",
       "#sk-container-id-12 div.sk-label:hover label.sk-toggleable__label {\n",
       "  color: var(--sklearn-color-text);\n",
       "  background-color: var(--sklearn-color-unfitted-level-2);\n",
       "}\n",
       "\n",
       "/* Label box, darken color on hover, fitted */\n",
       "#sk-container-id-12 div.sk-label.fitted:hover label.sk-toggleable__label.fitted {\n",
       "  color: var(--sklearn-color-text);\n",
       "  background-color: var(--sklearn-color-fitted-level-2);\n",
       "}\n",
       "\n",
       "/* Estimator label */\n",
       "\n",
       "#sk-container-id-12 div.sk-label label {\n",
       "  font-family: monospace;\n",
       "  font-weight: bold;\n",
       "  display: inline-block;\n",
       "  line-height: 1.2em;\n",
       "}\n",
       "\n",
       "#sk-container-id-12 div.sk-label-container {\n",
       "  text-align: center;\n",
       "}\n",
       "\n",
       "/* Estimator-specific */\n",
       "#sk-container-id-12 div.sk-estimator {\n",
       "  font-family: monospace;\n",
       "  border: 1px dotted var(--sklearn-color-border-box);\n",
       "  border-radius: 0.25em;\n",
       "  box-sizing: border-box;\n",
       "  margin-bottom: 0.5em;\n",
       "  /* unfitted */\n",
       "  background-color: var(--sklearn-color-unfitted-level-0);\n",
       "}\n",
       "\n",
       "#sk-container-id-12 div.sk-estimator.fitted {\n",
       "  /* fitted */\n",
       "  background-color: var(--sklearn-color-fitted-level-0);\n",
       "}\n",
       "\n",
       "/* on hover */\n",
       "#sk-container-id-12 div.sk-estimator:hover {\n",
       "  /* unfitted */\n",
       "  background-color: var(--sklearn-color-unfitted-level-2);\n",
       "}\n",
       "\n",
       "#sk-container-id-12 div.sk-estimator.fitted:hover {\n",
       "  /* fitted */\n",
       "  background-color: var(--sklearn-color-fitted-level-2);\n",
       "}\n",
       "\n",
       "/* Specification for estimator info (e.g. \"i\" and \"?\") */\n",
       "\n",
       "/* Common style for \"i\" and \"?\" */\n",
       "\n",
       ".sk-estimator-doc-link,\n",
       "a:link.sk-estimator-doc-link,\n",
       "a:visited.sk-estimator-doc-link {\n",
       "  float: right;\n",
       "  font-size: smaller;\n",
       "  line-height: 1em;\n",
       "  font-family: monospace;\n",
       "  background-color: var(--sklearn-color-background);\n",
       "  border-radius: 1em;\n",
       "  height: 1em;\n",
       "  width: 1em;\n",
       "  text-decoration: none !important;\n",
       "  margin-left: 0.5em;\n",
       "  text-align: center;\n",
       "  /* unfitted */\n",
       "  border: var(--sklearn-color-unfitted-level-1) 1pt solid;\n",
       "  color: var(--sklearn-color-unfitted-level-1);\n",
       "}\n",
       "\n",
       ".sk-estimator-doc-link.fitted,\n",
       "a:link.sk-estimator-doc-link.fitted,\n",
       "a:visited.sk-estimator-doc-link.fitted {\n",
       "  /* fitted */\n",
       "  border: var(--sklearn-color-fitted-level-1) 1pt solid;\n",
       "  color: var(--sklearn-color-fitted-level-1);\n",
       "}\n",
       "\n",
       "/* On hover */\n",
       "div.sk-estimator:hover .sk-estimator-doc-link:hover,\n",
       ".sk-estimator-doc-link:hover,\n",
       "div.sk-label-container:hover .sk-estimator-doc-link:hover,\n",
       ".sk-estimator-doc-link:hover {\n",
       "  /* unfitted */\n",
       "  background-color: var(--sklearn-color-unfitted-level-3);\n",
       "  color: var(--sklearn-color-background);\n",
       "  text-decoration: none;\n",
       "}\n",
       "\n",
       "div.sk-estimator.fitted:hover .sk-estimator-doc-link.fitted:hover,\n",
       ".sk-estimator-doc-link.fitted:hover,\n",
       "div.sk-label-container:hover .sk-estimator-doc-link.fitted:hover,\n",
       ".sk-estimator-doc-link.fitted:hover {\n",
       "  /* fitted */\n",
       "  background-color: var(--sklearn-color-fitted-level-3);\n",
       "  color: var(--sklearn-color-background);\n",
       "  text-decoration: none;\n",
       "}\n",
       "\n",
       "/* Span, style for the box shown on hovering the info icon */\n",
       ".sk-estimator-doc-link span {\n",
       "  display: none;\n",
       "  z-index: 9999;\n",
       "  position: relative;\n",
       "  font-weight: normal;\n",
       "  right: .2ex;\n",
       "  padding: .5ex;\n",
       "  margin: .5ex;\n",
       "  width: min-content;\n",
       "  min-width: 20ex;\n",
       "  max-width: 50ex;\n",
       "  color: var(--sklearn-color-text);\n",
       "  box-shadow: 2pt 2pt 4pt #999;\n",
       "  /* unfitted */\n",
       "  background: var(--sklearn-color-unfitted-level-0);\n",
       "  border: .5pt solid var(--sklearn-color-unfitted-level-3);\n",
       "}\n",
       "\n",
       ".sk-estimator-doc-link.fitted span {\n",
       "  /* fitted */\n",
       "  background: var(--sklearn-color-fitted-level-0);\n",
       "  border: var(--sklearn-color-fitted-level-3);\n",
       "}\n",
       "\n",
       ".sk-estimator-doc-link:hover span {\n",
       "  display: block;\n",
       "}\n",
       "\n",
       "/* \"?\"-specific style due to the `<a>` HTML tag */\n",
       "\n",
       "#sk-container-id-12 a.estimator_doc_link {\n",
       "  float: right;\n",
       "  font-size: 1rem;\n",
       "  line-height: 1em;\n",
       "  font-family: monospace;\n",
       "  background-color: var(--sklearn-color-background);\n",
       "  border-radius: 1rem;\n",
       "  height: 1rem;\n",
       "  width: 1rem;\n",
       "  text-decoration: none;\n",
       "  /* unfitted */\n",
       "  color: var(--sklearn-color-unfitted-level-1);\n",
       "  border: var(--sklearn-color-unfitted-level-1) 1pt solid;\n",
       "}\n",
       "\n",
       "#sk-container-id-12 a.estimator_doc_link.fitted {\n",
       "  /* fitted */\n",
       "  border: var(--sklearn-color-fitted-level-1) 1pt solid;\n",
       "  color: var(--sklearn-color-fitted-level-1);\n",
       "}\n",
       "\n",
       "/* On hover */\n",
       "#sk-container-id-12 a.estimator_doc_link:hover {\n",
       "  /* unfitted */\n",
       "  background-color: var(--sklearn-color-unfitted-level-3);\n",
       "  color: var(--sklearn-color-background);\n",
       "  text-decoration: none;\n",
       "}\n",
       "\n",
       "#sk-container-id-12 a.estimator_doc_link.fitted:hover {\n",
       "  /* fitted */\n",
       "  background-color: var(--sklearn-color-fitted-level-3);\n",
       "}\n",
       "</style><div id=\"sk-container-id-12\" class=\"sk-top-container\"><div class=\"sk-text-repr-fallback\"><pre>LinearRegression()</pre><b>In a Jupyter environment, please rerun this cell to show the HTML representation or trust the notebook. <br />On GitHub, the HTML representation is unable to render, please try loading this page with nbviewer.org.</b></div><div class=\"sk-container\" hidden><div class=\"sk-item\"><div class=\"sk-estimator fitted sk-toggleable\"><input class=\"sk-toggleable__control sk-hidden--visually\" id=\"sk-estimator-id-20\" type=\"checkbox\" checked><label for=\"sk-estimator-id-20\" class=\"sk-toggleable__label fitted sk-toggleable__label-arrow\"><div><div>LinearRegression</div></div><div><a class=\"sk-estimator-doc-link fitted\" rel=\"noreferrer\" target=\"_blank\" href=\"https://scikit-learn.org/1.6/modules/generated/sklearn.linear_model.LinearRegression.html\">?<span>Documentation for LinearRegression</span></a><span class=\"sk-estimator-doc-link fitted\">i<span>Fitted</span></span></div></label><div class=\"sk-toggleable__content fitted\"><pre>LinearRegression()</pre></div> </div></div></div></div>"
      ],
      "text/plain": [
       "LinearRegression()"
      ]
     },
     "execution_count": 209,
     "metadata": {},
     "output_type": "execute_result"
    }
   ],
   "source": [
    "linear_model = LinearRegression()\n",
    "linear_model.fit(X_train_car, y_train_car)"
   ]
  },
  {
   "cell_type": "markdown",
   "metadata": {
    "id": "MUgkbuoJpVew"
   },
   "source": [
    "Membuat prediksi dari model yang sudah dilatih, buat prediksi pada data latih maupun data uji (X_train, X_test)\n",
    "\n",
    "**Hint: .predict()**"
   ]
  },
  {
   "cell_type": "code",
   "execution_count": 210,
   "metadata": {
    "id": "w_BgD8U7pVew"
   },
   "outputs": [
    {
     "name": "stdout",
     "output_type": "stream",
     "text": [
      "Predictions on training data: [46038.9070267  29705.77281226 55029.20762073 59444.9199645\n",
      " 25067.06644881]\n",
      "Predictions on testing data: [45989.54733104 45223.02897283 63000.06820656 31619.21756195\n",
      " 60029.67501799]\n"
     ]
    }
   ],
   "source": [
    "y_train_pred_car = linear_model.predict(X_train_car)\n",
    "y_test_pred_car = linear_model.predict(X_test_car)\n",
    "\n",
    "print(\"Predictions on training data:\", y_train_pred_car[:5])  \n",
    "print(\"Predictions on testing data:\", y_test_pred_car[:5])   "
   ]
  },
  {
   "cell_type": "markdown",
   "metadata": {
    "id": "3tQs89b3pVew"
   },
   "source": [
    "### Evaluate the model"
   ]
  },
  {
   "cell_type": "markdown",
   "metadata": {
    "id": "8cxHLYLPpVew"
   },
   "source": [
    "Setelah membangun model dengan melatih dan memprediksi, selanjutnya praktikan mengevaluasi model dengan Mean Squared Error dan R-squared"
   ]
  },
  {
   "cell_type": "markdown",
   "metadata": {
    "id": "TXHt1o9QpVew"
   },
   "source": [
    "Import library yang digunakan\n",
    "\n",
    "**Hint: sklearn.metrics (mean_squared_error, r2_score), statsmodels.api (sm), numpy (np)**"
   ]
  },
  {
   "cell_type": "code",
   "execution_count": 211,
   "metadata": {
    "id": "deM9Nm-jpVew"
   },
   "outputs": [],
   "source": [
    "from sklearn.metrics import mean_squared_error, r2_score"
   ]
  },
  {
   "cell_type": "markdown",
   "metadata": {
    "id": "QuXUwApSaB-p"
   },
   "source": [
    "Mendapatkan Intercept dan Koefisien dari model\n",
    "\n",
    "**Hint: model.intercept_, model.coef_**"
   ]
  },
  {
   "cell_type": "code",
   "execution_count": 212,
   "metadata": {
    "id": "SSaCHK9caB-q"
   },
   "outputs": [
    {
     "name": "stdout",
     "output_type": "stream",
     "text": [
      "Intercept: -42115.83341846754\n",
      "Coefficients: [4.28270310e+01 8.39371100e+02 5.62401750e-01 8.09907086e-03\n",
      " 2.89307666e-02]\n"
     ]
    }
   ],
   "source": [
    "intercept_car = linear_model.intercept_\n",
    "coefficients_car = linear_model.coef_\n",
    "\n",
    "print(\"Intercept:\", intercept_car)\n",
    "print(\"Coefficients:\", coefficients_car)"
   ]
  },
  {
   "cell_type": "markdown",
   "metadata": {
    "id": "eZqUt3zSaB-q"
   },
   "source": [
    "Menampilkan intercept dan koefisien\n",
    "\n",
    "**Hint: print()**"
   ]
  },
  {
   "cell_type": "code",
   "execution_count": 213,
   "metadata": {
    "id": "kHGHFT36aB-q"
   },
   "outputs": [
    {
     "name": "stdout",
     "output_type": "stream",
     "text": [
      "Intercept: -42115.83341846754\n",
      "Coefficients: [4.28270310e+01 8.39371100e+02 5.62401750e-01 8.09907086e-03\n",
      " 2.89307666e-02]\n"
     ]
    }
   ],
   "source": [
    "print(\"Intercept:\", intercept_car)\n",
    "print(\"Coefficients:\", coefficients_car)"
   ]
  },
  {
   "cell_type": "markdown",
   "metadata": {
    "id": "N_-yrnH3aB-q"
   },
   "source": [
    "mendapatkan p-value dari model\n",
    "\n",
    "**Hint: sm.add_constant(), sm.OLS(), ols_model.fit()**"
   ]
  },
  {
   "cell_type": "code",
   "execution_count": 214,
   "metadata": {
    "id": "45gI82OPaB-q"
   },
   "outputs": [
    {
     "name": "stdout",
     "output_type": "stream",
     "text": [
      "                             OLS Regression Results                            \n",
      "===============================================================================\n",
      "Dep. Variable:     Car Purchase Amount   R-squared:                       1.000\n",
      "Model:                             OLS   Adj. R-squared:                  1.000\n",
      "Method:                  Least Squares   F-statistic:                 1.628e+05\n",
      "Date:                 Sat, 19 Apr 2025   Prob (F-statistic):               0.00\n",
      "Time:                         20:22:57   Log-Likelihood:                -2757.2\n",
      "No. Observations:                  400   AIC:                             5526.\n",
      "Df Residuals:                      394   BIC:                             5550.\n",
      "Df Model:                            5                                         \n",
      "Covariance Type:             nonrobust                                         \n",
      "====================================================================================\n",
      "                       coef    std err          t      P>|t|      [0.025      0.975]\n",
      "------------------------------------------------------------------------------------\n",
      "const            -4.212e+04    103.311   -407.660      0.000   -4.23e+04   -4.19e+04\n",
      "Gender              42.8270     24.092      1.778      0.076      -4.538      90.193\n",
      "Age                839.3711      1.497    560.752      0.000     836.428     842.314\n",
      "Annual Salary        0.5624      0.001    555.064      0.000       0.560       0.564\n",
      "Credit Card Debt     0.0081      0.003      2.339      0.020       0.001       0.015\n",
      "Net Worth            0.0289   6.86e-05    421.461      0.000       0.029       0.029\n",
      "==============================================================================\n",
      "Omnibus:                      174.340   Durbin-Watson:                   2.100\n",
      "Prob(Omnibus):                  0.000   Jarque-Bera (JB):               22.147\n",
      "Skew:                          -0.028   Prob(JB):                     1.55e-05\n",
      "Kurtosis:                       1.849   Cond. No.                     4.05e+06\n",
      "==============================================================================\n",
      "\n",
      "Notes:\n",
      "[1] Standard Errors assume that the covariance matrix of the errors is correctly specified.\n",
      "[2] The condition number is large, 4.05e+06. This might indicate that there are\n",
      "strong multicollinearity or other numerical problems.\n"
     ]
    }
   ],
   "source": [
    "X_train_car_const = sm.add_constant(X_train_car)  \n",
    "ols_model = sm.OLS(y_train_car, X_train_car_const)  \n",
    "result_car = ols_model.fit()  \n",
    "\n",
    "print(result_car.summary())"
   ]
  },
  {
   "cell_type": "markdown",
   "metadata": {
    "id": "rZWV1pAoaB-r"
   },
   "source": [
    "Menampilkan p-value dari variabel prediktor\n",
    "\n",
    "**Hint: print(), result.**"
   ]
  },
  {
   "cell_type": "code",
   "execution_count": 215,
   "metadata": {
    "id": "q2DjU1_FaB-r"
   },
   "outputs": [
    {
     "name": "stdout",
     "output_type": "stream",
     "text": [
      "P-values of predictor variables:\n",
      "const               0.000000\n",
      "Gender              0.076237\n",
      "Age                 0.000000\n",
      "Annual Salary       0.000000\n",
      "Credit Card Debt    0.019834\n",
      "Net Worth           0.000000\n",
      "dtype: float64\n"
     ]
    }
   ],
   "source": [
    "print(\"P-values of predictor variables:\")\n",
    "print(result_car.pvalues)"
   ]
  },
  {
   "cell_type": "markdown",
   "metadata": {
    "id": "36YDhWAKpVew"
   },
   "source": [
    "Menampilkan rata-rata kuadrat kesalahan antara nilai prediksi dan nilai aktual\n",
    "\n",
    "**Hint: mean_squared_error**"
   ]
  },
  {
   "cell_type": "code",
   "execution_count": 216,
   "metadata": {
    "id": "vR28RIZrpVew"
   },
   "outputs": [
    {
     "name": "stdout",
     "output_type": "stream",
     "text": [
      "Mean Squared Error on training data: 56835.896754055575\n",
      "Mean Squared Error on testing data: 62253.96588916662\n"
     ]
    }
   ],
   "source": [
    "mse_train = mean_squared_error(y_train_car, y_train_pred_car)\n",
    "mse_test = mean_squared_error(y_test_car, y_test_pred_car)\n",
    "\n",
    "print(\"Mean Squared Error on training data:\", mse_train)\n",
    "print(\"Mean Squared Error on testing data:\", mse_test)"
   ]
  },
  {
   "cell_type": "markdown",
   "metadata": {
    "id": "yjNjFLUOpVex"
   },
   "source": [
    "Menampilkan  proporsi varians dalam variabel dependen yang dapat dijelaskan oleh model\n",
    "\n",
    "**Hint: r2_score()**"
   ]
  },
  {
   "cell_type": "code",
   "execution_count": 217,
   "metadata": {
    "id": "3z_wpTrFpVex"
   },
   "outputs": [
    {
     "name": "stdout",
     "output_type": "stream",
     "text": [
      "R-squared on training data: 0.9995160658532982\n",
      "R-squared on testing data: 0.9994234310992746\n"
     ]
    }
   ],
   "source": [
    "r2_train = r2_score(y_train_car, y_train_pred_car)\n",
    "r2_test = r2_score(y_test_car, y_test_pred_car)\n",
    "\n",
    "print(\"R-squared on training data:\", r2_train)\n",
    "print(\"R-squared on testing data:\", r2_test)"
   ]
  },
  {
   "cell_type": "markdown",
   "metadata": {
    "id": "nijYsQb_PZnu"
   },
   "source": [
    "Berikan kesimpulan berdasarkan hasil evaluasi model:"
   ]
  },
  {
   "cell_type": "markdown",
   "metadata": {
    "id": "yfAEQ8M4Pyo_"
   },
   "source": [
    "\n",
    "\n",
    "1. **Membaca dan Melihat Data**:\n",
    "  - `pd.read_csv()` digunakan untuk membaca dataset dari file CSV.\n",
    "  - `head()` menampilkan beberapa baris awal dataset untuk memahami struktur data.\n",
    "  - `describe()` memberikan ringkasan statistik dari dataset.\n",
    "\n",
    "2. **Melabeli Data**:\n",
    "  - `drop()` digunakan untuk menghapus kolom target dari dataset, sehingga hanya menyisakan fitur independen.\n",
    "  - Kolom target (`Car Purchase Amount`) dipisahkan sebagai variabel dependen.\n",
    "\n",
    "3. **Memisahkan Dataset**:\n",
    "  - `train_test_split()` digunakan untuk membagi dataset menjadi data latih dan data uji dengan proporsi tertentu (20% untuk data uji).\n",
    "\n",
    "4. **Membangun Model Linear Regression**:\n",
    "  - `LinearRegression()` digunakan untuk menginisialisasi model regresi linear.\n",
    "  - `fit()` melatih model menggunakan data latih.\n",
    "\n",
    "5. **Membuat Prediksi**:\n",
    "  - `predict()` digunakan untuk membuat prediksi pada data latih dan data uji.\n",
    "\n",
    "6. **Evaluasi Model**:\n",
    "  - **Intercept dan Koefisien**:\n",
    "    - `model.intercept_` memberikan nilai intercept dari model.\n",
    "    - `model.coef_` memberikan nilai koefisien dari fitur independen.\n",
    "  - **P-Value**:\n",
    "    - `sm.add_constant()` menambahkan konstanta ke data fitur.\n",
    "    - `sm.OLS()` membangun model Ordinary Least Squares (OLS) untuk menghitung p-value.\n",
    "    - `fit()` melatih model OLS.\n",
    "    - `result.pvalues` memberikan p-value dari masing-masing variabel prediktor.\n",
    "  - **Mean Squared Error (MSE)**:\n",
    "    - `mean_squared_error()` menghitung rata-rata kuadrat kesalahan antara nilai aktual dan prediksi.\n",
    "  - **R-Squared**:\n",
    "    - `r2_score()` menghitung proporsi varians dalam variabel dependen yang dapat dijelaskan oleh model.\n",
    "\n",
    "Kode ini dirancang untuk membangun, melatih, dan mengevaluasi model Linear Regression dengan menggunakan dataset prediksi harga pembelian mobil. Evaluasi dilakukan untuk memahami performa model dan signifikansi statistik dari variabel prediktor."
   ]
  },
  {
   "cell_type": "markdown",
   "metadata": {
    "id": "LT6L0tgWTdhJ"
   },
   "source": [
    "## Studi Kasus Segmentasi Pelanggan Berdasarkan Perilaku Pembelian (K-Means Clustering)"
   ]
  },
  {
   "cell_type": "markdown",
   "metadata": {
    "id": "fzLT6ZJZTdhK"
   },
   "source": [
    "### Read Data"
   ]
  },
  {
   "cell_type": "markdown",
   "metadata": {
    "id": "MaJGgKFNTdhK"
   },
   "source": [
    "Pertama, kita akan membaca dan melihat ringkasan statistik dari dataset menggunakan pandas dan menampilkan beberapa baris awal untuk memahami struktur data.\n",
    "\n",
    "**Hint: library pandas, menggunkan read_csv(), head(), dan data = df**"
   ]
  },
  {
   "cell_type": "code",
   "execution_count": 218,
   "metadata": {},
   "outputs": [
    {
     "name": "stdout",
     "output_type": "stream",
     "text": [
      "   Gender       Age  Annual Income (k$)  Spending Score (1-100)\n",
      "0       1 -1.424569           -1.738999               -0.434801\n",
      "1       1 -1.281035           -1.738999                1.195704\n",
      "2       0 -1.352802           -1.700830               -1.715913\n",
      "3       0 -1.137502           -1.700830                1.040418\n",
      "4       0 -0.563369           -1.662660               -0.395980\n",
      "           Gender           Age  Annual Income (k$)  Spending Score (1-100)\n",
      "count  200.000000  2.000000e+02        2.000000e+02            2.000000e+02\n",
      "mean     0.440000 -9.769963e-17       -2.131628e-16           -1.287859e-16\n",
      "std      0.497633  1.002509e+00        1.002509e+00            1.002509e+00\n",
      "min      0.000000 -1.496335e+00       -1.738999e+00           -1.910021e+00\n",
      "25%      0.000000 -7.248436e-01       -7.275093e-01           -5.997931e-01\n",
      "50%      0.000000 -2.045351e-01        3.587926e-02           -7.764312e-03\n",
      "75%      1.000000  7.284319e-01        6.656748e-01            8.851316e-01\n",
      "max      1.000000  2.235532e+00        2.917671e+00            1.894492e+00\n"
     ]
    }
   ],
   "source": [
    "df_customers = pd.read_csv('../Resource/Data_TP2_KMeans-Clustering.csv')\n",
    "\n",
    "print(df_customers.head())\n",
    "print(df_customers.describe())"
   ]
  },
  {
   "cell_type": "markdown",
   "metadata": {
    "id": "HeOtewhcineK"
   },
   "source": [
    "melihat ringkasan statistik\n",
    "\n",
    "**Hint: describe()**"
   ]
  },
  {
   "cell_type": "code",
   "execution_count": 219,
   "metadata": {
    "id": "dSwEB828TdhK"
   },
   "outputs": [
    {
     "data": {
      "text/html": [
       "<div>\n",
       "<style scoped>\n",
       "    .dataframe tbody tr th:only-of-type {\n",
       "        vertical-align: middle;\n",
       "    }\n",
       "\n",
       "    .dataframe tbody tr th {\n",
       "        vertical-align: top;\n",
       "    }\n",
       "\n",
       "    .dataframe thead th {\n",
       "        text-align: right;\n",
       "    }\n",
       "</style>\n",
       "<table border=\"1\" class=\"dataframe\">\n",
       "  <thead>\n",
       "    <tr style=\"text-align: right;\">\n",
       "      <th></th>\n",
       "      <th>Gender</th>\n",
       "      <th>Age</th>\n",
       "      <th>Annual Income (k$)</th>\n",
       "      <th>Spending Score (1-100)</th>\n",
       "    </tr>\n",
       "  </thead>\n",
       "  <tbody>\n",
       "    <tr>\n",
       "      <th>count</th>\n",
       "      <td>200.000000</td>\n",
       "      <td>2.000000e+02</td>\n",
       "      <td>2.000000e+02</td>\n",
       "      <td>2.000000e+02</td>\n",
       "    </tr>\n",
       "    <tr>\n",
       "      <th>mean</th>\n",
       "      <td>0.440000</td>\n",
       "      <td>-9.769963e-17</td>\n",
       "      <td>-2.131628e-16</td>\n",
       "      <td>-1.287859e-16</td>\n",
       "    </tr>\n",
       "    <tr>\n",
       "      <th>std</th>\n",
       "      <td>0.497633</td>\n",
       "      <td>1.002509e+00</td>\n",
       "      <td>1.002509e+00</td>\n",
       "      <td>1.002509e+00</td>\n",
       "    </tr>\n",
       "    <tr>\n",
       "      <th>min</th>\n",
       "      <td>0.000000</td>\n",
       "      <td>-1.496335e+00</td>\n",
       "      <td>-1.738999e+00</td>\n",
       "      <td>-1.910021e+00</td>\n",
       "    </tr>\n",
       "    <tr>\n",
       "      <th>25%</th>\n",
       "      <td>0.000000</td>\n",
       "      <td>-7.248436e-01</td>\n",
       "      <td>-7.275093e-01</td>\n",
       "      <td>-5.997931e-01</td>\n",
       "    </tr>\n",
       "    <tr>\n",
       "      <th>50%</th>\n",
       "      <td>0.000000</td>\n",
       "      <td>-2.045351e-01</td>\n",
       "      <td>3.587926e-02</td>\n",
       "      <td>-7.764312e-03</td>\n",
       "    </tr>\n",
       "    <tr>\n",
       "      <th>75%</th>\n",
       "      <td>1.000000</td>\n",
       "      <td>7.284319e-01</td>\n",
       "      <td>6.656748e-01</td>\n",
       "      <td>8.851316e-01</td>\n",
       "    </tr>\n",
       "    <tr>\n",
       "      <th>max</th>\n",
       "      <td>1.000000</td>\n",
       "      <td>2.235532e+00</td>\n",
       "      <td>2.917671e+00</td>\n",
       "      <td>1.894492e+00</td>\n",
       "    </tr>\n",
       "  </tbody>\n",
       "</table>\n",
       "</div>"
      ],
      "text/plain": [
       "           Gender           Age  Annual Income (k$)  Spending Score (1-100)\n",
       "count  200.000000  2.000000e+02        2.000000e+02            2.000000e+02\n",
       "mean     0.440000 -9.769963e-17       -2.131628e-16           -1.287859e-16\n",
       "std      0.497633  1.002509e+00        1.002509e+00            1.002509e+00\n",
       "min      0.000000 -1.496335e+00       -1.738999e+00           -1.910021e+00\n",
       "25%      0.000000 -7.248436e-01       -7.275093e-01           -5.997931e-01\n",
       "50%      0.000000 -2.045351e-01        3.587926e-02           -7.764312e-03\n",
       "75%      1.000000  7.284319e-01        6.656748e-01            8.851316e-01\n",
       "max      1.000000  2.235532e+00        2.917671e+00            1.894492e+00"
      ]
     },
     "execution_count": 219,
     "metadata": {},
     "output_type": "execute_result"
    }
   ],
   "source": [
    "df_customers.describe()"
   ]
  },
  {
   "cell_type": "markdown",
   "metadata": {
    "id": "3dPn0BTFTdhK"
   },
   "source": [
    "### Pre-Modelling"
   ]
  },
  {
   "cell_type": "markdown",
   "metadata": {
    "id": "qpDvtg_wTdhK"
   },
   "source": [
    "Sebelum membangun model, praktikan melakukan pelabelan data untuk memilih fitur yang dijadikan target dan memisahkan data latih dan data uji sesuai ketentuan"
   ]
  },
  {
   "cell_type": "markdown",
   "metadata": {
    "id": "bAo2qadRTdhL"
   },
   "source": [
    "#### Labelling Data"
   ]
  },
  {
   "cell_type": "markdown",
   "metadata": {
    "id": "iW4P-qw6nNZy"
   },
   "source": [
    "Pilih kolom yang akan digunakan dalam pembuatan K-Means\n",
    "\n",
    "**Hint: Your_dataframe_name.column =**"
   ]
  },
  {
   "cell_type": "code",
   "execution_count": 220,
   "metadata": {
    "id": "9V-Nj44vnJ0m"
   },
   "outputs": [],
   "source": [
    "X_customers = df_customers[['Annual Income (k$)', 'Spending Score (1-100)']]"
   ]
  },
  {
   "cell_type": "markdown",
   "metadata": {
    "id": "3GcclC5fhHuC"
   },
   "source": [
    "Tampilkan hasil pemilihan kolom menggunakan **head()**"
   ]
  },
  {
   "cell_type": "code",
   "execution_count": 221,
   "metadata": {
    "id": "rU7fz80qhHuC"
   },
   "outputs": [
    {
     "name": "stdout",
     "output_type": "stream",
     "text": [
      "   Annual Income (k$)  Spending Score (1-100)\n",
      "0           -1.738999               -0.434801\n",
      "1           -1.738999                1.195704\n",
      "2           -1.700830               -1.715913\n",
      "3           -1.700830                1.040418\n",
      "4           -1.662660               -0.395980\n"
     ]
    }
   ],
   "source": [
    "print(X_customers.head())"
   ]
  },
  {
   "cell_type": "markdown",
   "metadata": {
    "id": "s_KD5AV3OXan"
   },
   "source": [
    "tambahan: Memilih fitur selain target yang nantinya menjadi label"
   ]
  },
  {
   "cell_type": "code",
   "execution_count": 222,
   "metadata": {
    "id": "3jBNhFKFMVaR"
   },
   "outputs": [
    {
     "name": "stdout",
     "output_type": "stream",
     "text": [
      "   Gender       Age  Annual Income (k$)\n",
      "0       1 -1.424569           -1.738999\n",
      "1       1 -1.281035           -1.738999\n",
      "2       0 -1.352802           -1.700830\n",
      "3       0 -1.137502           -1.700830\n",
      "4       0 -0.563369           -1.662660\n"
     ]
    }
   ],
   "source": [
    "X_features = df_customers.drop(columns=['Spending Score (1-100)'])\n",
    "print(X_features.head())"
   ]
  },
  {
   "cell_type": "markdown",
   "metadata": {
    "id": "azely-R1TdhL"
   },
   "source": [
    "#### Menentukan K (Elbow Method)"
   ]
  },
  {
   "cell_type": "markdown",
   "metadata": {
    "id": "A_g-jEjcTdhL"
   },
   "source": [
    "Gunakan Elbow Method untuk menemukan jumlah klaster yang optimal"
   ]
  },
  {
   "cell_type": "markdown",
   "metadata": {
    "id": "1n-BJlHOTdhL"
   },
   "source": [
    "Import library yang digunakan\n",
    "\n",
    "**Hint: sklearn.cluster (KMeans),  matplotlib.pyplot (plt)**"
   ]
  },
  {
   "cell_type": "code",
   "execution_count": 223,
   "metadata": {
    "id": "qWJVoy7wTdhL"
   },
   "outputs": [],
   "source": [
    "from sklearn.cluster import KMeans\n",
    "\n",
    "import matplotlib.pyplot as plt"
   ]
  },
  {
   "cell_type": "markdown",
   "metadata": {
    "id": "GZ7wCpgQTdhL"
   },
   "source": [
    "Buat elbow method untuk menentukan k optimal\n",
    "\n",
    "**Hint: KMeans(), fit(), inertia.append()**"
   ]
  },
  {
   "cell_type": "code",
   "execution_count": 224,
   "metadata": {
    "id": "CxeFIPuoTdhL"
   },
   "outputs": [
    {
     "data": {
      "image/png": "[encoded data removed]",
      "text/plain": [
       "<Figure size 800x500 with 1 Axes>"
      ]
     },
     "metadata": {},
     "output_type": "display_data"
    }
   ],
   "source": [
    "inertia = []\n",
    "k_range = range(1, 11)\n",
    "\n",
    "for k in k_range:\n",
    "  kmeans = KMeans(n_clusters=k, random_state=42)\n",
    "  kmeans.fit(X_customers)\n",
    "  inertia.append(kmeans.inertia_)\n",
    "\n",
    "plt.figure(figsize=(8, 5))\n",
    "plt.plot(k_range, inertia, marker='o')\n",
    "plt.title('Elbow Method for Optimal k')\n",
    "plt.xlabel('Number of Clusters (k)')\n",
    "plt.ylabel('Inertia')\n",
    "plt.grid(True)\n",
    "plt.show()"
   ]
  },
  {
   "cell_type": "markdown",
   "metadata": {
    "id": "5AXBrHHhqizF"
   },
   "source": [
    "Visualisasikan plot Elbow Method\n",
    "\n",
    "**Hint: plot(), xlabel(), ylabel(), title()**"
   ]
  },
  {
   "cell_type": "code",
   "execution_count": 225,
   "metadata": {
    "id": "yob37UNmp2bi"
   },
   "outputs": [
    {
     "data": {
      "image/png": "[encoded data removed]",
      "text/plain": [
       "<Figure size 800x500 with 1 Axes>"
      ]
     },
     "metadata": {},
     "output_type": "display_data"
    }
   ],
   "source": [
    "plt.figure(figsize=(8, 5))\n",
    "plt.plot(k_range, inertia, marker='o')\n",
    "plt.title('Elbow Method for Optimal k')\n",
    "plt.xlabel('Number of Clusters (k)')\n",
    "plt.ylabel('Inertia')\n",
    "plt.grid(True)\n",
    "plt.show()"
   ]
  },
  {
   "cell_type": "markdown",
   "metadata": {
    "id": "ENpBd-7fTdhM"
   },
   "source": [
    "### Build Model"
   ]
  },
  {
   "cell_type": "markdown",
   "metadata": {
    "id": "7A6Nuop_TdhM"
   },
   "source": [
    "Praktikan membangun model K-Means dengan data yang sudah dipersiapkan pada tahap sebelumnya"
   ]
  },
  {
   "cell_type": "markdown",
   "metadata": {
    "id": "Dp31_8IXTdhM"
   },
   "source": [
    "Cocokkan model K-means dengan k optimal (misalnya, k=4)\n",
    "\n",
    "**Hint: KMeans().fit()**"
   ]
  },
  {
   "cell_type": "code",
   "execution_count": 226,
   "metadata": {
    "id": "LzkrfTEKTdhM"
   },
   "outputs": [
    {
     "name": "stdout",
     "output_type": "stream",
     "text": [
      "Cluster Centers:\n",
      "[[-0.47298347 -0.26414036]\n",
      " [ 0.99158305  1.23950275]\n",
      " [-1.32954532  1.13217788]\n",
      " [ 1.00919971 -1.22553537]]\n"
     ]
    }
   ],
   "source": [
    "kmeans_model = KMeans(n_clusters=4, random_state=42)\n",
    "kmeans_model.fit(X_customers)\n",
    "\n",
    "print(\"Cluster Centers:\")\n",
    "print(kmeans_model.cluster_centers_)"
   ]
  },
  {
   "cell_type": "markdown",
   "metadata": {
    "id": "pPEFg96oryi3"
   },
   "source": [
    "Tetapkan label cluster untuk Author\n",
    "\n",
    "**Hint: .labels_**"
   ]
  },
  {
   "cell_type": "code",
   "execution_count": 227,
   "metadata": {
    "id": "t7PbXCsYrYfN"
   },
   "outputs": [
    {
     "name": "stdout",
     "output_type": "stream",
     "text": [
      "Cluster Labels:\n",
      "[0 2 0 2 0 2 0 2 0 2 0 2 0 2 0 2 0 2 0 2 0 2 0 2 0 2 0 2 0 2 0 2 0 2 0 2 0\n",
      " 2 0 2 0 2 0 0 0 2 0 0 0 0 0 0 0 0 0 0 0 0 0 0 0 0 0 0 0 0 0 0 0 0 0 0 0 0\n",
      " 0 0 0 0 0 0 0 0 0 0 0 0 0 0 0 0 0 0 0 0 0 0 0 0 0 0 0 0 0 0 0 0 0 0 0 0 0\n",
      " 0 0 0 0 0 0 0 0 0 0 0 0 1 3 1 3 1 3 1 3 1 3 1 3 1 3 1 3 1 3 1 3 1 3 1 3 1\n",
      " 3 1 3 1 3 1 3 1 3 1 3 1 3 1 3 1 3 1 3 1 3 1 3 1 3 1 3 1 3 1 3 1 3 1 3 1 3\n",
      " 1 3 1 3 1 3 1 3 1 3 1 3 1 3 1]\n"
     ]
    }
   ],
   "source": [
    "cluster_labels = kmeans_model.labels_\n",
    "print(\"Cluster Labels:\")\n",
    "print(cluster_labels)"
   ]
  },
  {
   "cell_type": "markdown",
   "metadata": {
    "id": "DHlKnzHbTdhN"
   },
   "source": [
    "### Evaluate the model (before tuning)"
   ]
  },
  {
   "cell_type": "markdown",
   "metadata": {
    "id": "1gFemzNwTdhN"
   },
   "source": [
    "Setelah membangun model dengan melatih dan memprediksi, selanjutnya praktikan mengevaluasi model dengan Visualisasi Hasil Klasterisasi dan Silhouette Score"
   ]
  },
  {
   "cell_type": "markdown",
   "metadata": {
    "id": "8vVsrPZqTdhN"
   },
   "source": [
    "Import library yang digunakan\n",
    "\n",
    "**Hint: sklearn.metrics (silhouette_score), sklearn.decomposition (PCA), seaborn (sns)**"
   ]
  },
  {
   "cell_type": "code",
   "execution_count": 228,
   "metadata": {
    "id": "-wCfv54ITdhN"
   },
   "outputs": [],
   "source": [
    "from sklearn.metrics import silhouette_score\n",
    "from sklearn.decomposition import PCA\n",
    "import seaborn as sns"
   ]
  },
  {
   "cell_type": "markdown",
   "metadata": {
    "id": "kLfB9thoTdhN"
   },
   "source": [
    "Untuk visualisasi hasil, praktikan bisa menggunakan PCA (Principal Component Analysis) untuk mereduksi dimensi data sehingga bisa divisualisasikan dalam bentuk 2D.\n",
    "\n",
    "**Hint: PCA(), pca.fit_transform()**"
   ]
  },
  {
   "cell_type": "code",
   "execution_count": 229,
   "metadata": {},
   "outputs": [
    {
     "data": {
      "image/png": "[encoded data removed]",
      "text/plain": [
       "<Figure size 800x600 with 1 Axes>"
      ]
     },
     "metadata": {},
     "output_type": "display_data"
    }
   ],
   "source": [
    "pca = PCA(n_components=2)\n",
    "X_pca = pca.fit_transform(X_customers)\n",
    "\n",
    "plt.figure(figsize=(8, 6))\n",
    "sns.scatterplot(x=X_pca[:, 0], y=X_pca[:, 1], hue=cluster_labels, palette='viridis', s=100)\n",
    "plt.title('Cluster Visualization using PCA')\n",
    "plt.xlabel('Principal Component 1')\n",
    "plt.ylabel('Principal Component 2')\n",
    "plt.legend(title='Cluster')\n",
    "plt.grid(True)\n",
    "plt.show()"
   ]
  },
  {
   "cell_type": "markdown",
   "metadata": {
    "id": "yw-2tExeTdhN"
   },
   "source": [
    "Visualisasi plot klusterisasi\n",
    "\n",
    "**Hint: scatterplot(), hue=, data=pca_df**"
   ]
  },
  {
   "cell_type": "code",
   "execution_count": 230,
   "metadata": {
    "id": "tWqsYYJKTdhN"
   },
   "outputs": [
    {
     "data": {
      "image/png": "[encoded data removed]",
      "text/plain": [
       "<Figure size 800x600 with 1 Axes>"
      ]
     },
     "metadata": {},
     "output_type": "display_data"
    }
   ],
   "source": [
    "plt.figure(figsize=(8, 6))\n",
    "sns.scatterplot(x=X_pca[:, 0], y=X_pca[:, 1], hue=cluster_labels, palette='viridis', s=100)\n",
    "plt.title('Cluster Visualization using PCA')\n",
    "plt.xlabel('Principal Component 1')\n",
    "plt.ylabel('Principal Component 2')\n",
    "plt.legend(title='Cluster')\n",
    "plt.grid(True)\n",
    "plt.show()"
   ]
  },
  {
   "cell_type": "markdown",
   "metadata": {
    "id": "k1qi3MMQzXy_"
   },
   "source": [
    "Menghitung Silhouette Score\n",
    "\n",
    "**Hint: silhouette_score(), print()**"
   ]
  },
  {
   "cell_type": "code",
   "execution_count": 231,
   "metadata": {
    "id": "tK0Kt7DkzXer"
   },
   "outputs": [
    {
     "name": "stdout",
     "output_type": "stream",
     "text": [
      "Silhouette Score: 0.49434988482196784\n"
     ]
    }
   ],
   "source": [
    "silhouette_avg = silhouette_score(X_customers, cluster_labels)\n",
    "print(\"Silhouette Score:\", silhouette_avg)"
   ]
  },
  {
   "cell_type": "markdown",
   "metadata": {
    "id": "Prbb9bg-TdhO"
   },
   "source": [
    "### Model Tuning\n"
   ]
  },
  {
   "cell_type": "markdown",
   "metadata": {
    "id": "DL3j5mqfTdhO"
   },
   "source": [
    "Melakukan tuning model dengan memilih hyperparameter secara otomatis menggunakan Grid Search\n",
    "\n",
    "**Implementasi Grid Search**\n",
    "\n",
    "Mengetahui nilai mana yang harus ditetapkan untuk parameter yang dicari memerlukan kombinasi pengetahuan dan praktik domain.\n"
   ]
  },
  {
   "cell_type": "markdown",
   "metadata": {
    "id": "BpDv9jriTdhO"
   },
   "source": [
    "Import library yang digunakan\n",
    "\n",
    "**Hint:sklearn.model_selection (GridSearchCV)**"
   ]
  },
  {
   "cell_type": "code",
   "execution_count": 232,
   "metadata": {
    "id": "ylYp4G0eTdhO"
   },
   "outputs": [],
   "source": [
    "from sklearn.model_selection import GridSearchCV"
   ]
  },
  {
   "cell_type": "markdown",
   "metadata": {
    "id": "Gd4VNcRYTdhO"
   },
   "source": [
    "Tentukan parameter yang ingin dicoba, buat list nilai n_cluster, init, n_init, max_iter pada param_grid\n",
    "\n",
    "**Hint: param_grid = {n_cluster, ..., ...}**"
   ]
  },
  {
   "cell_type": "code",
   "execution_count": 233,
   "metadata": {
    "id": "ZOMsNFITTdhO",
    "vscode": {
     "languageId": "javascript"
    }
   },
   "outputs": [],
   "source": [
    "param_grid = {\n",
    "  'n_clusters': [2, 3, 4, 5, 6],\n",
    "  'init': ['k-means++', 'random'],\n",
    "  'n_init': [10, 20, 30],\n",
    "  'max_iter': [300, 500, 1000]\n",
    "}"
   ]
  },
  {
   "cell_type": "markdown",
   "metadata": {
    "id": "fQb5T-68TdhO"
   },
   "source": [
    "Inisialisasi GridSearchCV\n",
    "\n",
    "**Hint: inisiasi KMeans() dan GridSearchCV (param_grid=..)**"
   ]
  },
  {
   "cell_type": "code",
   "execution_count": 234,
   "metadata": {
    "id": "WNKPZIkfTdhO"
   },
   "outputs": [],
   "source": [
    "grid_search = GridSearchCV(estimator=KMeans(random_state=42), param_grid=param_grid, cv=3, verbose=1)"
   ]
  },
  {
   "cell_type": "markdown",
   "metadata": {
    "id": "Jri5Q7w1TdhO"
   },
   "source": [
    "Fit model dengan data training\n",
    "\n",
    "**Hint: grid_search.fit()**"
   ]
  },
  {
   "cell_type": "code",
   "execution_count": 235,
   "metadata": {
    "id": "6nbu9dEITdhO"
   },
   "outputs": [
    {
     "name": "stdout",
     "output_type": "stream",
     "text": [
      "Fitting 3 folds for each of 90 candidates, totalling 270 fits\n"
     ]
    },
    {
     "data": {
      "text/html": [
       "<style>#sk-container-id-13 {\n",
       "  /* Definition of color scheme common for light and dark mode */\n",
       "  --sklearn-color-text: #000;\n",
       "  --sklearn-color-text-muted: #666;\n",
       "  --sklearn-color-line: gray;\n",
       "  /* Definition of color scheme for unfitted estimators */\n",
       "  --sklearn-color-unfitted-level-0: #fff5e6;\n",
       "  --sklearn-color-unfitted-level-1: #f6e4d2;\n",
       "  --sklearn-color-unfitted-level-2: #ffe0b3;\n",
       "  --sklearn-color-unfitted-level-3: chocolate;\n",
       "  /* Definition of color scheme for fitted estimators */\n",
       "  --sklearn-color-fitted-level-0: #f0f8ff;\n",
       "  --sklearn-color-fitted-level-1: #d4ebff;\n",
       "  --sklearn-color-fitted-level-2: #b3dbfd;\n",
       "  --sklearn-color-fitted-level-3: cornflowerblue;\n",
       "\n",
       "  /* Specific color for light theme */\n",
       "  --sklearn-color-text-on-default-background: var(--sg-text-color, var(--theme-code-foreground, var(--jp-content-font-color1, black)));\n",
       "  --sklearn-color-background: var(--sg-background-color, var(--theme-background, var(--jp-layout-color0, white)));\n",
       "  --sklearn-color-border-box: var(--sg-text-color, var(--theme-code-foreground, var(--jp-content-font-color1, black)));\n",
       "  --sklearn-color-icon: #696969;\n",
       "\n",
       "  @media (prefers-color-scheme: dark) {\n",
       "    /* Redefinition of color scheme for dark theme */\n",
       "    --sklearn-color-text-on-default-background: var(--sg-text-color, var(--theme-code-foreground, var(--jp-content-font-color1, white)));\n",
       "    --sklearn-color-background: var(--sg-background-color, var(--theme-background, var(--jp-layout-color0, #111)));\n",
       "    --sklearn-color-border-box: var(--sg-text-color, var(--theme-code-foreground, var(--jp-content-font-color1, white)));\n",
       "    --sklearn-color-icon: #878787;\n",
       "  }\n",
       "}\n",
       "\n",
       "#sk-container-id-13 {\n",
       "  color: var(--sklearn-color-text);\n",
       "}\n",
       "\n",
       "#sk-container-id-13 pre {\n",
       "  padding: 0;\n",
       "}\n",
       "\n",
       "#sk-container-id-13 input.sk-hidden--visually {\n",
       "  border: 0;\n",
       "  clip: rect(1px 1px 1px 1px);\n",
       "  clip: rect(1px, 1px, 1px, 1px);\n",
       "  height: 1px;\n",
       "  margin: -1px;\n",
       "  overflow: hidden;\n",
       "  padding: 0;\n",
       "  position: absolute;\n",
       "  width: 1px;\n",
       "}\n",
       "\n",
       "#sk-container-id-13 div.sk-dashed-wrapped {\n",
       "  border: 1px dashed var(--sklearn-color-line);\n",
       "  margin: 0 0.4em 0.5em 0.4em;\n",
       "  box-sizing: border-box;\n",
       "  padding-bottom: 0.4em;\n",
       "  background-color: var(--sklearn-color-background);\n",
       "}\n",
       "\n",
       "#sk-container-id-13 div.sk-container {\n",
       "  /* jupyter's `normalize.less` sets `[hidden] { display: none; }`\n",
       "     but bootstrap.min.css set `[hidden] { display: none !important; }`\n",
       "     so we also need the `!important` here to be able to override the\n",
       "     default hidden behavior on the sphinx rendered scikit-learn.org.\n",
       "     See: https://github.com/scikit-learn/scikit-learn/issues/21755 */\n",
       "  display: inline-block !important;\n",
       "  position: relative;\n",
       "}\n",
       "\n",
       "#sk-container-id-13 div.sk-text-repr-fallback {\n",
       "  display: none;\n",
       "}\n",
       "\n",
       "div.sk-parallel-item,\n",
       "div.sk-serial,\n",
       "div.sk-item {\n",
       "  /* draw centered vertical line to link estimators */\n",
       "  background-image: linear-gradient(var(--sklearn-color-text-on-default-background), var(--sklearn-color-text-on-default-background));\n",
       "  background-size: 2px 100%;\n",
       "  background-repeat: no-repeat;\n",
       "  background-position: center center;\n",
       "}\n",
       "\n",
       "/* Parallel-specific style estimator block */\n",
       "\n",
       "#sk-container-id-13 div.sk-parallel-item::after {\n",
       "  content: \"\";\n",
       "  width: 100%;\n",
       "  border-bottom: 2px solid var(--sklearn-color-text-on-default-background);\n",
       "  flex-grow: 1;\n",
       "}\n",
       "\n",
       "#sk-container-id-13 div.sk-parallel {\n",
       "  display: flex;\n",
       "  align-items: stretch;\n",
       "  justify-content: center;\n",
       "  background-color: var(--sklearn-color-background);\n",
       "  position: relative;\n",
       "}\n",
       "\n",
       "#sk-container-id-13 div.sk-parallel-item {\n",
       "  display: flex;\n",
       "  flex-direction: column;\n",
       "}\n",
       "\n",
       "#sk-container-id-13 div.sk-parallel-item:first-child::after {\n",
       "  align-self: flex-end;\n",
       "  width: 50%;\n",
       "}\n",
       "\n",
       "#sk-container-id-13 div.sk-parallel-item:last-child::after {\n",
       "  align-self: flex-start;\n",
       "  width: 50%;\n",
       "}\n",
       "\n",
       "#sk-container-id-13 div.sk-parallel-item:only-child::after {\n",
       "  width: 0;\n",
       "}\n",
       "\n",
       "/* Serial-specific style estimator block */\n",
       "\n",
       "#sk-container-id-13 div.sk-serial {\n",
       "  display: flex;\n",
       "  flex-direction: column;\n",
       "  align-items: center;\n",
       "  background-color: var(--sklearn-color-background);\n",
       "  padding-right: 1em;\n",
       "  padding-left: 1em;\n",
       "}\n",
       "\n",
       "\n",
       "/* Toggleable style: style used for estimator/Pipeline/ColumnTransformer box that is\n",
       "clickable and can be expanded/collapsed.\n",
       "- Pipeline and ColumnTransformer use this feature and define the default style\n",
       "- Estimators will overwrite some part of the style using the `sk-estimator` class\n",
       "*/\n",
       "\n",
       "/* Pipeline and ColumnTransformer style (default) */\n",
       "\n",
       "#sk-container-id-13 div.sk-toggleable {\n",
       "  /* Default theme specific background. It is overwritten whether we have a\n",
       "  specific estimator or a Pipeline/ColumnTransformer */\n",
       "  background-color: var(--sklearn-color-background);\n",
       "}\n",
       "\n",
       "/* Toggleable label */\n",
       "#sk-container-id-13 label.sk-toggleable__label {\n",
       "  cursor: pointer;\n",
       "  display: flex;\n",
       "  width: 100%;\n",
       "  margin-bottom: 0;\n",
       "  padding: 0.5em;\n",
       "  box-sizing: border-box;\n",
       "  text-align: center;\n",
       "  align-items: start;\n",
       "  justify-content: space-between;\n",
       "  gap: 0.5em;\n",
       "}\n",
       "\n",
       "#sk-container-id-13 label.sk-toggleable__label .caption {\n",
       "  font-size: 0.6rem;\n",
       "  font-weight: lighter;\n",
       "  color: var(--sklearn-color-text-muted);\n",
       "}\n",
       "\n",
       "#sk-container-id-13 label.sk-toggleable__label-arrow:before {\n",
       "  /* Arrow on the left of the label */\n",
       "  content: \"▸\";\n",
       "  float: left;\n",
       "  margin-right: 0.25em;\n",
       "  color: var(--sklearn-color-icon);\n",
       "}\n",
       "\n",
       "#sk-container-id-13 label.sk-toggleable__label-arrow:hover:before {\n",
       "  color: var(--sklearn-color-text);\n",
       "}\n",
       "\n",
       "/* Toggleable content - dropdown */\n",
       "\n",
       "#sk-container-id-13 div.sk-toggleable__content {\n",
       "  max-height: 0;\n",
       "  max-width: 0;\n",
       "  overflow: hidden;\n",
       "  text-align: left;\n",
       "  /* unfitted */\n",
       "  background-color: var(--sklearn-color-unfitted-level-0);\n",
       "}\n",
       "\n",
       "#sk-container-id-13 div.sk-toggleable__content.fitted {\n",
       "  /* fitted */\n",
       "  background-color: var(--sklearn-color-fitted-level-0);\n",
       "}\n",
       "\n",
       "#sk-container-id-13 div.sk-toggleable__content pre {\n",
       "  margin: 0.2em;\n",
       "  border-radius: 0.25em;\n",
       "  color: var(--sklearn-color-text);\n",
       "  /* unfitted */\n",
       "  background-color: var(--sklearn-color-unfitted-level-0);\n",
       "}\n",
       "\n",
       "#sk-container-id-13 div.sk-toggleable__content.fitted pre {\n",
       "  /* unfitted */\n",
       "  background-color: var(--sklearn-color-fitted-level-0);\n",
       "}\n",
       "\n",
       "#sk-container-id-13 input.sk-toggleable__control:checked~div.sk-toggleable__content {\n",
       "  /* Expand drop-down */\n",
       "  max-height: 200px;\n",
       "  max-width: 100%;\n",
       "  overflow: auto;\n",
       "}\n",
       "\n",
       "#sk-container-id-13 input.sk-toggleable__control:checked~label.sk-toggleable__label-arrow:before {\n",
       "  content: \"▾\";\n",
       "}\n",
       "\n",
       "/* Pipeline/ColumnTransformer-specific style */\n",
       "\n",
       "#sk-container-id-13 div.sk-label input.sk-toggleable__control:checked~label.sk-toggleable__label {\n",
       "  color: var(--sklearn-color-text);\n",
       "  background-color: var(--sklearn-color-unfitted-level-2);\n",
       "}\n",
       "\n",
       "#sk-container-id-13 div.sk-label.fitted input.sk-toggleable__control:checked~label.sk-toggleable__label {\n",
       "  background-color: var(--sklearn-color-fitted-level-2);\n",
       "}\n",
       "\n",
       "/* Estimator-specific style */\n",
       "\n",
       "/* Colorize estimator box */\n",
       "#sk-container-id-13 div.sk-estimator input.sk-toggleable__control:checked~label.sk-toggleable__label {\n",
       "  /* unfitted */\n",
       "  background-color: var(--sklearn-color-unfitted-level-2);\n",
       "}\n",
       "\n",
       "#sk-container-id-13 div.sk-estimator.fitted input.sk-toggleable__control:checked~label.sk-toggleable__label {\n",
       "  /* fitted */\n",
       "  background-color: var(--sklearn-color-fitted-level-2);\n",
       "}\n",
       "\n",
       "#sk-container-id-13 div.sk-label label.sk-toggleable__label,\n",
       "#sk-container-id-13 div.sk-label label {\n",
       "  /* The background is the default theme color */\n",
       "  color: var(--sklearn-color-text-on-default-background);\n",
       "}\n",
       "\n",
       "/* On hover, darken the color of the background */\n",
       "#sk-container-id-13 div.sk-label:hover label.sk-toggleable__label {\n",
       "  color: var(--sklearn-color-text);\n",
       "  background-color: var(--sklearn-color-unfitted-level-2);\n",
       "}\n",
       "\n",
       "/* Label box, darken color on hover, fitted */\n",
       "#sk-container-id-13 div.sk-label.fitted:hover label.sk-toggleable__label.fitted {\n",
       "  color: var(--sklearn-color-text);\n",
       "  background-color: var(--sklearn-color-fitted-level-2);\n",
       "}\n",
       "\n",
       "/* Estimator label */\n",
       "\n",
       "#sk-container-id-13 div.sk-label label {\n",
       "  font-family: monospace;\n",
       "  font-weight: bold;\n",
       "  display: inline-block;\n",
       "  line-height: 1.2em;\n",
       "}\n",
       "\n",
       "#sk-container-id-13 div.sk-label-container {\n",
       "  text-align: center;\n",
       "}\n",
       "\n",
       "/* Estimator-specific */\n",
       "#sk-container-id-13 div.sk-estimator {\n",
       "  font-family: monospace;\n",
       "  border: 1px dotted var(--sklearn-color-border-box);\n",
       "  border-radius: 0.25em;\n",
       "  box-sizing: border-box;\n",
       "  margin-bottom: 0.5em;\n",
       "  /* unfitted */\n",
       "  background-color: var(--sklearn-color-unfitted-level-0);\n",
       "}\n",
       "\n",
       "#sk-container-id-13 div.sk-estimator.fitted {\n",
       "  /* fitted */\n",
       "  background-color: var(--sklearn-color-fitted-level-0);\n",
       "}\n",
       "\n",
       "/* on hover */\n",
       "#sk-container-id-13 div.sk-estimator:hover {\n",
       "  /* unfitted */\n",
       "  background-color: var(--sklearn-color-unfitted-level-2);\n",
       "}\n",
       "\n",
       "#sk-container-id-13 div.sk-estimator.fitted:hover {\n",
       "  /* fitted */\n",
       "  background-color: var(--sklearn-color-fitted-level-2);\n",
       "}\n",
       "\n",
       "/* Specification for estimator info (e.g. \"i\" and \"?\") */\n",
       "\n",
       "/* Common style for \"i\" and \"?\" */\n",
       "\n",
       ".sk-estimator-doc-link,\n",
       "a:link.sk-estimator-doc-link,\n",
       "a:visited.sk-estimator-doc-link {\n",
       "  float: right;\n",
       "  font-size: smaller;\n",
       "  line-height: 1em;\n",
       "  font-family: monospace;\n",
       "  background-color: var(--sklearn-color-background);\n",
       "  border-radius: 1em;\n",
       "  height: 1em;\n",
       "  width: 1em;\n",
       "  text-decoration: none !important;\n",
       "  margin-left: 0.5em;\n",
       "  text-align: center;\n",
       "  /* unfitted */\n",
       "  border: var(--sklearn-color-unfitted-level-1) 1pt solid;\n",
       "  color: var(--sklearn-color-unfitted-level-1);\n",
       "}\n",
       "\n",
       ".sk-estimator-doc-link.fitted,\n",
       "a:link.sk-estimator-doc-link.fitted,\n",
       "a:visited.sk-estimator-doc-link.fitted {\n",
       "  /* fitted */\n",
       "  border: var(--sklearn-color-fitted-level-1) 1pt solid;\n",
       "  color: var(--sklearn-color-fitted-level-1);\n",
       "}\n",
       "\n",
       "/* On hover */\n",
       "div.sk-estimator:hover .sk-estimator-doc-link:hover,\n",
       ".sk-estimator-doc-link:hover,\n",
       "div.sk-label-container:hover .sk-estimator-doc-link:hover,\n",
       ".sk-estimator-doc-link:hover {\n",
       "  /* unfitted */\n",
       "  background-color: var(--sklearn-color-unfitted-level-3);\n",
       "  color: var(--sklearn-color-background);\n",
       "  text-decoration: none;\n",
       "}\n",
       "\n",
       "div.sk-estimator.fitted:hover .sk-estimator-doc-link.fitted:hover,\n",
       ".sk-estimator-doc-link.fitted:hover,\n",
       "div.sk-label-container:hover .sk-estimator-doc-link.fitted:hover,\n",
       ".sk-estimator-doc-link.fitted:hover {\n",
       "  /* fitted */\n",
       "  background-color: var(--sklearn-color-fitted-level-3);\n",
       "  color: var(--sklearn-color-background);\n",
       "  text-decoration: none;\n",
       "}\n",
       "\n",
       "/* Span, style for the box shown on hovering the info icon */\n",
       ".sk-estimator-doc-link span {\n",
       "  display: none;\n",
       "  z-index: 9999;\n",
       "  position: relative;\n",
       "  font-weight: normal;\n",
       "  right: .2ex;\n",
       "  padding: .5ex;\n",
       "  margin: .5ex;\n",
       "  width: min-content;\n",
       "  min-width: 20ex;\n",
       "  max-width: 50ex;\n",
       "  color: var(--sklearn-color-text);\n",
       "  box-shadow: 2pt 2pt 4pt #999;\n",
       "  /* unfitted */\n",
       "  background: var(--sklearn-color-unfitted-level-0);\n",
       "  border: .5pt solid var(--sklearn-color-unfitted-level-3);\n",
       "}\n",
       "\n",
       ".sk-estimator-doc-link.fitted span {\n",
       "  /* fitted */\n",
       "  background: var(--sklearn-color-fitted-level-0);\n",
       "  border: var(--sklearn-color-fitted-level-3);\n",
       "}\n",
       "\n",
       ".sk-estimator-doc-link:hover span {\n",
       "  display: block;\n",
       "}\n",
       "\n",
       "/* \"?\"-specific style due to the `<a>` HTML tag */\n",
       "\n",
       "#sk-container-id-13 a.estimator_doc_link {\n",
       "  float: right;\n",
       "  font-size: 1rem;\n",
       "  line-height: 1em;\n",
       "  font-family: monospace;\n",
       "  background-color: var(--sklearn-color-background);\n",
       "  border-radius: 1rem;\n",
       "  height: 1rem;\n",
       "  width: 1rem;\n",
       "  text-decoration: none;\n",
       "  /* unfitted */\n",
       "  color: var(--sklearn-color-unfitted-level-1);\n",
       "  border: var(--sklearn-color-unfitted-level-1) 1pt solid;\n",
       "}\n",
       "\n",
       "#sk-container-id-13 a.estimator_doc_link.fitted {\n",
       "  /* fitted */\n",
       "  border: var(--sklearn-color-fitted-level-1) 1pt solid;\n",
       "  color: var(--sklearn-color-fitted-level-1);\n",
       "}\n",
       "\n",
       "/* On hover */\n",
       "#sk-container-id-13 a.estimator_doc_link:hover {\n",
       "  /* unfitted */\n",
       "  background-color: var(--sklearn-color-unfitted-level-3);\n",
       "  color: var(--sklearn-color-background);\n",
       "  text-decoration: none;\n",
       "}\n",
       "\n",
       "#sk-container-id-13 a.estimator_doc_link.fitted:hover {\n",
       "  /* fitted */\n",
       "  background-color: var(--sklearn-color-fitted-level-3);\n",
       "}\n",
       "</style><div id=\"sk-container-id-13\" class=\"sk-top-container\"><div class=\"sk-text-repr-fallback\"><pre>GridSearchCV(cv=3, estimator=KMeans(random_state=42),\n",
       "             param_grid={&#x27;init&#x27;: [&#x27;k-means++&#x27;, &#x27;random&#x27;],\n",
       "                         &#x27;max_iter&#x27;: [300, 500, 1000],\n",
       "                         &#x27;n_clusters&#x27;: [2, 3, 4, 5, 6],\n",
       "                         &#x27;n_init&#x27;: [10, 20, 30]},\n",
       "             verbose=1)</pre><b>In a Jupyter environment, please rerun this cell to show the HTML representation or trust the notebook. <br />On GitHub, the HTML representation is unable to render, please try loading this page with nbviewer.org.</b></div><div class=\"sk-container\" hidden><div class=\"sk-item sk-dashed-wrapped\"><div class=\"sk-label-container\"><div class=\"sk-label fitted sk-toggleable\"><input class=\"sk-toggleable__control sk-hidden--visually\" id=\"sk-estimator-id-21\" type=\"checkbox\" ><label for=\"sk-estimator-id-21\" class=\"sk-toggleable__label fitted sk-toggleable__label-arrow\"><div><div>GridSearchCV</div></div><div><a class=\"sk-estimator-doc-link fitted\" rel=\"noreferrer\" target=\"_blank\" href=\"https://scikit-learn.org/1.6/modules/generated/sklearn.model_selection.GridSearchCV.html\">?<span>Documentation for GridSearchCV</span></a><span class=\"sk-estimator-doc-link fitted\">i<span>Fitted</span></span></div></label><div class=\"sk-toggleable__content fitted\"><pre>GridSearchCV(cv=3, estimator=KMeans(random_state=42),\n",
       "             param_grid={&#x27;init&#x27;: [&#x27;k-means++&#x27;, &#x27;random&#x27;],\n",
       "                         &#x27;max_iter&#x27;: [300, 500, 1000],\n",
       "                         &#x27;n_clusters&#x27;: [2, 3, 4, 5, 6],\n",
       "                         &#x27;n_init&#x27;: [10, 20, 30]},\n",
       "             verbose=1)</pre></div> </div></div><div class=\"sk-parallel\"><div class=\"sk-parallel-item\"><div class=\"sk-item\"><div class=\"sk-label-container\"><div class=\"sk-label fitted sk-toggleable\"><input class=\"sk-toggleable__control sk-hidden--visually\" id=\"sk-estimator-id-22\" type=\"checkbox\" ><label for=\"sk-estimator-id-22\" class=\"sk-toggleable__label fitted sk-toggleable__label-arrow\"><div><div>best_estimator_: KMeans</div></div></label><div class=\"sk-toggleable__content fitted\"><pre>KMeans(n_clusters=6, n_init=10, random_state=42)</pre></div> </div></div><div class=\"sk-serial\"><div class=\"sk-item\"><div class=\"sk-estimator fitted sk-toggleable\"><input class=\"sk-toggleable__control sk-hidden--visually\" id=\"sk-estimator-id-23\" type=\"checkbox\" ><label for=\"sk-estimator-id-23\" class=\"sk-toggleable__label fitted sk-toggleable__label-arrow\"><div><div>KMeans</div></div><div><a class=\"sk-estimator-doc-link fitted\" rel=\"noreferrer\" target=\"_blank\" href=\"https://scikit-learn.org/1.6/modules/generated/sklearn.cluster.KMeans.html\">?<span>Documentation for KMeans</span></a></div></label><div class=\"sk-toggleable__content fitted\"><pre>KMeans(n_clusters=6, n_init=10, random_state=42)</pre></div> </div></div></div></div></div></div></div></div></div>"
      ],
      "text/plain": [
       "GridSearchCV(cv=3, estimator=KMeans(random_state=42),\n",
       "             param_grid={'init': ['k-means++', 'random'],\n",
       "                         'max_iter': [300, 500, 1000],\n",
       "                         'n_clusters': [2, 3, 4, 5, 6],\n",
       "                         'n_init': [10, 20, 30]},\n",
       "             verbose=1)"
      ]
     },
     "execution_count": 235,
     "metadata": {},
     "output_type": "execute_result"
    }
   ],
   "source": [
    "grid_search.fit(X_customers)"
   ]
  },
  {
   "cell_type": "markdown",
   "metadata": {
    "id": "L0MYM7MvTdhO"
   },
   "source": [
    "### Evaluate the model (after tuning)"
   ]
  },
  {
   "cell_type": "markdown",
   "metadata": {
    "id": "i64hF43jTdhP"
   },
   "source": [
    "Tampilkan hasil (parameter dan silhouute score) dari Grid Search\n"
   ]
  },
  {
   "cell_type": "code",
   "execution_count": 236,
   "metadata": {
    "id": "Kjaq2LyeTdhP"
   },
   "outputs": [],
   "source": [
    "# Jangan ubah apapun pada cell ini\n",
    "best_score = -1\n",
    "best_params = None"
   ]
  },
  {
   "cell_type": "markdown",
   "metadata": {
    "id": "cepXQRC2Uv2Z"
   },
   "source": [
    "Lengkapi kode dibawah ini\n",
    "\n",
    "**Hint: Ganti semua 'None' dengan kode yang sesuai**"
   ]
  },
  {
   "cell_type": "code",
   "execution_count": 237,
   "metadata": {},
   "outputs": [
    {
     "name": "stdout",
     "output_type": "stream",
     "text": [
      "Best Silhouette Score: 0.5546571631111091\n",
      "Best Parameters: {'init': 'k-means++', 'max_iter': 300, 'n_clusters': 5, 'n_init': 10}\n"
     ]
    }
   ],
   "source": [
    "for params in grid_search.cv_results_['params']:\n",
    "  model = KMeans(**params)\n",
    "  cluster_labels = model.fit_predict(X_customers)\n",
    "  score = silhouette_score(X_customers, cluster_labels)\n",
    "\n",
    "  if score > best_score:\n",
    "    best_score = score\n",
    "    best_params = params\n",
    "\n",
    "print(\"Best Silhouette Score:\", best_score)\n",
    "print(\"Best Parameters:\", best_params)"
   ]
  },
  {
   "cell_type": "markdown",
   "metadata": {
    "id": "9XZWJ_aIWuZ6"
   },
   "source": [
    "Print hasil dari Grid Search untuk parameter dan skor terbaik\n",
    "\n",
    "**Hint: best_params, best_score**"
   ]
  },
  {
   "cell_type": "code",
   "execution_count": 238,
   "metadata": {
    "id": "mHm2D0Oc50bD"
   },
   "outputs": [
    {
     "name": "stdout",
     "output_type": "stream",
     "text": [
      "Best Parameters from Grid Search: {'init': 'k-means++', 'max_iter': 300, 'n_clusters': 5, 'n_init': 10}\n",
      "Best Silhouette Score from Grid Search: 0.5546571631111091\n"
     ]
    }
   ],
   "source": [
    "print(\"Best Parameters from Grid Search:\", best_params)\n",
    "print(\"Best Silhouette Score from Grid Search:\", best_score)"
   ]
  },
  {
   "cell_type": "markdown",
   "metadata": {
    "id": "XbwCgAF33_cN"
   },
   "source": [
    "Berikan kesimpulan berdasarkan hasil evaluasi model (sebelum dan sesudah tuning):"
   ]
  },
  {
   "cell_type": "markdown",
   "metadata": {
    "id": "PyVKBLoB4AJf"
   },
   "source": [
    "\n",
    "1. **Sebelum Tuning**:\n",
    "  - Model K-Means awal dibangun dengan jumlah klaster yang ditentukan menggunakan Elbow Method.\n",
    "  - Evaluasi model dilakukan menggunakan Silhouette Score dan visualisasi klasterisasi dengan PCA.\n",
    "  - Silhouette Score memberikan gambaran awal tentang seberapa baik klaster yang terbentuk.\n",
    "\n",
    "2. **Setelah Tuning**:\n",
    "  - Model K-Means ditingkatkan dengan melakukan tuning hyperparameter menggunakan Grid Search.\n",
    "  - Hyperparameter seperti jumlah klaster (`n_clusters`), metode inisialisasi (`init`), jumlah inisialisasi (`n_init`), dan iterasi maksimum (`max_iter`) dioptimalkan.\n",
    "  - Hasil tuning menunjukkan peningkatan Silhouette Score, yang mengindikasikan klaster yang lebih baik dibandingkan model awal.\n",
    "  - Parameter terbaik yang ditemukan dari Grid Search memberikan konfigurasi optimal untuk model K-Means.\n",
    "\n",
    "3. **Kesimpulan Akhir**:\n",
    "  - Tuning model dengan Grid Search membantu meningkatkan performa model K-Means.\n",
    "  - Silhouette Score yang lebih tinggi setelah tuning menunjukkan bahwa klaster yang dihasilkan lebih terdefinisi dengan baik.\n",
    "  - Visualisasi klasterisasi dengan PCA memberikan interpretasi yang lebih jelas terhadap hasil klasterisasi.\n",
    "```"
   ]
  }
 ],
 "metadata": {
  "colab": {
   "collapsed_sections": [
    "kKok05CiVF_u",
    "qWJYNKZyVIt7",
    "TGGsN_UMpVeu",
    "bS5bWL29pVev"
   ],
   "provenance": []
  },
  "kernelspec": {
   "display_name": "prac_venv",
   "language": "python",
   "name": "python3"
  },
  "language_info": {
   "codemirror_mode": {
    "name": "ipython",
    "version": 3
   },
   "file_extension": ".py",
   "mimetype": "text/x-python",
   "name": "python",
   "nbconvert_exporter": "python",
   "pygments_lexer": "ipython3",
   "version": "3.13.3"
  }
 },
 "nbformat": 4,
 "nbformat_minor": 0
}
