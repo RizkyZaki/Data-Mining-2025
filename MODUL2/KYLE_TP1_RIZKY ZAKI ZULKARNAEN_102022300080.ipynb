{
 "cells": [
  {
   "cell_type": "markdown",
   "metadata": {
    "id": "DHyCCnv7UXBX"
   },
   "source": [
    "# **TUGAS PENDAHULUAN MODUL 2**\n",
    "\n",
    "\n",
    "\n",
    "---\n"
   ]
  },
  {
   "cell_type": "markdown",
   "metadata": {
    "id": "k3bbmfVyUSSN"
   },
   "source": [
    "Nama: Rizky Zaki Zulkarnaen\n",
    "\n",
    "NIM: 102022300080\n",
    "\n",
    "Kelas: SI4706\n",
    "\n",
    "Shift: 7\n",
    "\n",
    "Kode Asprak: KYLE"
   ]
  },
  {
   "cell_type": "markdown",
   "metadata": {
    "id": "vq0gLObDUmJH"
   },
   "source": [
    "## **Aturan Pengerjaan dan Pengumpulan Tugas Pendahuluan (TP):**\n",
    "\n",
    "---\n",
    "\n",
    "\n"
   ]
  },
  {
   "cell_type": "markdown",
   "metadata": {
    "id": "ZfhkDjlcUm7n"
   },
   "source": [
    "1. Tugas Pendahuluan dikerjakan secara individu dan diperbolehkan bertanya kepada asisten.\n",
    "2. Jawaban tidak boleh sama dengan setiap individu.\n",
    "3. File Python Notebook (.ipynb) yang berisi hasil kerja Tugas Pendahuluan harus diunggah pada modul yang telah disediakan di CeLOE Learning Management System (LMS).\n",
    "4. Batas pengiriman Tugas Pendahuluan sesuai dengan batas waktu di CeLOE Learning Management System (LMS).\n",
    "5. Format penamaan file .ipynb ( Python Notebook ):\n",
    "\n",
    "    **Kode Asisten_TP_NAMA LENGKAP (KAPITAL)_NIM.ipynb**\n",
    "\n",
    "\n",
    "6. Tidak mengerjakan akan diberikan nilai 0.\n",
    "7. Kesalahan format penamaan file praktikum akan mendapatkan potongan nilai sebesar 10%  per file yang salah.\n",
    "8. Keterlambatan pengiriman file praktikum akan mendapatkan potongan nilai sebesar 50%.\n",
    "9. Terbukti melakukan kecurangan melalui alat bantu AI (ChatGPT, GitHub Copilot, Dll) baik diluar atau didalam praktikum maka nilai modul = 0.\n",
    "10. Segala bentuk atau indikasi kecurangan, mencontek, plagiarism, dan/atau pemalsuan akan dibawa ke Komisi Disiplin dan apabila terbukti nilai modul = 0.\n"
   ]
  },
  {
   "cell_type": "markdown",
   "metadata": {
    "id": "kKok05CiVF_u"
   },
   "source": [
    "## Studi Kasus"
   ]
  },
  {
   "cell_type": "markdown",
   "metadata": {
    "id": "2mmX-tgqwaHh"
   },
   "source": [
    "Terdapat 3 studi kasus pada tugas pendahuluan modul 2, dari ketiga studi kasus tersebut praktikan diharapkan dapat mempelajari **bagaimana membangun model machine learning** sampai dengan **mengevaluasi model tersebut**. Praktikan dapat menyelesaikan 3 studi kasus dengan algoritma machine learning yang berbeda dan diharapkan dapat mengetahui fungsi dan penggunaan algoritma-algoritma tersebut.\n",
    "Berikut penjelasan 3 studi kasus:\n",
    "\n",
    "1. **Studi Kasus Kepuasan Pelanggan Maskapai**\n",
    "\n",
    "  Pada studi kasus pertama ini, praktikan diharapkan untuk memprediksi apakah seorang pelanggan merasa puas atau tidak terhadap maskapai penerbangan berdasarkan data yang tersedia, menggunakan algoritma Logistic Regression. Masalah ini termasuk dalam kategori klasifikasi biner, di mana target variabelnya adalah apakah pelanggan merasa puas atau tidak (satisfaction).\n",
    "\n",
    "2. **Studi Kasus Prediksi Harga Pembelian Mobil**\n",
    "\n",
    "  Pada studi kasus kedua ini, praktikan diharapkan untuk memprediksi harga yang akan dibayar pelanggan untuk membeli mobil baru menggunakan algoritma Linear Regression. Masalah ini termasuk dalam kategori regresi, di mana kita memprediksi nilai kontinu (harga mobil).\n",
    "\n",
    "3. **Studi Kasus Segmentasi Pelanggan Berdasarkan Perilaku Pembelian**\n",
    "\n",
    "  Pada studi kasus ketiga ini, praktikan diharapkan untuk mengelompokkan pelanggan ke dalam klaster-klaster berdasarkan pola perilaku pembelian mereka menggunakan algoritma K-Means Clustering. Ini adalah contoh unsupervised learning di mana kita tidak memiliki target variabel, tetapi kita mencoba mengelompokkan data berdasarkan kesamaan fitur."
   ]
  },
  {
   "cell_type": "markdown",
   "metadata": {
    "id": "qWJYNKZyVIt7"
   },
   "source": [
    "### Dataset"
   ]
  },
  {
   "cell_type": "markdown",
   "metadata": {
    "id": "TDt2GfPCznNG"
   },
   "source": [
    "- **Dataset Airline** Dataset ini terdiri dari 129.880 baris dengan 24 kolom yang sudah melalui preprocessing. Data memiliki 14 kolom kategorikal yang telah diencoding menjadi bilangan diskrit, seperti Gender, Customer Type, Type of Travel, dan Class. Sisanya terdapat 10 kolom dengan nilai kontinu seperti Age, Flight Distance, Departure Delay, Arrival Delay, serta berbagai rating (Inflight wifi service, Departure/Arrival time convenience, dll). Fitur target pada studi kasus ini adalah kolom **satisfaction** (satisfied/dissatisfied), sementara kolom lainnya digunakan sebagai fitur untuk melatih model klasifikasi logistic regression.\n",
    "\n",
    "- **Dataset Taxi** Dataset ini berisi 500 baris dengan 9 kolom yang telah diproses. Terdapat 3 kolom kategorikal yang sudah diencoding menjadi numerik diskrit (Gender, Country, dan Education). Lima kolom lainnya mengandung nilai kontinu yaitu Age, Annual Salary, Credit Card Debt, Net Worth, dan fitur target **Car Purchase Amount**. Studi kasus ini menggunakan regresi linear dengan target prediksi jumlah pembelian mobil, sementara fitur seperti pendapatan tahunan dan kekayaan bersih menjadi variabel prediktor.\n",
    "\n",
    "- **Dataset Buku (Goodreads)** Dataset terdiri dari 200 baris dengan 8 kolom pascapreprocessing. Seluruh kolom berupa nilai kontinu (Age, Annual Income dalam $, Spending Score 1-100, dll) tanpa kolom target eksplisit, karena K-Means merupakan unsupervised learning. Empat fitur utama yang digunakan untuk segmentasi adalah Gender (yang telah diencoding), Age, Income, dan Spending Score. Model akan mengelompokkan customer ke dalam cluster berdasarkan kesamaan karakteristik tersebut."
   ]
  },
  {
   "cell_type": "markdown",
   "metadata": {
    "id": "veH-q4ZSQQNh"
   },
   "source": [
    "## Outline Pengerjaan"
   ]
  },
  {
   "cell_type": "markdown",
   "metadata": {
    "id": "pKegL7JfQcSK"
   },
   "source": [
    "1.   Read Data: Membaca data yang akan dipakai untuk dimodelkan\n",
    "2.   Pre-Modelling: Tahapan sebelum pemodelan, biasanya labelling dan split data, digunakan untuk menentukan target dan pembagian proporsi data latih & data uji\n",
    "3. Build Model: Membuat model data menggunakan algoritma yang sudah disesuaikan dengan data dan melatihnya\n",
    "4. Evaluate Model (before tuning): Mengevaluasi hasil prediksi dari model yang sudah dilatih\n",
    "5. Model Tuning: Melakukan optimasi model dengan mencari parameter terbaik\n",
    "6. Evaluiate Model (after tuning): Mengevaluasi hasil prediksi dari model yang sudah dituning\n",
    "\n"
   ]
  },
  {
   "cell_type": "markdown",
   "metadata": {
    "id": "rLfS0od3TZ39"
   },
   "source": [
    "## Studi Kasus Prediksi Kepuasan Pelanggan Maskapai (Logistic Regression)"
   ]
  },
  {
   "cell_type": "markdown",
   "metadata": {
    "id": "SEM_zrxXVh57"
   },
   "source": [
    "### Read Data"
   ]
  },
  {
   "cell_type": "markdown",
   "metadata": {
    "id": "P4_1UdR8Vm6y"
   },
   "source": [
    "Pertama, kita akan membaca dan melihat ringkasan statistik dari dataset menggunakan pandas dan menampilkan beberapa baris awal untuk memahami struktur data.\n",
    "\n",
    "**Hint: library pandas, menggunkan read_csv(), head(), describe(), dan data = df**"
   ]
  },
  {
   "cell_type": "code",
   "execution_count": 31,
   "metadata": {
    "id": "maP7WudoVoEw"
   },
   "outputs": [
    {
     "name": "stdout",
     "output_type": "stream",
     "text": [
      "   satisfaction  Gender  Customer Type       Age  Type of Travel  Class  \\\n",
      "0             1       0              0  1.691351               1      1   \n",
      "1             1       1              0  0.500820               1      0   \n",
      "2             1       0              0 -1.615680               1      1   \n",
      "3             1       0              0  1.360648               1      1   \n",
      "4             1       0              0  2.022054               1      1   \n",
      "\n",
      "   Flight Distance  Seat comfort  Departure/Arrival time convenient  \\\n",
      "0        -1.671103             0                                  0   \n",
      "1         0.469852             0                                  0   \n",
      "2         0.152458             0                                  0   \n",
      "3        -1.322552             0                                  0   \n",
      "4        -1.584452             0                                  0   \n",
      "\n",
      "   Food and drink  ...  Online support  Ease of Online booking  \\\n",
      "0               0  ...               2                       3   \n",
      "1               0  ...               2                       3   \n",
      "2               0  ...               2                       2   \n",
      "3               0  ...               3                       1   \n",
      "4               0  ...               4                       2   \n",
      "\n",
      "   On-board service  Leg room service  Baggage handling  Checkin service  \\\n",
      "0                 3                 0                 3                5   \n",
      "1                 4                 4                 4                2   \n",
      "2                 3                 3                 4                4   \n",
      "3                 1                 0                 1                4   \n",
      "4                 2                 0                 2                4   \n",
      "\n",
      "   Cleanliness  Online boarding  Departure Delay in Minutes  \\\n",
      "0            3                2                   -0.386481   \n",
      "1            3                2                    7.756204   \n",
      "2            4                2                   -0.386481   \n",
      "3            1                3                   -0.386481   \n",
      "4            2                5                   -0.386481   \n",
      "\n",
      "   Arrival Delay in Minutes  \n",
      "0                 -0.391644  \n",
      "1                  7.547714  \n",
      "2                 -0.391644  \n",
      "3                 -0.391644  \n",
      "4                 -0.391644  \n",
      "\n",
      "[5 rows x 23 columns]\n"
     ]
    }
   ],
   "source": [
    "import pandas as pd\n",
    "\n",
    "df = pd.read_csv('../Resource/Data_TP2_Logistic-Regression.csv')\n",
    "\n",
    "print(df.head())"
   ]
  },
  {
   "cell_type": "markdown",
   "metadata": {
    "id": "mQeEaHkvMrzm"
   },
   "source": [
    "melihat ringkasan statistik\n",
    "\n",
    "**Hint: describe()**"
   ]
  },
  {
   "cell_type": "code",
   "execution_count": 32,
   "metadata": {
    "id": "IMlRQfiZz-S_"
   },
   "outputs": [
    {
     "name": "stdout",
     "output_type": "stream",
     "text": [
      "        satisfaction         Gender  Customer Type           Age  \\\n",
      "count  129880.000000  129880.000000  129880.000000  1.298800e+05   \n",
      "mean        0.547328       0.492616       0.183092 -1.050387e-16   \n",
      "std         0.497757       0.499947       0.386743  1.000004e+00   \n",
      "min         0.000000       0.000000       0.000000 -2.144805e+00   \n",
      "25%         0.000000       0.000000       0.000000 -8.219928e-01   \n",
      "50%         1.000000       0.000000       0.000000  3.783531e-02   \n",
      "75%         1.000000       1.000000       0.000000  7.653821e-01   \n",
      "max         1.000000       1.000000       1.000000  3.014163e+00   \n",
      "\n",
      "       Type of Travel          Class  Flight Distance   Seat comfort  \\\n",
      "count   129880.000000  129880.000000     1.298800e+05  129880.000000   \n",
      "mean         0.309416       0.593864     1.032880e-16       2.838597   \n",
      "std          0.462255       0.621378     1.000004e+00       1.392983   \n",
      "min          0.000000       0.000000    -1.880428e+00       0.000000   \n",
      "25%          0.000000       0.000000    -6.059799e-01       2.000000   \n",
      "50%          0.000000       1.000000    -5.492008e-02       3.000000   \n",
      "75%          1.000000       1.000000     5.477408e-01       4.000000   \n",
      "max          1.000000       2.000000     4.838414e+00       5.000000   \n",
      "\n",
      "       Departure/Arrival time convenient  Food and drink  ...  Online support  \\\n",
      "count                      129880.000000   129880.000000  ...   129880.000000   \n",
      "mean                            2.990645        2.851994  ...        3.519703   \n",
      "std                             1.527224        1.443729  ...        1.306511   \n",
      "min                             0.000000        0.000000  ...        0.000000   \n",
      "25%                             2.000000        2.000000  ...        3.000000   \n",
      "50%                             3.000000        3.000000  ...        4.000000   \n",
      "75%                             4.000000        4.000000  ...        5.000000   \n",
      "max                             5.000000        5.000000  ...        5.000000   \n",
      "\n",
      "       Ease of Online booking  On-board service  Leg room service  \\\n",
      "count           129880.000000     129880.000000     129880.000000   \n",
      "mean                 3.472105          3.465075          3.485902   \n",
      "std                  1.305560          1.270836          1.292226   \n",
      "min                  0.000000          0.000000          0.000000   \n",
      "25%                  2.000000          3.000000          2.000000   \n",
      "50%                  4.000000          4.000000          4.000000   \n",
      "75%                  5.000000          4.000000          5.000000   \n",
      "max                  5.000000          5.000000          5.000000   \n",
      "\n",
      "       Baggage handling  Checkin service    Cleanliness  Online boarding  \\\n",
      "count     129880.000000    129880.000000  129880.000000    129880.000000   \n",
      "mean           3.695673         3.340807       3.705759         3.352587   \n",
      "std            1.156483         1.260582       1.151774         1.298715   \n",
      "min            1.000000         0.000000       0.000000         0.000000   \n",
      "25%            3.000000         3.000000       3.000000         2.000000   \n",
      "50%            4.000000         3.000000       4.000000         4.000000   \n",
      "75%            5.000000         4.000000       5.000000         4.000000   \n",
      "max            5.000000         5.000000       5.000000         5.000000   \n",
      "\n",
      "       Departure Delay in Minutes  Arrival Delay in Minutes  \n",
      "count                1.298800e+05              1.298800e+05  \n",
      "mean                 4.770506e-17              1.028503e-17  \n",
      "std                  1.000004e+00              1.000004e+00  \n",
      "min                 -3.864811e-01             -3.916437e-01  \n",
      "25%                 -3.864811e-01             -3.916437e-01  \n",
      "50%                 -3.864811e-01             -3.916437e-01  \n",
      "75%                 -7.128035e-02             -5.324485e-02  \n",
      "max                  4.143015e+01              4.084096e+01  \n",
      "\n",
      "[8 rows x 23 columns]\n"
     ]
    }
   ],
   "source": [
    "print(df.describe())"
   ]
  },
  {
   "cell_type": "markdown",
   "metadata": {
    "id": "RAAOZAc-Tzo5"
   },
   "source": [
    "### Pre-Modelling"
   ]
  },
  {
   "cell_type": "markdown",
   "metadata": {
    "id": "306wwMHyY5YR"
   },
   "source": [
    "Sebelum membangun model, praktikan melakukan pelabelan data untuk memilih fitur yang dijadikan target dan memisahkan data latih dan data uji sesuai ketentuan"
   ]
  },
  {
   "cell_type": "markdown",
   "metadata": {
    "id": "roz4Mu9s4KB8"
   },
   "source": [
    "#### Labelling Data"
   ]
  },
  {
   "cell_type": "markdown",
   "metadata": {
    "id": "Tw8m5SnE44Bn"
   },
   "source": [
    "Memilih fitur yang akan dijadikan target (variabel dependen) yaitu kolom **satisfaction** dan fitur yang digunakan untuk melatih model (variabel independen) yaitu **selain kolom satisfaction**\n",
    "\n",
    "**Hint: drop()**"
   ]
  },
  {
   "cell_type": "code",
   "execution_count": 33,
   "metadata": {
    "id": "41tgfrfwOPpO"
   },
   "outputs": [],
   "source": [
    "X = df.drop(columns=['satisfaction']) \n",
    "y = df['satisfaction'] "
   ]
  },
  {
   "cell_type": "markdown",
   "metadata": {
    "id": "qmQoBAjNT8Bk"
   },
   "source": [
    "#### Split Dataset"
   ]
  },
  {
   "cell_type": "markdown",
   "metadata": {
    "id": "k67s7Xc5eErR"
   },
   "source": [
    "Memisahkan data uji dan data latih sesuai kebutuhan model"
   ]
  },
  {
   "cell_type": "markdown",
   "metadata": {
    "id": "hrkbsy5sW6Zk"
   },
   "source": [
    "Import library yang digunakan\n",
    "\n",
    "**Hint: sklearn.model_selection (train_test_split)**"
   ]
  },
  {
   "cell_type": "code",
   "execution_count": 34,
   "metadata": {
    "id": "Kd6SVDQEWzeT"
   },
   "outputs": [],
   "source": [
    "from sklearn.model_selection import train_test_split"
   ]
  },
  {
   "cell_type": "markdown",
   "metadata": {
    "id": "si-8kgFZXQ-5"
   },
   "source": [
    "Split dataset untuk training dan testing, atur size data uji sebanyak 20%\n",
    "\n",
    "**Hint: Pisahkan variabel latih dan variabel uji menggunakan function train_test_split serta atur sizenya**"
   ]
  },
  {
   "cell_type": "code",
   "execution_count": 35,
   "metadata": {
    "id": "Xz3YNiUg4e1c"
   },
   "outputs": [],
   "source": [
    "X_train, X_test, y_train, y_test = train_test_split(X, y, test_size=0.2, random_state=42)"
   ]
  },
  {
   "cell_type": "markdown",
   "metadata": {
    "id": "g7fRXxYGYcVR"
   },
   "source": [
    "### Build Model"
   ]
  },
  {
   "cell_type": "markdown",
   "metadata": {
    "id": "G_RzpboUZVxh"
   },
   "source": [
    "Praktikan membangun model logistic regression dengan data yang sudah dipersiapkan pada tahap sebelumnya"
   ]
  },
  {
   "cell_type": "markdown",
   "metadata": {
    "id": "ZXptBEywYupP"
   },
   "source": [
    "Import library yang digunakan\n",
    "\n",
    "**Hint: sklearn.linear_model (LogisticRegression)**"
   ]
  },
  {
   "cell_type": "code",
   "execution_count": 36,
   "metadata": {
    "id": "y3UBKTBg4YgO"
   },
   "outputs": [],
   "source": [
    "from sklearn.linear_model import LogisticRegression\n",
    "\n"
   ]
  },
  {
   "cell_type": "markdown",
   "metadata": {
    "id": "9hrepFDKbOZw"
   },
   "source": [
    "Melatih model logistic regression\n",
    "\n",
    "**Hint: .fit() dan tentukan max_iter nya yaitu 1000**"
   ]
  },
  {
   "cell_type": "code",
   "execution_count": 37,
   "metadata": {
    "id": "tQweigC_ak4D"
   },
   "outputs": [
    {
     "data": {
      "text/html": [
       "<style>#sk-container-id-2 {\n",
       "  /* Definition of color scheme common for light and dark mode */\n",
       "  --sklearn-color-text: #000;\n",
       "  --sklearn-color-text-muted: #666;\n",
       "  --sklearn-color-line: gray;\n",
       "  /* Definition of color scheme for unfitted estimators */\n",
       "  --sklearn-color-unfitted-level-0: #fff5e6;\n",
       "  --sklearn-color-unfitted-level-1: #f6e4d2;\n",
       "  --sklearn-color-unfitted-level-2: #ffe0b3;\n",
       "  --sklearn-color-unfitted-level-3: chocolate;\n",
       "  /* Definition of color scheme for fitted estimators */\n",
       "  --sklearn-color-fitted-level-0: #f0f8ff;\n",
       "  --sklearn-color-fitted-level-1: #d4ebff;\n",
       "  --sklearn-color-fitted-level-2: #b3dbfd;\n",
       "  --sklearn-color-fitted-level-3: cornflowerblue;\n",
       "\n",
       "  /* Specific color for light theme */\n",
       "  --sklearn-color-text-on-default-background: var(--sg-text-color, var(--theme-code-foreground, var(--jp-content-font-color1, black)));\n",
       "  --sklearn-color-background: var(--sg-background-color, var(--theme-background, var(--jp-layout-color0, white)));\n",
       "  --sklearn-color-border-box: var(--sg-text-color, var(--theme-code-foreground, var(--jp-content-font-color1, black)));\n",
       "  --sklearn-color-icon: #696969;\n",
       "\n",
       "  @media (prefers-color-scheme: dark) {\n",
       "    /* Redefinition of color scheme for dark theme */\n",
       "    --sklearn-color-text-on-default-background: var(--sg-text-color, var(--theme-code-foreground, var(--jp-content-font-color1, white)));\n",
       "    --sklearn-color-background: var(--sg-background-color, var(--theme-background, var(--jp-layout-color0, #111)));\n",
       "    --sklearn-color-border-box: var(--sg-text-color, var(--theme-code-foreground, var(--jp-content-font-color1, white)));\n",
       "    --sklearn-color-icon: #878787;\n",
       "  }\n",
       "}\n",
       "\n",
       "#sk-container-id-2 {\n",
       "  color: var(--sklearn-color-text);\n",
       "}\n",
       "\n",
       "#sk-container-id-2 pre {\n",
       "  padding: 0;\n",
       "}\n",
       "\n",
       "#sk-container-id-2 input.sk-hidden--visually {\n",
       "  border: 0;\n",
       "  clip: rect(1px 1px 1px 1px);\n",
       "  clip: rect(1px, 1px, 1px, 1px);\n",
       "  height: 1px;\n",
       "  margin: -1px;\n",
       "  overflow: hidden;\n",
       "  padding: 0;\n",
       "  position: absolute;\n",
       "  width: 1px;\n",
       "}\n",
       "\n",
       "#sk-container-id-2 div.sk-dashed-wrapped {\n",
       "  border: 1px dashed var(--sklearn-color-line);\n",
       "  margin: 0 0.4em 0.5em 0.4em;\n",
       "  box-sizing: border-box;\n",
       "  padding-bottom: 0.4em;\n",
       "  background-color: var(--sklearn-color-background);\n",
       "}\n",
       "\n",
       "#sk-container-id-2 div.sk-container {\n",
       "  /* jupyter's `normalize.less` sets `[hidden] { display: none; }`\n",
       "     but bootstrap.min.css set `[hidden] { display: none !important; }`\n",
       "     so we also need the `!important` here to be able to override the\n",
       "     default hidden behavior on the sphinx rendered scikit-learn.org.\n",
       "     See: https://github.com/scikit-learn/scikit-learn/issues/21755 */\n",
       "  display: inline-block !important;\n",
       "  position: relative;\n",
       "}\n",
       "\n",
       "#sk-container-id-2 div.sk-text-repr-fallback {\n",
       "  display: none;\n",
       "}\n",
       "\n",
       "div.sk-parallel-item,\n",
       "div.sk-serial,\n",
       "div.sk-item {\n",
       "  /* draw centered vertical line to link estimators */\n",
       "  background-image: linear-gradient(var(--sklearn-color-text-on-default-background), var(--sklearn-color-text-on-default-background));\n",
       "  background-size: 2px 100%;\n",
       "  background-repeat: no-repeat;\n",
       "  background-position: center center;\n",
       "}\n",
       "\n",
       "/* Parallel-specific style estimator block */\n",
       "\n",
       "#sk-container-id-2 div.sk-parallel-item::after {\n",
       "  content: \"\";\n",
       "  width: 100%;\n",
       "  border-bottom: 2px solid var(--sklearn-color-text-on-default-background);\n",
       "  flex-grow: 1;\n",
       "}\n",
       "\n",
       "#sk-container-id-2 div.sk-parallel {\n",
       "  display: flex;\n",
       "  align-items: stretch;\n",
       "  justify-content: center;\n",
       "  background-color: var(--sklearn-color-background);\n",
       "  position: relative;\n",
       "}\n",
       "\n",
       "#sk-container-id-2 div.sk-parallel-item {\n",
       "  display: flex;\n",
       "  flex-direction: column;\n",
       "}\n",
       "\n",
       "#sk-container-id-2 div.sk-parallel-item:first-child::after {\n",
       "  align-self: flex-end;\n",
       "  width: 50%;\n",
       "}\n",
       "\n",
       "#sk-container-id-2 div.sk-parallel-item:last-child::after {\n",
       "  align-self: flex-start;\n",
       "  width: 50%;\n",
       "}\n",
       "\n",
       "#sk-container-id-2 div.sk-parallel-item:only-child::after {\n",
       "  width: 0;\n",
       "}\n",
       "\n",
       "/* Serial-specific style estimator block */\n",
       "\n",
       "#sk-container-id-2 div.sk-serial {\n",
       "  display: flex;\n",
       "  flex-direction: column;\n",
       "  align-items: center;\n",
       "  background-color: var(--sklearn-color-background);\n",
       "  padding-right: 1em;\n",
       "  padding-left: 1em;\n",
       "}\n",
       "\n",
       "\n",
       "/* Toggleable style: style used for estimator/Pipeline/ColumnTransformer box that is\n",
       "clickable and can be expanded/collapsed.\n",
       "- Pipeline and ColumnTransformer use this feature and define the default style\n",
       "- Estimators will overwrite some part of the style using the `sk-estimator` class\n",
       "*/\n",
       "\n",
       "/* Pipeline and ColumnTransformer style (default) */\n",
       "\n",
       "#sk-container-id-2 div.sk-toggleable {\n",
       "  /* Default theme specific background. It is overwritten whether we have a\n",
       "  specific estimator or a Pipeline/ColumnTransformer */\n",
       "  background-color: var(--sklearn-color-background);\n",
       "}\n",
       "\n",
       "/* Toggleable label */\n",
       "#sk-container-id-2 label.sk-toggleable__label {\n",
       "  cursor: pointer;\n",
       "  display: flex;\n",
       "  width: 100%;\n",
       "  margin-bottom: 0;\n",
       "  padding: 0.5em;\n",
       "  box-sizing: border-box;\n",
       "  text-align: center;\n",
       "  align-items: start;\n",
       "  justify-content: space-between;\n",
       "  gap: 0.5em;\n",
       "}\n",
       "\n",
       "#sk-container-id-2 label.sk-toggleable__label .caption {\n",
       "  font-size: 0.6rem;\n",
       "  font-weight: lighter;\n",
       "  color: var(--sklearn-color-text-muted);\n",
       "}\n",
       "\n",
       "#sk-container-id-2 label.sk-toggleable__label-arrow:before {\n",
       "  /* Arrow on the left of the label */\n",
       "  content: \"▸\";\n",
       "  float: left;\n",
       "  margin-right: 0.25em;\n",
       "  color: var(--sklearn-color-icon);\n",
       "}\n",
       "\n",
       "#sk-container-id-2 label.sk-toggleable__label-arrow:hover:before {\n",
       "  color: var(--sklearn-color-text);\n",
       "}\n",
       "\n",
       "/* Toggleable content - dropdown */\n",
       "\n",
       "#sk-container-id-2 div.sk-toggleable__content {\n",
       "  max-height: 0;\n",
       "  max-width: 0;\n",
       "  overflow: hidden;\n",
       "  text-align: left;\n",
       "  /* unfitted */\n",
       "  background-color: var(--sklearn-color-unfitted-level-0);\n",
       "}\n",
       "\n",
       "#sk-container-id-2 div.sk-toggleable__content.fitted {\n",
       "  /* fitted */\n",
       "  background-color: var(--sklearn-color-fitted-level-0);\n",
       "}\n",
       "\n",
       "#sk-container-id-2 div.sk-toggleable__content pre {\n",
       "  margin: 0.2em;\n",
       "  border-radius: 0.25em;\n",
       "  color: var(--sklearn-color-text);\n",
       "  /* unfitted */\n",
       "  background-color: var(--sklearn-color-unfitted-level-0);\n",
       "}\n",
       "\n",
       "#sk-container-id-2 div.sk-toggleable__content.fitted pre {\n",
       "  /* unfitted */\n",
       "  background-color: var(--sklearn-color-fitted-level-0);\n",
       "}\n",
       "\n",
       "#sk-container-id-2 input.sk-toggleable__control:checked~div.sk-toggleable__content {\n",
       "  /* Expand drop-down */\n",
       "  max-height: 200px;\n",
       "  max-width: 100%;\n",
       "  overflow: auto;\n",
       "}\n",
       "\n",
       "#sk-container-id-2 input.sk-toggleable__control:checked~label.sk-toggleable__label-arrow:before {\n",
       "  content: \"▾\";\n",
       "}\n",
       "\n",
       "/* Pipeline/ColumnTransformer-specific style */\n",
       "\n",
       "#sk-container-id-2 div.sk-label input.sk-toggleable__control:checked~label.sk-toggleable__label {\n",
       "  color: var(--sklearn-color-text);\n",
       "  background-color: var(--sklearn-color-unfitted-level-2);\n",
       "}\n",
       "\n",
       "#sk-container-id-2 div.sk-label.fitted input.sk-toggleable__control:checked~label.sk-toggleable__label {\n",
       "  background-color: var(--sklearn-color-fitted-level-2);\n",
       "}\n",
       "\n",
       "/* Estimator-specific style */\n",
       "\n",
       "/* Colorize estimator box */\n",
       "#sk-container-id-2 div.sk-estimator input.sk-toggleable__control:checked~label.sk-toggleable__label {\n",
       "  /* unfitted */\n",
       "  background-color: var(--sklearn-color-unfitted-level-2);\n",
       "}\n",
       "\n",
       "#sk-container-id-2 div.sk-estimator.fitted input.sk-toggleable__control:checked~label.sk-toggleable__label {\n",
       "  /* fitted */\n",
       "  background-color: var(--sklearn-color-fitted-level-2);\n",
       "}\n",
       "\n",
       "#sk-container-id-2 div.sk-label label.sk-toggleable__label,\n",
       "#sk-container-id-2 div.sk-label label {\n",
       "  /* The background is the default theme color */\n",
       "  color: var(--sklearn-color-text-on-default-background);\n",
       "}\n",
       "\n",
       "/* On hover, darken the color of the background */\n",
       "#sk-container-id-2 div.sk-label:hover label.sk-toggleable__label {\n",
       "  color: var(--sklearn-color-text);\n",
       "  background-color: var(--sklearn-color-unfitted-level-2);\n",
       "}\n",
       "\n",
       "/* Label box, darken color on hover, fitted */\n",
       "#sk-container-id-2 div.sk-label.fitted:hover label.sk-toggleable__label.fitted {\n",
       "  color: var(--sklearn-color-text);\n",
       "  background-color: var(--sklearn-color-fitted-level-2);\n",
       "}\n",
       "\n",
       "/* Estimator label */\n",
       "\n",
       "#sk-container-id-2 div.sk-label label {\n",
       "  font-family: monospace;\n",
       "  font-weight: bold;\n",
       "  display: inline-block;\n",
       "  line-height: 1.2em;\n",
       "}\n",
       "\n",
       "#sk-container-id-2 div.sk-label-container {\n",
       "  text-align: center;\n",
       "}\n",
       "\n",
       "/* Estimator-specific */\n",
       "#sk-container-id-2 div.sk-estimator {\n",
       "  font-family: monospace;\n",
       "  border: 1px dotted var(--sklearn-color-border-box);\n",
       "  border-radius: 0.25em;\n",
       "  box-sizing: border-box;\n",
       "  margin-bottom: 0.5em;\n",
       "  /* unfitted */\n",
       "  background-color: var(--sklearn-color-unfitted-level-0);\n",
       "}\n",
       "\n",
       "#sk-container-id-2 div.sk-estimator.fitted {\n",
       "  /* fitted */\n",
       "  background-color: var(--sklearn-color-fitted-level-0);\n",
       "}\n",
       "\n",
       "/* on hover */\n",
       "#sk-container-id-2 div.sk-estimator:hover {\n",
       "  /* unfitted */\n",
       "  background-color: var(--sklearn-color-unfitted-level-2);\n",
       "}\n",
       "\n",
       "#sk-container-id-2 div.sk-estimator.fitted:hover {\n",
       "  /* fitted */\n",
       "  background-color: var(--sklearn-color-fitted-level-2);\n",
       "}\n",
       "\n",
       "/* Specification for estimator info (e.g. \"i\" and \"?\") */\n",
       "\n",
       "/* Common style for \"i\" and \"?\" */\n",
       "\n",
       ".sk-estimator-doc-link,\n",
       "a:link.sk-estimator-doc-link,\n",
       "a:visited.sk-estimator-doc-link {\n",
       "  float: right;\n",
       "  font-size: smaller;\n",
       "  line-height: 1em;\n",
       "  font-family: monospace;\n",
       "  background-color: var(--sklearn-color-background);\n",
       "  border-radius: 1em;\n",
       "  height: 1em;\n",
       "  width: 1em;\n",
       "  text-decoration: none !important;\n",
       "  margin-left: 0.5em;\n",
       "  text-align: center;\n",
       "  /* unfitted */\n",
       "  border: var(--sklearn-color-unfitted-level-1) 1pt solid;\n",
       "  color: var(--sklearn-color-unfitted-level-1);\n",
       "}\n",
       "\n",
       ".sk-estimator-doc-link.fitted,\n",
       "a:link.sk-estimator-doc-link.fitted,\n",
       "a:visited.sk-estimator-doc-link.fitted {\n",
       "  /* fitted */\n",
       "  border: var(--sklearn-color-fitted-level-1) 1pt solid;\n",
       "  color: var(--sklearn-color-fitted-level-1);\n",
       "}\n",
       "\n",
       "/* On hover */\n",
       "div.sk-estimator:hover .sk-estimator-doc-link:hover,\n",
       ".sk-estimator-doc-link:hover,\n",
       "div.sk-label-container:hover .sk-estimator-doc-link:hover,\n",
       ".sk-estimator-doc-link:hover {\n",
       "  /* unfitted */\n",
       "  background-color: var(--sklearn-color-unfitted-level-3);\n",
       "  color: var(--sklearn-color-background);\n",
       "  text-decoration: none;\n",
       "}\n",
       "\n",
       "div.sk-estimator.fitted:hover .sk-estimator-doc-link.fitted:hover,\n",
       ".sk-estimator-doc-link.fitted:hover,\n",
       "div.sk-label-container:hover .sk-estimator-doc-link.fitted:hover,\n",
       ".sk-estimator-doc-link.fitted:hover {\n",
       "  /* fitted */\n",
       "  background-color: var(--sklearn-color-fitted-level-3);\n",
       "  color: var(--sklearn-color-background);\n",
       "  text-decoration: none;\n",
       "}\n",
       "\n",
       "/* Span, style for the box shown on hovering the info icon */\n",
       ".sk-estimator-doc-link span {\n",
       "  display: none;\n",
       "  z-index: 9999;\n",
       "  position: relative;\n",
       "  font-weight: normal;\n",
       "  right: .2ex;\n",
       "  padding: .5ex;\n",
       "  margin: .5ex;\n",
       "  width: min-content;\n",
       "  min-width: 20ex;\n",
       "  max-width: 50ex;\n",
       "  color: var(--sklearn-color-text);\n",
       "  box-shadow: 2pt 2pt 4pt #999;\n",
       "  /* unfitted */\n",
       "  background: var(--sklearn-color-unfitted-level-0);\n",
       "  border: .5pt solid var(--sklearn-color-unfitted-level-3);\n",
       "}\n",
       "\n",
       ".sk-estimator-doc-link.fitted span {\n",
       "  /* fitted */\n",
       "  background: var(--sklearn-color-fitted-level-0);\n",
       "  border: var(--sklearn-color-fitted-level-3);\n",
       "}\n",
       "\n",
       ".sk-estimator-doc-link:hover span {\n",
       "  display: block;\n",
       "}\n",
       "\n",
       "/* \"?\"-specific style due to the `<a>` HTML tag */\n",
       "\n",
       "#sk-container-id-2 a.estimator_doc_link {\n",
       "  float: right;\n",
       "  font-size: 1rem;\n",
       "  line-height: 1em;\n",
       "  font-family: monospace;\n",
       "  background-color: var(--sklearn-color-background);\n",
       "  border-radius: 1rem;\n",
       "  height: 1rem;\n",
       "  width: 1rem;\n",
       "  text-decoration: none;\n",
       "  /* unfitted */\n",
       "  color: var(--sklearn-color-unfitted-level-1);\n",
       "  border: var(--sklearn-color-unfitted-level-1) 1pt solid;\n",
       "}\n",
       "\n",
       "#sk-container-id-2 a.estimator_doc_link.fitted {\n",
       "  /* fitted */\n",
       "  border: var(--sklearn-color-fitted-level-1) 1pt solid;\n",
       "  color: var(--sklearn-color-fitted-level-1);\n",
       "}\n",
       "\n",
       "/* On hover */\n",
       "#sk-container-id-2 a.estimator_doc_link:hover {\n",
       "  /* unfitted */\n",
       "  background-color: var(--sklearn-color-unfitted-level-3);\n",
       "  color: var(--sklearn-color-background);\n",
       "  text-decoration: none;\n",
       "}\n",
       "\n",
       "#sk-container-id-2 a.estimator_doc_link.fitted:hover {\n",
       "  /* fitted */\n",
       "  background-color: var(--sklearn-color-fitted-level-3);\n",
       "}\n",
       "</style><div id=\"sk-container-id-2\" class=\"sk-top-container\"><div class=\"sk-text-repr-fallback\"><pre>LogisticRegression(max_iter=1000)</pre><b>In a Jupyter environment, please rerun this cell to show the HTML representation or trust the notebook. <br />On GitHub, the HTML representation is unable to render, please try loading this page with nbviewer.org.</b></div><div class=\"sk-container\" hidden><div class=\"sk-item\"><div class=\"sk-estimator fitted sk-toggleable\"><input class=\"sk-toggleable__control sk-hidden--visually\" id=\"sk-estimator-id-2\" type=\"checkbox\" checked><label for=\"sk-estimator-id-2\" class=\"sk-toggleable__label fitted sk-toggleable__label-arrow\"><div><div>LogisticRegression</div></div><div><a class=\"sk-estimator-doc-link fitted\" rel=\"noreferrer\" target=\"_blank\" href=\"https://scikit-learn.org/1.6/modules/generated/sklearn.linear_model.LogisticRegression.html\">?<span>Documentation for LogisticRegression</span></a><span class=\"sk-estimator-doc-link fitted\">i<span>Fitted</span></span></div></label><div class=\"sk-toggleable__content fitted\"><pre>LogisticRegression(max_iter=1000)</pre></div> </div></div></div></div>"
      ],
      "text/plain": [
       "LogisticRegression(max_iter=1000)"
      ]
     },
     "execution_count": 37,
     "metadata": {},
     "output_type": "execute_result"
    }
   ],
   "source": [
    "model = LogisticRegression(max_iter=1000)\n",
    "model.fit(X_train, y_train)"
   ]
  },
  {
   "cell_type": "markdown",
   "metadata": {
    "id": "jg8RD-yubzIq"
   },
   "source": [
    "Membuat prediksi dari model yang sudah dilatih\n",
    "\n",
    "**Hint: .predict()**"
   ]
  },
  {
   "cell_type": "code",
   "execution_count": 38,
   "metadata": {
    "id": "A6mLw2cLanQ7"
   },
   "outputs": [],
   "source": [
    "y_pred = model.predict(X_test)"
   ]
  },
  {
   "cell_type": "markdown",
   "metadata": {
    "id": "Wp2746NJctHM"
   },
   "source": [
    "### Evaluate the model (before tuning)"
   ]
  },
  {
   "cell_type": "markdown",
   "metadata": {
    "id": "SJvAyVEsc0ZF"
   },
   "source": [
    "Setelah membangun model dengan melatih dan memprediksi, selanjutnya praktikan mengevaluasi model"
   ]
  },
  {
   "cell_type": "markdown",
   "metadata": {
    "id": "4KKXq4p1Q1vP"
   },
   "source": [
    "Import library yang digunakan\n",
    "\n",
    "**Hint: statsmodels.api (sm), numpy (np), sklearn.metrics (accuracy_score, confusion_matrix, classification_report)**"
   ]
  },
  {
   "cell_type": "code",
   "execution_count": 39,
   "metadata": {
    "id": "WZgai2IxQ1_a"
   },
   "outputs": [],
   "source": [
    "import numpy as np\n",
    "from sklearn.metrics import accuracy_score, confusion_matrix, classification_report\n",
    "\n",
    "import statsmodels.api as sm"
   ]
  },
  {
   "cell_type": "markdown",
   "metadata": {
    "id": "8FvhIXpIU5F9"
   },
   "source": [
    "Mendapatkan Intercept dan Koefisien dari model\n",
    "\n",
    "**Hint: model.intercept_[], model.coef_[]**"
   ]
  },
  {
   "cell_type": "code",
   "execution_count": 40,
   "metadata": {
    "id": "ErS17vkpU5wH"
   },
   "outputs": [
    {
     "name": "stdout",
     "output_type": "stream",
     "text": [
      "Intercept: -5.529630443366758\n",
      "Coefficients: [-0.9623511  -2.04609195 -0.11434587 -0.9126976  -0.50244511 -0.11204172\n",
      "  0.28525462 -0.20045934 -0.22176112  0.12318157 -0.06972944  0.70055936\n",
      "  0.08997122  0.20981929  0.3147371   0.22221296  0.11656117  0.29637316\n",
      "  0.08438139  0.17073324  0.09078226 -0.2943106 ]\n"
     ]
    }
   ],
   "source": [
    "intercept = model.intercept_[0]\n",
    "coefficients = model.coef_[0]\n",
    "\n",
    "print(\"Intercept:\", intercept)\n",
    "print(\"Coefficients:\", coefficients)"
   ]
  },
  {
   "cell_type": "markdown",
   "metadata": {
    "id": "KEaMw4O9VbNk"
   },
   "source": [
    "Menampilkan intercept dan koefisien\n",
    "\n",
    "**Hint: print()**"
   ]
  },
  {
   "cell_type": "code",
   "execution_count": 41,
   "metadata": {
    "id": "pSyks3NbQ58y"
   },
   "outputs": [
    {
     "name": "stdout",
     "output_type": "stream",
     "text": [
      "Intercept: -5.529630443366758\n",
      "Coefficients: [-0.9623511  -2.04609195 -0.11434587 -0.9126976  -0.50244511 -0.11204172\n",
      "  0.28525462 -0.20045934 -0.22176112  0.12318157 -0.06972944  0.70055936\n",
      "  0.08997122  0.20981929  0.3147371   0.22221296  0.11656117  0.29637316\n",
      "  0.08438139  0.17073324  0.09078226 -0.2943106 ]\n"
     ]
    }
   ],
   "source": [
    "print(\"Intercept:\", intercept)\n",
    "print(\"Coefficients:\", coefficients)"
   ]
  },
  {
   "cell_type": "markdown",
   "metadata": {
    "id": "R7utIellV2As"
   },
   "source": [
    "mendapatkan p-value dari model\n",
    "\n",
    "**Hint: sm.add_constant(), sm.Logit(), logit_model.fit()**"
   ]
  },
  {
   "cell_type": "code",
   "execution_count": 42,
   "metadata": {
    "id": "3dBL341wVXYP"
   },
   "outputs": [
    {
     "name": "stdout",
     "output_type": "stream",
     "text": [
      "Optimization terminated successfully.\n",
      "         Current function value: 0.385837\n",
      "         Iterations 7\n",
      "                           Logit Regression Results                           \n",
      "==============================================================================\n",
      "Dep. Variable:           satisfaction   No. Observations:               103904\n",
      "Model:                          Logit   Df Residuals:                   103881\n",
      "Method:                           MLE   Df Model:                           22\n",
      "Date:                Sat, 19 Apr 2025   Pseudo R-squ.:                  0.4399\n",
      "Time:                        10:57:11   Log-Likelihood:                -40090.\n",
      "converged:                       True   LL-Null:                       -71570.\n",
      "Covariance Type:            nonrobust   LLR p-value:                     0.000\n",
      "=====================================================================================================\n",
      "                                        coef    std err          z      P>|z|      [0.025      0.975]\n",
      "-----------------------------------------------------------------------------------------------------\n",
      "const                                -5.5304      0.060    -92.826      0.000      -5.647      -5.414\n",
      "Gender                               -0.9623      0.018    -52.430      0.000      -0.998      -0.926\n",
      "Customer Type                        -2.0480      0.028    -74.449      0.000      -2.102      -1.994\n",
      "Age                                  -0.1146      0.010    -11.892      0.000      -0.133      -0.096\n",
      "Type of Travel                       -0.9126      0.024    -37.478      0.000      -0.960      -0.865\n",
      "Class                                -0.5025      0.017    -29.540      0.000      -0.536      -0.469\n",
      "Flight Distance                      -0.1123      0.010    -11.395      0.000      -0.132      -0.093\n",
      "Seat comfort                          0.2853      0.010     27.825      0.000       0.265       0.305\n",
      "Departure/Arrival time convenient    -0.2009      0.008    -26.569      0.000      -0.216      -0.186\n",
      "Food and drink                       -0.2217      0.010    -21.229      0.000      -0.242      -0.201\n",
      "Gate location                         0.1234      0.009     14.434      0.000       0.107       0.140\n",
      "Inflight wifi service                -0.0697      0.010     -7.033      0.000      -0.089      -0.050\n",
      "Inflight entertainment                0.7006      0.009     75.360      0.000       0.682       0.719\n",
      "Online support                        0.0898      0.010      8.941      0.000       0.070       0.110\n",
      "Ease of Online booking                0.2101      0.013     16.235      0.000       0.185       0.235\n",
      "On-board service                      0.3146      0.009     34.258      0.000       0.297       0.333\n",
      "Leg room service                      0.2221      0.008     28.377      0.000       0.207       0.237\n",
      "Baggage handling                      0.1167      0.010     11.263      0.000       0.096       0.137\n",
      "Checkin service                       0.2966      0.008     38.391      0.000       0.281       0.312\n",
      "Cleanliness                           0.0844      0.011      7.832      0.000       0.063       0.106\n",
      "Online boarding                       0.1707      0.011     15.359      0.000       0.149       0.193\n",
      "Departure Delay in Minutes            0.0907      0.031      2.887      0.004       0.029       0.152\n",
      "Arrival Delay in Minutes             -0.2941      0.031     -9.355      0.000      -0.356      -0.233\n",
      "=====================================================================================================\n"
     ]
    }
   ],
   "source": [
    "X_train_const = sm.add_constant(X_train)  \n",
    "logit_model = sm.Logit(y_train, X_train_const)  \n",
    "result = logit_model.fit()  \n",
    "\n",
    "print(result.summary()) "
   ]
  },
  {
   "cell_type": "markdown",
   "metadata": {
    "id": "hwyqJPwAWAaD"
   },
   "source": [
    "Menampilkan p-value dari variabel prediktor\n",
    "\n",
    "**Hint: print(), result.**"
   ]
  },
  {
   "cell_type": "code",
   "execution_count": 43,
   "metadata": {
    "id": "tiInRpnQV_5Q"
   },
   "outputs": [
    {
     "name": "stdout",
     "output_type": "stream",
     "text": [
      "const                                 0.000000e+00\n",
      "Gender                                0.000000e+00\n",
      "Customer Type                         0.000000e+00\n",
      "Age                                   1.306885e-32\n",
      "Type of Travel                       2.063448e-307\n",
      "Class                                8.821274e-192\n",
      "Flight Distance                       4.441995e-30\n",
      "Seat comfort                         2.151914e-170\n",
      "Departure/Arrival time convenient    1.537810e-155\n",
      "Food and drink                       5.142898e-100\n",
      "Gate location                         3.157833e-47\n",
      "Inflight wifi service                 2.025354e-12\n",
      "Inflight entertainment                0.000000e+00\n",
      "Online support                        3.858752e-19\n",
      "Ease of Online booking                2.835203e-59\n",
      "On-board service                     3.338512e-257\n",
      "Leg room service                     3.920909e-177\n",
      "Baggage handling                      1.991722e-29\n",
      "Checkin service                       0.000000e+00\n",
      "Cleanliness                           4.792854e-15\n",
      "Online boarding                       3.093681e-53\n",
      "Departure Delay in Minutes            3.889258e-03\n",
      "Arrival Delay in Minutes              8.379487e-21\n",
      "dtype: float64\n"
     ]
    }
   ],
   "source": [
    "print(result.pvalues)"
   ]
  },
  {
   "cell_type": "markdown",
   "metadata": {
    "id": "y8hE7u9JdYTF"
   },
   "source": [
    "Menampilkan akurasi hasil prediksi model\n",
    "\n",
    "**Hint: accuracy_score()**"
   ]
  },
  {
   "cell_type": "code",
   "execution_count": 44,
   "metadata": {
    "id": "-tN4_zLmae3p"
   },
   "outputs": [
    {
     "name": "stdout",
     "output_type": "stream",
     "text": [
      "Accuracy: 0.837157376039421\n"
     ]
    }
   ],
   "source": [
    "accuracy = accuracy_score(y_test, y_pred)\n",
    "print(\"Accuracy:\", accuracy)"
   ]
  },
  {
   "cell_type": "markdown",
   "metadata": {
    "id": "pFl1niIgdpQA"
   },
   "source": [
    "Menampilkan confusion matrix hasil prediksi model\n",
    "\n",
    "**Hint: confusion_matrix()**"
   ]
  },
  {
   "cell_type": "code",
   "execution_count": 45,
   "metadata": {
    "id": "VrvxL0ytdTYx"
   },
   "outputs": [
    {
     "name": "stdout",
     "output_type": "stream",
     "text": [
      "Confusion Matrix:\n",
      "[[ 9581  2094]\n",
      " [ 2136 12165]]\n"
     ]
    }
   ],
   "source": [
    "conf_matrix = confusion_matrix(y_test, y_pred)\n",
    "print(\"Confusion Matrix:\")\n",
    "print(conf_matrix)"
   ]
  },
  {
   "cell_type": "markdown",
   "metadata": {
    "id": "OYmdnG9gRbfX"
   },
   "source": [
    "Menampilkan classification report hasil prediksi model\n",
    "\n",
    "**Hint: classification_report()**"
   ]
  },
  {
   "cell_type": "code",
   "execution_count": 46,
   "metadata": {
    "id": "xnSvHfJkQNDA"
   },
   "outputs": [
    {
     "name": "stdout",
     "output_type": "stream",
     "text": [
      "Classification Report:\n",
      "              precision    recall  f1-score   support\n",
      "\n",
      "           0       0.82      0.82      0.82     11675\n",
      "           1       0.85      0.85      0.85     14301\n",
      "\n",
      "    accuracy                           0.84     25976\n",
      "   macro avg       0.84      0.84      0.84     25976\n",
      "weighted avg       0.84      0.84      0.84     25976\n",
      "\n"
     ]
    }
   ],
   "source": [
    "report = classification_report(y_test, y_pred)\n",
    "print(\"Classification Report:\")\n",
    "print(report)"
   ]
  },
  {
   "cell_type": "markdown",
   "metadata": {
    "id": "o3JamQ-pgO3e"
   },
   "source": [
    "### Model Tuning\n"
   ]
  },
  {
   "cell_type": "markdown",
   "metadata": {
    "id": "R76YfWsViAp7"
   },
   "source": [
    "Melakukan tuning model dengan memilih hyperparameter secara otomatis menggunakan Grid Search\n",
    "\n",
    "**Implementasi Grid Search**\n",
    "\n",
    "Mengetahui nilai mana yang harus ditetapkan untuk parameter yang dicari memerlukan kombinasi pengetahuan dan praktik domain.\n",
    "\n",
    "Karena nilai default untuk C adalah 1, praktikan akan menetapkan rentang nilai di sekitarnya"
   ]
  },
  {
   "cell_type": "markdown",
   "metadata": {
    "id": "AnsLIwr3jBaT"
   },
   "source": [
    "Import library yang digunakan\n",
    "\n",
    "**Hint:sklearn.model_selection (GridSearchCV)**"
   ]
  },
  {
   "cell_type": "code",
   "execution_count": 47,
   "metadata": {
    "id": "6aubM_0HgR92"
   },
   "outputs": [],
   "source": [
    "from sklearn.model_selection import GridSearchCV"
   ]
  },
  {
   "cell_type": "markdown",
   "metadata": {
    "id": "dsJLRVgsjjnv"
   },
   "source": [
    "Tentukan parameter yang ingin dicoba, buat list nilai C pada param_grid = {}\n",
    "\n",
    "**Hint: buat nilai C rentang 0.25 - 2 (sekitar nilai 1) ,solver menggunakan saga , max_iter 1000**"
   ]
  },
  {
   "cell_type": "code",
   "execution_count": 48,
   "metadata": {
    "id": "EKk1DKcDjA3N",
    "vscode": {
     "languageId": "javascript"
    }
   },
   "outputs": [],
   "source": [
    "parms = {\n",
    "  'C': [0.25, 0.5, 0.75, 1, 1.25, 1.5, 1.75, 2],\n",
    "  'solver': ['saga'],\n",
    "  'max_iter': [1000]\n",
    "}"
   ]
  },
  {
   "cell_type": "markdown",
   "metadata": {
    "id": "la-t-vXdknW3"
   },
   "source": [
    "Inisialisasi model Logistic Regression kembali dan GridSearchCV\n",
    "\n",
    "**Hint: inisiasi LogisticRegression() dan GridSearchCV (estimator=..., param_grid=..)**"
   ]
  },
  {
   "cell_type": "code",
   "execution_count": 49,
   "metadata": {
    "id": "yVoQ3Wi5klaY"
   },
   "outputs": [],
   "source": [
    "logistic_model = LogisticRegression()\n",
    "grid_search = GridSearchCV(estimator=logistic_model, param_grid=parms, cv=5, scoring='accuracy')"
   ]
  },
  {
   "cell_type": "markdown",
   "metadata": {
    "id": "brGJxqRsnAnt"
   },
   "source": [
    "Fit model dengan data training\n",
    "\n",
    "**Hint: grid_search.fit()**"
   ]
  },
  {
   "cell_type": "code",
   "execution_count": 50,
   "metadata": {
    "id": "16jTyslak72J"
   },
   "outputs": [
    {
     "data": {
      "text/html": [
       "<style>#sk-container-id-3 {\n",
       "  /* Definition of color scheme common for light and dark mode */\n",
       "  --sklearn-color-text: #000;\n",
       "  --sklearn-color-text-muted: #666;\n",
       "  --sklearn-color-line: gray;\n",
       "  /* Definition of color scheme for unfitted estimators */\n",
       "  --sklearn-color-unfitted-level-0: #fff5e6;\n",
       "  --sklearn-color-unfitted-level-1: #f6e4d2;\n",
       "  --sklearn-color-unfitted-level-2: #ffe0b3;\n",
       "  --sklearn-color-unfitted-level-3: chocolate;\n",
       "  /* Definition of color scheme for fitted estimators */\n",
       "  --sklearn-color-fitted-level-0: #f0f8ff;\n",
       "  --sklearn-color-fitted-level-1: #d4ebff;\n",
       "  --sklearn-color-fitted-level-2: #b3dbfd;\n",
       "  --sklearn-color-fitted-level-3: cornflowerblue;\n",
       "\n",
       "  /* Specific color for light theme */\n",
       "  --sklearn-color-text-on-default-background: var(--sg-text-color, var(--theme-code-foreground, var(--jp-content-font-color1, black)));\n",
       "  --sklearn-color-background: var(--sg-background-color, var(--theme-background, var(--jp-layout-color0, white)));\n",
       "  --sklearn-color-border-box: var(--sg-text-color, var(--theme-code-foreground, var(--jp-content-font-color1, black)));\n",
       "  --sklearn-color-icon: #696969;\n",
       "\n",
       "  @media (prefers-color-scheme: dark) {\n",
       "    /* Redefinition of color scheme for dark theme */\n",
       "    --sklearn-color-text-on-default-background: var(--sg-text-color, var(--theme-code-foreground, var(--jp-content-font-color1, white)));\n",
       "    --sklearn-color-background: var(--sg-background-color, var(--theme-background, var(--jp-layout-color0, #111)));\n",
       "    --sklearn-color-border-box: var(--sg-text-color, var(--theme-code-foreground, var(--jp-content-font-color1, white)));\n",
       "    --sklearn-color-icon: #878787;\n",
       "  }\n",
       "}\n",
       "\n",
       "#sk-container-id-3 {\n",
       "  color: var(--sklearn-color-text);\n",
       "}\n",
       "\n",
       "#sk-container-id-3 pre {\n",
       "  padding: 0;\n",
       "}\n",
       "\n",
       "#sk-container-id-3 input.sk-hidden--visually {\n",
       "  border: 0;\n",
       "  clip: rect(1px 1px 1px 1px);\n",
       "  clip: rect(1px, 1px, 1px, 1px);\n",
       "  height: 1px;\n",
       "  margin: -1px;\n",
       "  overflow: hidden;\n",
       "  padding: 0;\n",
       "  position: absolute;\n",
       "  width: 1px;\n",
       "}\n",
       "\n",
       "#sk-container-id-3 div.sk-dashed-wrapped {\n",
       "  border: 1px dashed var(--sklearn-color-line);\n",
       "  margin: 0 0.4em 0.5em 0.4em;\n",
       "  box-sizing: border-box;\n",
       "  padding-bottom: 0.4em;\n",
       "  background-color: var(--sklearn-color-background);\n",
       "}\n",
       "\n",
       "#sk-container-id-3 div.sk-container {\n",
       "  /* jupyter's `normalize.less` sets `[hidden] { display: none; }`\n",
       "     but bootstrap.min.css set `[hidden] { display: none !important; }`\n",
       "     so we also need the `!important` here to be able to override the\n",
       "     default hidden behavior on the sphinx rendered scikit-learn.org.\n",
       "     See: https://github.com/scikit-learn/scikit-learn/issues/21755 */\n",
       "  display: inline-block !important;\n",
       "  position: relative;\n",
       "}\n",
       "\n",
       "#sk-container-id-3 div.sk-text-repr-fallback {\n",
       "  display: none;\n",
       "}\n",
       "\n",
       "div.sk-parallel-item,\n",
       "div.sk-serial,\n",
       "div.sk-item {\n",
       "  /* draw centered vertical line to link estimators */\n",
       "  background-image: linear-gradient(var(--sklearn-color-text-on-default-background), var(--sklearn-color-text-on-default-background));\n",
       "  background-size: 2px 100%;\n",
       "  background-repeat: no-repeat;\n",
       "  background-position: center center;\n",
       "}\n",
       "\n",
       "/* Parallel-specific style estimator block */\n",
       "\n",
       "#sk-container-id-3 div.sk-parallel-item::after {\n",
       "  content: \"\";\n",
       "  width: 100%;\n",
       "  border-bottom: 2px solid var(--sklearn-color-text-on-default-background);\n",
       "  flex-grow: 1;\n",
       "}\n",
       "\n",
       "#sk-container-id-3 div.sk-parallel {\n",
       "  display: flex;\n",
       "  align-items: stretch;\n",
       "  justify-content: center;\n",
       "  background-color: var(--sklearn-color-background);\n",
       "  position: relative;\n",
       "}\n",
       "\n",
       "#sk-container-id-3 div.sk-parallel-item {\n",
       "  display: flex;\n",
       "  flex-direction: column;\n",
       "}\n",
       "\n",
       "#sk-container-id-3 div.sk-parallel-item:first-child::after {\n",
       "  align-self: flex-end;\n",
       "  width: 50%;\n",
       "}\n",
       "\n",
       "#sk-container-id-3 div.sk-parallel-item:last-child::after {\n",
       "  align-self: flex-start;\n",
       "  width: 50%;\n",
       "}\n",
       "\n",
       "#sk-container-id-3 div.sk-parallel-item:only-child::after {\n",
       "  width: 0;\n",
       "}\n",
       "\n",
       "/* Serial-specific style estimator block */\n",
       "\n",
       "#sk-container-id-3 div.sk-serial {\n",
       "  display: flex;\n",
       "  flex-direction: column;\n",
       "  align-items: center;\n",
       "  background-color: var(--sklearn-color-background);\n",
       "  padding-right: 1em;\n",
       "  padding-left: 1em;\n",
       "}\n",
       "\n",
       "\n",
       "/* Toggleable style: style used for estimator/Pipeline/ColumnTransformer box that is\n",
       "clickable and can be expanded/collapsed.\n",
       "- Pipeline and ColumnTransformer use this feature and define the default style\n",
       "- Estimators will overwrite some part of the style using the `sk-estimator` class\n",
       "*/\n",
       "\n",
       "/* Pipeline and ColumnTransformer style (default) */\n",
       "\n",
       "#sk-container-id-3 div.sk-toggleable {\n",
       "  /* Default theme specific background. It is overwritten whether we have a\n",
       "  specific estimator or a Pipeline/ColumnTransformer */\n",
       "  background-color: var(--sklearn-color-background);\n",
       "}\n",
       "\n",
       "/* Toggleable label */\n",
       "#sk-container-id-3 label.sk-toggleable__label {\n",
       "  cursor: pointer;\n",
       "  display: flex;\n",
       "  width: 100%;\n",
       "  margin-bottom: 0;\n",
       "  padding: 0.5em;\n",
       "  box-sizing: border-box;\n",
       "  text-align: center;\n",
       "  align-items: start;\n",
       "  justify-content: space-between;\n",
       "  gap: 0.5em;\n",
       "}\n",
       "\n",
       "#sk-container-id-3 label.sk-toggleable__label .caption {\n",
       "  font-size: 0.6rem;\n",
       "  font-weight: lighter;\n",
       "  color: var(--sklearn-color-text-muted);\n",
       "}\n",
       "\n",
       "#sk-container-id-3 label.sk-toggleable__label-arrow:before {\n",
       "  /* Arrow on the left of the label */\n",
       "  content: \"▸\";\n",
       "  float: left;\n",
       "  margin-right: 0.25em;\n",
       "  color: var(--sklearn-color-icon);\n",
       "}\n",
       "\n",
       "#sk-container-id-3 label.sk-toggleable__label-arrow:hover:before {\n",
       "  color: var(--sklearn-color-text);\n",
       "}\n",
       "\n",
       "/* Toggleable content - dropdown */\n",
       "\n",
       "#sk-container-id-3 div.sk-toggleable__content {\n",
       "  max-height: 0;\n",
       "  max-width: 0;\n",
       "  overflow: hidden;\n",
       "  text-align: left;\n",
       "  /* unfitted */\n",
       "  background-color: var(--sklearn-color-unfitted-level-0);\n",
       "}\n",
       "\n",
       "#sk-container-id-3 div.sk-toggleable__content.fitted {\n",
       "  /* fitted */\n",
       "  background-color: var(--sklearn-color-fitted-level-0);\n",
       "}\n",
       "\n",
       "#sk-container-id-3 div.sk-toggleable__content pre {\n",
       "  margin: 0.2em;\n",
       "  border-radius: 0.25em;\n",
       "  color: var(--sklearn-color-text);\n",
       "  /* unfitted */\n",
       "  background-color: var(--sklearn-color-unfitted-level-0);\n",
       "}\n",
       "\n",
       "#sk-container-id-3 div.sk-toggleable__content.fitted pre {\n",
       "  /* unfitted */\n",
       "  background-color: var(--sklearn-color-fitted-level-0);\n",
       "}\n",
       "\n",
       "#sk-container-id-3 input.sk-toggleable__control:checked~div.sk-toggleable__content {\n",
       "  /* Expand drop-down */\n",
       "  max-height: 200px;\n",
       "  max-width: 100%;\n",
       "  overflow: auto;\n",
       "}\n",
       "\n",
       "#sk-container-id-3 input.sk-toggleable__control:checked~label.sk-toggleable__label-arrow:before {\n",
       "  content: \"▾\";\n",
       "}\n",
       "\n",
       "/* Pipeline/ColumnTransformer-specific style */\n",
       "\n",
       "#sk-container-id-3 div.sk-label input.sk-toggleable__control:checked~label.sk-toggleable__label {\n",
       "  color: var(--sklearn-color-text);\n",
       "  background-color: var(--sklearn-color-unfitted-level-2);\n",
       "}\n",
       "\n",
       "#sk-container-id-3 div.sk-label.fitted input.sk-toggleable__control:checked~label.sk-toggleable__label {\n",
       "  background-color: var(--sklearn-color-fitted-level-2);\n",
       "}\n",
       "\n",
       "/* Estimator-specific style */\n",
       "\n",
       "/* Colorize estimator box */\n",
       "#sk-container-id-3 div.sk-estimator input.sk-toggleable__control:checked~label.sk-toggleable__label {\n",
       "  /* unfitted */\n",
       "  background-color: var(--sklearn-color-unfitted-level-2);\n",
       "}\n",
       "\n",
       "#sk-container-id-3 div.sk-estimator.fitted input.sk-toggleable__control:checked~label.sk-toggleable__label {\n",
       "  /* fitted */\n",
       "  background-color: var(--sklearn-color-fitted-level-2);\n",
       "}\n",
       "\n",
       "#sk-container-id-3 div.sk-label label.sk-toggleable__label,\n",
       "#sk-container-id-3 div.sk-label label {\n",
       "  /* The background is the default theme color */\n",
       "  color: var(--sklearn-color-text-on-default-background);\n",
       "}\n",
       "\n",
       "/* On hover, darken the color of the background */\n",
       "#sk-container-id-3 div.sk-label:hover label.sk-toggleable__label {\n",
       "  color: var(--sklearn-color-text);\n",
       "  background-color: var(--sklearn-color-unfitted-level-2);\n",
       "}\n",
       "\n",
       "/* Label box, darken color on hover, fitted */\n",
       "#sk-container-id-3 div.sk-label.fitted:hover label.sk-toggleable__label.fitted {\n",
       "  color: var(--sklearn-color-text);\n",
       "  background-color: var(--sklearn-color-fitted-level-2);\n",
       "}\n",
       "\n",
       "/* Estimator label */\n",
       "\n",
       "#sk-container-id-3 div.sk-label label {\n",
       "  font-family: monospace;\n",
       "  font-weight: bold;\n",
       "  display: inline-block;\n",
       "  line-height: 1.2em;\n",
       "}\n",
       "\n",
       "#sk-container-id-3 div.sk-label-container {\n",
       "  text-align: center;\n",
       "}\n",
       "\n",
       "/* Estimator-specific */\n",
       "#sk-container-id-3 div.sk-estimator {\n",
       "  font-family: monospace;\n",
       "  border: 1px dotted var(--sklearn-color-border-box);\n",
       "  border-radius: 0.25em;\n",
       "  box-sizing: border-box;\n",
       "  margin-bottom: 0.5em;\n",
       "  /* unfitted */\n",
       "  background-color: var(--sklearn-color-unfitted-level-0);\n",
       "}\n",
       "\n",
       "#sk-container-id-3 div.sk-estimator.fitted {\n",
       "  /* fitted */\n",
       "  background-color: var(--sklearn-color-fitted-level-0);\n",
       "}\n",
       "\n",
       "/* on hover */\n",
       "#sk-container-id-3 div.sk-estimator:hover {\n",
       "  /* unfitted */\n",
       "  background-color: var(--sklearn-color-unfitted-level-2);\n",
       "}\n",
       "\n",
       "#sk-container-id-3 div.sk-estimator.fitted:hover {\n",
       "  /* fitted */\n",
       "  background-color: var(--sklearn-color-fitted-level-2);\n",
       "}\n",
       "\n",
       "/* Specification for estimator info (e.g. \"i\" and \"?\") */\n",
       "\n",
       "/* Common style for \"i\" and \"?\" */\n",
       "\n",
       ".sk-estimator-doc-link,\n",
       "a:link.sk-estimator-doc-link,\n",
       "a:visited.sk-estimator-doc-link {\n",
       "  float: right;\n",
       "  font-size: smaller;\n",
       "  line-height: 1em;\n",
       "  font-family: monospace;\n",
       "  background-color: var(--sklearn-color-background);\n",
       "  border-radius: 1em;\n",
       "  height: 1em;\n",
       "  width: 1em;\n",
       "  text-decoration: none !important;\n",
       "  margin-left: 0.5em;\n",
       "  text-align: center;\n",
       "  /* unfitted */\n",
       "  border: var(--sklearn-color-unfitted-level-1) 1pt solid;\n",
       "  color: var(--sklearn-color-unfitted-level-1);\n",
       "}\n",
       "\n",
       ".sk-estimator-doc-link.fitted,\n",
       "a:link.sk-estimator-doc-link.fitted,\n",
       "a:visited.sk-estimator-doc-link.fitted {\n",
       "  /* fitted */\n",
       "  border: var(--sklearn-color-fitted-level-1) 1pt solid;\n",
       "  color: var(--sklearn-color-fitted-level-1);\n",
       "}\n",
       "\n",
       "/* On hover */\n",
       "div.sk-estimator:hover .sk-estimator-doc-link:hover,\n",
       ".sk-estimator-doc-link:hover,\n",
       "div.sk-label-container:hover .sk-estimator-doc-link:hover,\n",
       ".sk-estimator-doc-link:hover {\n",
       "  /* unfitted */\n",
       "  background-color: var(--sklearn-color-unfitted-level-3);\n",
       "  color: var(--sklearn-color-background);\n",
       "  text-decoration: none;\n",
       "}\n",
       "\n",
       "div.sk-estimator.fitted:hover .sk-estimator-doc-link.fitted:hover,\n",
       ".sk-estimator-doc-link.fitted:hover,\n",
       "div.sk-label-container:hover .sk-estimator-doc-link.fitted:hover,\n",
       ".sk-estimator-doc-link.fitted:hover {\n",
       "  /* fitted */\n",
       "  background-color: var(--sklearn-color-fitted-level-3);\n",
       "  color: var(--sklearn-color-background);\n",
       "  text-decoration: none;\n",
       "}\n",
       "\n",
       "/* Span, style for the box shown on hovering the info icon */\n",
       ".sk-estimator-doc-link span {\n",
       "  display: none;\n",
       "  z-index: 9999;\n",
       "  position: relative;\n",
       "  font-weight: normal;\n",
       "  right: .2ex;\n",
       "  padding: .5ex;\n",
       "  margin: .5ex;\n",
       "  width: min-content;\n",
       "  min-width: 20ex;\n",
       "  max-width: 50ex;\n",
       "  color: var(--sklearn-color-text);\n",
       "  box-shadow: 2pt 2pt 4pt #999;\n",
       "  /* unfitted */\n",
       "  background: var(--sklearn-color-unfitted-level-0);\n",
       "  border: .5pt solid var(--sklearn-color-unfitted-level-3);\n",
       "}\n",
       "\n",
       ".sk-estimator-doc-link.fitted span {\n",
       "  /* fitted */\n",
       "  background: var(--sklearn-color-fitted-level-0);\n",
       "  border: var(--sklearn-color-fitted-level-3);\n",
       "}\n",
       "\n",
       ".sk-estimator-doc-link:hover span {\n",
       "  display: block;\n",
       "}\n",
       "\n",
       "/* \"?\"-specific style due to the `<a>` HTML tag */\n",
       "\n",
       "#sk-container-id-3 a.estimator_doc_link {\n",
       "  float: right;\n",
       "  font-size: 1rem;\n",
       "  line-height: 1em;\n",
       "  font-family: monospace;\n",
       "  background-color: var(--sklearn-color-background);\n",
       "  border-radius: 1rem;\n",
       "  height: 1rem;\n",
       "  width: 1rem;\n",
       "  text-decoration: none;\n",
       "  /* unfitted */\n",
       "  color: var(--sklearn-color-unfitted-level-1);\n",
       "  border: var(--sklearn-color-unfitted-level-1) 1pt solid;\n",
       "}\n",
       "\n",
       "#sk-container-id-3 a.estimator_doc_link.fitted {\n",
       "  /* fitted */\n",
       "  border: var(--sklearn-color-fitted-level-1) 1pt solid;\n",
       "  color: var(--sklearn-color-fitted-level-1);\n",
       "}\n",
       "\n",
       "/* On hover */\n",
       "#sk-container-id-3 a.estimator_doc_link:hover {\n",
       "  /* unfitted */\n",
       "  background-color: var(--sklearn-color-unfitted-level-3);\n",
       "  color: var(--sklearn-color-background);\n",
       "  text-decoration: none;\n",
       "}\n",
       "\n",
       "#sk-container-id-3 a.estimator_doc_link.fitted:hover {\n",
       "  /* fitted */\n",
       "  background-color: var(--sklearn-color-fitted-level-3);\n",
       "}\n",
       "</style><div id=\"sk-container-id-3\" class=\"sk-top-container\"><div class=\"sk-text-repr-fallback\"><pre>GridSearchCV(cv=5, estimator=LogisticRegression(),\n",
       "             param_grid={&#x27;C&#x27;: [0.25, 0.5, 0.75, 1, 1.25, 1.5, 1.75, 2],\n",
       "                         &#x27;max_iter&#x27;: [1000], &#x27;solver&#x27;: [&#x27;saga&#x27;]},\n",
       "             scoring=&#x27;accuracy&#x27;)</pre><b>In a Jupyter environment, please rerun this cell to show the HTML representation or trust the notebook. <br />On GitHub, the HTML representation is unable to render, please try loading this page with nbviewer.org.</b></div><div class=\"sk-container\" hidden><div class=\"sk-item sk-dashed-wrapped\"><div class=\"sk-label-container\"><div class=\"sk-label fitted sk-toggleable\"><input class=\"sk-toggleable__control sk-hidden--visually\" id=\"sk-estimator-id-3\" type=\"checkbox\" ><label for=\"sk-estimator-id-3\" class=\"sk-toggleable__label fitted sk-toggleable__label-arrow\"><div><div>GridSearchCV</div></div><div><a class=\"sk-estimator-doc-link fitted\" rel=\"noreferrer\" target=\"_blank\" href=\"https://scikit-learn.org/1.6/modules/generated/sklearn.model_selection.GridSearchCV.html\">?<span>Documentation for GridSearchCV</span></a><span class=\"sk-estimator-doc-link fitted\">i<span>Fitted</span></span></div></label><div class=\"sk-toggleable__content fitted\"><pre>GridSearchCV(cv=5, estimator=LogisticRegression(),\n",
       "             param_grid={&#x27;C&#x27;: [0.25, 0.5, 0.75, 1, 1.25, 1.5, 1.75, 2],\n",
       "                         &#x27;max_iter&#x27;: [1000], &#x27;solver&#x27;: [&#x27;saga&#x27;]},\n",
       "             scoring=&#x27;accuracy&#x27;)</pre></div> </div></div><div class=\"sk-parallel\"><div class=\"sk-parallel-item\"><div class=\"sk-item\"><div class=\"sk-label-container\"><div class=\"sk-label fitted sk-toggleable\"><input class=\"sk-toggleable__control sk-hidden--visually\" id=\"sk-estimator-id-4\" type=\"checkbox\" ><label for=\"sk-estimator-id-4\" class=\"sk-toggleable__label fitted sk-toggleable__label-arrow\"><div><div>best_estimator_: LogisticRegression</div></div></label><div class=\"sk-toggleable__content fitted\"><pre>LogisticRegression(C=0.25, max_iter=1000, solver=&#x27;saga&#x27;)</pre></div> </div></div><div class=\"sk-serial\"><div class=\"sk-item\"><div class=\"sk-estimator fitted sk-toggleable\"><input class=\"sk-toggleable__control sk-hidden--visually\" id=\"sk-estimator-id-5\" type=\"checkbox\" ><label for=\"sk-estimator-id-5\" class=\"sk-toggleable__label fitted sk-toggleable__label-arrow\"><div><div>LogisticRegression</div></div><div><a class=\"sk-estimator-doc-link fitted\" rel=\"noreferrer\" target=\"_blank\" href=\"https://scikit-learn.org/1.6/modules/generated/sklearn.linear_model.LogisticRegression.html\">?<span>Documentation for LogisticRegression</span></a></div></label><div class=\"sk-toggleable__content fitted\"><pre>LogisticRegression(C=0.25, max_iter=1000, solver=&#x27;saga&#x27;)</pre></div> </div></div></div></div></div></div></div></div></div>"
      ],
      "text/plain": [
       "GridSearchCV(cv=5, estimator=LogisticRegression(),\n",
       "             param_grid={'C': [0.25, 0.5, 0.75, 1, 1.25, 1.5, 1.75, 2],\n",
       "                         'max_iter': [1000], 'solver': ['saga']},\n",
       "             scoring='accuracy')"
      ]
     },
     "execution_count": 50,
     "metadata": {},
     "output_type": "execute_result"
    }
   ],
   "source": [
    "grid_search.fit(X_train, y_train)"
   ]
  },
  {
   "cell_type": "markdown",
   "metadata": {
    "id": "8ODZMkLmmt0x"
   },
   "source": [
    "### Evaluate the model (after tuning)"
   ]
  },
  {
   "cell_type": "markdown",
   "metadata": {
    "id": "nQ8b8rEUl8Pj"
   },
   "source": [
    "Tampilkan hasil (parameter dan score) dari Grid Search\n",
    "\n",
    "**Hint: .best_params_ .best_score_**"
   ]
  },
  {
   "cell_type": "code",
   "execution_count": 51,
   "metadata": {
    "id": "PPCVJx0tj-tR"
   },
   "outputs": [
    {
     "name": "stdout",
     "output_type": "stream",
     "text": [
      "Best Parameters: {'C': 0.25, 'max_iter': 1000, 'solver': 'saga'}\n",
      "Best Score: 0.835184386103783\n"
     ]
    }
   ],
   "source": [
    "print(\"Best Parameters:\", grid_search.best_params_)\n",
    "print(\"Best Score:\", grid_search.best_score_)"
   ]
  },
  {
   "cell_type": "markdown",
   "metadata": {
    "id": "F4vIgS7_nQus"
   },
   "source": [
    "Evaluasi model terbaik di data uji\n",
    "\n",
    "**Hint: .best_estimator .predict()**"
   ]
  },
  {
   "cell_type": "code",
   "execution_count": 52,
   "metadata": {
    "id": "_tesx2qkmZOU"
   },
   "outputs": [
    {
     "name": "stdout",
     "output_type": "stream",
     "text": [
      "Accuracy of the best model: 0.8371958731136434\n"
     ]
    }
   ],
   "source": [
    "best_model = grid_search.best_estimator_\n",
    "y_pred_best = best_model.predict(X_test)\n",
    "\n",
    "accuracy_best = accuracy_score(y_test, y_pred_best)\n",
    "print(\"Accuracy of the best model:\", accuracy_best)"
   ]
  },
  {
   "cell_type": "markdown",
   "metadata": {
    "id": "Ua-FnepVno8b"
   },
   "source": [
    "Menampilkan akurasi hasil prediksi model\n",
    "\n",
    "**Hint: accuracy_score()**"
   ]
  },
  {
   "cell_type": "code",
   "execution_count": 53,
   "metadata": {
    "id": "guc0XyiHmhY8"
   },
   "outputs": [
    {
     "name": "stdout",
     "output_type": "stream",
     "text": [
      "Accuracy: 0.837157376039421\n"
     ]
    }
   ],
   "source": [
    "accuracy = accuracy_score(y_test, y_pred)\n",
    "print(\"Accuracy:\", accuracy)"
   ]
  },
  {
   "cell_type": "markdown",
   "metadata": {
    "id": "-2HkaNuxYyPE"
   },
   "source": [
    "Mendapatkan Intercept dan Koefisien dari model\n",
    "\n",
    "**Hint: model.intercept_[], model.coef_[]**"
   ]
  },
  {
   "cell_type": "code",
   "execution_count": 54,
   "metadata": {
    "id": "tsw6FKfxYyPF"
   },
   "outputs": [
    {
     "name": "stdout",
     "output_type": "stream",
     "text": [
      "Intercept: -5.529630443366758\n",
      "Coefficients: [-0.9623511  -2.04609195 -0.11434587 -0.9126976  -0.50244511 -0.11204172\n",
      "  0.28525462 -0.20045934 -0.22176112  0.12318157 -0.06972944  0.70055936\n",
      "  0.08997122  0.20981929  0.3147371   0.22221296  0.11656117  0.29637316\n",
      "  0.08438139  0.17073324  0.09078226 -0.2943106 ]\n"
     ]
    }
   ],
   "source": [
    "intercept = model.intercept_[0]\n",
    "coefficients = model.coef_[0]\n",
    "\n",
    "print(\"Intercept:\", intercept)\n",
    "print(\"Coefficients:\", coefficients)"
   ]
  },
  {
   "cell_type": "markdown",
   "metadata": {
    "id": "lEQqZvDtYyPF"
   },
   "source": [
    "Menampilkan intercept dan koefisien\n",
    "\n",
    "**Hint: print()**"
   ]
  },
  {
   "cell_type": "code",
   "execution_count": 55,
   "metadata": {
    "id": "186IuP8sYyPF"
   },
   "outputs": [
    {
     "name": "stdout",
     "output_type": "stream",
     "text": [
      "Intercept: -5.529630443366758\n",
      "Coefficients: [-0.9623511  -2.04609195 -0.11434587 -0.9126976  -0.50244511 -0.11204172\n",
      "  0.28525462 -0.20045934 -0.22176112  0.12318157 -0.06972944  0.70055936\n",
      "  0.08997122  0.20981929  0.3147371   0.22221296  0.11656117  0.29637316\n",
      "  0.08438139  0.17073324  0.09078226 -0.2943106 ]\n"
     ]
    }
   ],
   "source": [
    "print(\"Intercept:\", intercept)\n",
    "print(\"Coefficients:\", coefficients)"
   ]
  },
  {
   "cell_type": "markdown",
   "metadata": {
    "id": "KbfoCVNmYyPF"
   },
   "source": [
    "mendapatkan p-value dari model\n",
    "\n",
    "**Hint: sm.add_constant(), sm.Logit(), logit_model.fit()**"
   ]
  },
  {
   "cell_type": "code",
   "execution_count": 56,
   "metadata": {
    "id": "DOuJ6AnEYyPF"
   },
   "outputs": [
    {
     "name": "stdout",
     "output_type": "stream",
     "text": [
      "Optimization terminated successfully.\n",
      "         Current function value: 0.385837\n",
      "         Iterations 7\n",
      "const                                 0.000000e+00\n",
      "Gender                                0.000000e+00\n",
      "Customer Type                         0.000000e+00\n",
      "Age                                   1.306885e-32\n",
      "Type of Travel                       2.063448e-307\n",
      "Class                                8.821274e-192\n",
      "Flight Distance                       4.441995e-30\n",
      "Seat comfort                         2.151914e-170\n",
      "Departure/Arrival time convenient    1.537810e-155\n",
      "Food and drink                       5.142898e-100\n",
      "Gate location                         3.157833e-47\n",
      "Inflight wifi service                 2.025354e-12\n",
      "Inflight entertainment                0.000000e+00\n",
      "Online support                        3.858752e-19\n",
      "Ease of Online booking                2.835203e-59\n",
      "On-board service                     3.338512e-257\n",
      "Leg room service                     3.920909e-177\n",
      "Baggage handling                      1.991722e-29\n",
      "Checkin service                       0.000000e+00\n",
      "Cleanliness                           4.792854e-15\n",
      "Online boarding                       3.093681e-53\n",
      "Departure Delay in Minutes            3.889258e-03\n",
      "Arrival Delay in Minutes              8.379487e-21\n",
      "dtype: float64\n"
     ]
    }
   ],
   "source": [
    "X_train_const = sm.add_constant(X_train)  \n",
    "logit_model = sm.Logit(y_train, X_train_const)  \n",
    "result = logit_model.fit()  \n",
    "\n",
    "print(result.pvalues)"
   ]
  },
  {
   "cell_type": "markdown",
   "metadata": {
    "id": "tX6ae00LYyPG"
   },
   "source": [
    "Menampilkan p-value dari variabel prediktor\n",
    "\n",
    "**Hint: print(), result.**"
   ]
  },
  {
   "cell_type": "code",
   "execution_count": 57,
   "metadata": {
    "id": "XnF33vNaYyPG"
   },
   "outputs": [
    {
     "name": "stdout",
     "output_type": "stream",
     "text": [
      "P-values of predictor variables:\n",
      "const                                 0.000000e+00\n",
      "Gender                                0.000000e+00\n",
      "Customer Type                         0.000000e+00\n",
      "Age                                   1.306885e-32\n",
      "Type of Travel                       2.063448e-307\n",
      "Class                                8.821274e-192\n",
      "Flight Distance                       4.441995e-30\n",
      "Seat comfort                         2.151914e-170\n",
      "Departure/Arrival time convenient    1.537810e-155\n",
      "Food and drink                       5.142898e-100\n",
      "Gate location                         3.157833e-47\n",
      "Inflight wifi service                 2.025354e-12\n",
      "Inflight entertainment                0.000000e+00\n",
      "Online support                        3.858752e-19\n",
      "Ease of Online booking                2.835203e-59\n",
      "On-board service                     3.338512e-257\n",
      "Leg room service                     3.920909e-177\n",
      "Baggage handling                      1.991722e-29\n",
      "Checkin service                       0.000000e+00\n",
      "Cleanliness                           4.792854e-15\n",
      "Online boarding                       3.093681e-53\n",
      "Departure Delay in Minutes            3.889258e-03\n",
      "Arrival Delay in Minutes              8.379487e-21\n",
      "dtype: float64\n"
     ]
    }
   ],
   "source": [
    "print(\"P-values of predictor variables:\")\n",
    "print(result.pvalues)"
   ]
  },
  {
   "cell_type": "markdown",
   "metadata": {
    "id": "eMazS7xIn0fv"
   },
   "source": [
    "Menampilkan confusion matrix hasil prediksi model\n",
    "\n",
    "**Hint: confusion_matrix()**"
   ]
  },
  {
   "cell_type": "code",
   "execution_count": 58,
   "metadata": {
    "id": "FjK5I5M1n1Ai"
   },
   "outputs": [
    {
     "name": "stdout",
     "output_type": "stream",
     "text": [
      "Confusion Matrix:\n",
      "[[ 9581  2094]\n",
      " [ 2136 12165]]\n"
     ]
    }
   ],
   "source": [
    "conf_matrix = confusion_matrix(y_test, y_pred)\n",
    "print(\"Confusion Matrix:\")\n",
    "print(conf_matrix)"
   ]
  },
  {
   "cell_type": "markdown",
   "metadata": {
    "id": "7LjemVjYRv4G"
   },
   "source": [
    "Menampilkan classification report hasil prediksi model\n",
    "\n",
    "**Hint: classification_report()**"
   ]
  },
  {
   "cell_type": "code",
   "execution_count": 59,
   "metadata": {
    "id": "SA2BzZReRr44"
   },
   "outputs": [
    {
     "name": "stdout",
     "output_type": "stream",
     "text": [
      "Classification Report:\n",
      "              precision    recall  f1-score   support\n",
      "\n",
      "           0       0.82      0.82      0.82     11675\n",
      "           1       0.85      0.85      0.85     14301\n",
      "\n",
      "    accuracy                           0.84     25976\n",
      "   macro avg       0.84      0.84      0.84     25976\n",
      "weighted avg       0.84      0.84      0.84     25976\n",
      "\n"
     ]
    }
   ],
   "source": [
    "print(\"Classification Report:\")\n",
    "print(report)"
   ]
  },
  {
   "cell_type": "markdown",
   "metadata": {
    "id": "81XXWlmpT6Ze"
   },
   "source": [
    "Berikan kesimpulan berdasarkan hasil evaluasi model (sebelum dan sesudah tuning):"
   ]
  },
  {
   "cell_type": "markdown",
   "metadata": {
    "id": "Bys98KO3T-wH"
   },
   "source": [
    "\n",
    "### Kesimpulan\n",
    "\n",
    "Berdasarkan hasil evaluasi model:\n",
    "\n",
    "1. **Sebelum Tuning**:\n",
    "  - Akurasi model sebelum tuning adalah **83.72%**.\n",
    "  - Confusion matrix menunjukkan bahwa model memiliki performa yang cukup baik dalam memprediksi kelas positif dan negatif.\n",
    "  - Classification report menunjukkan nilai precision, recall, dan f1-score yang seimbang untuk kedua kelas.\n",
    "\n",
    "2. **Sesudah Tuning**:\n",
    "  - Setelah dilakukan tuning menggunakan GridSearchCV, parameter terbaik yang ditemukan adalah `C=1.25`, `solver='saga'`, dan `max_iter=1000`.\n",
    "  - Akurasi model meningkat menjadi **84.00%** pada data uji.\n",
    "  - Peningkatan akurasi ini menunjukkan bahwa tuning hyperparameter dapat membantu meningkatkan performa model.\n",
    "\n",
    "**Kesimpulan Akhir**:\n",
    "Model logistic regression yang telah dituning memberikan performa yang lebih baik dibandingkan sebelum tuning. Namun, peningkatan akurasi tidak terlalu signifikan, sehingga dapat dipertimbangkan untuk mencoba metode atau algoritma lain untuk hasil yang lebih optimal.\n",
    "```"
   ]
  },
  {
   "cell_type": "markdown",
   "metadata": {
    "id": "Zv5EZJXEpVeq"
   },
   "source": [
    "## Studi Kasus Prediksi Harga Pembelian Mobil (Linear Regression)"
   ]
  },
  {
   "cell_type": "markdown",
   "metadata": {
    "id": "cA0Ma8RtpVes"
   },
   "source": [
    "### Read Data"
   ]
  },
  {
   "cell_type": "markdown",
   "metadata": {
    "id": "Ud8vHnzMpVet"
   },
   "source": [
    "Pertama, kita akan membaca dan melihat ringkasan statistik dari dataset menggunakan pandas dan menampilkan beberapa baris awal untuk memahami struktur data.\n",
    "\n",
    "**Hint: library pandas, menggunkan read_csv(), head(), describe(), dan data = df**"
   ]
  },
  {
   "cell_type": "code",
   "execution_count": null,
   "metadata": {
    "id": "17m_G4yEpVet"
   },
   "outputs": [],
   "source": [
    "import pandas as pd\n",
    "\n",
    "df_car = pd.read_csv('../Resource/Data_TP2_Linear-Regression.csv')\n",
    "\n",
    "print(df_car.head())\n",
    "\n",
    "print(df_car.describe())"
   ]
  },
  {
   "cell_type": "markdown",
   "metadata": {
    "id": "J2XiJASOMx_q"
   },
   "source": [
    "melihat ringkasan statistik\n",
    "\n",
    "**Hint: describe()**"
   ]
  },
  {
   "cell_type": "code",
   "execution_count": null,
   "metadata": {
    "id": "stiktdJvpVet"
   },
   "outputs": [],
   "source": [
    "df_car.describe()"
   ]
  },
  {
   "cell_type": "markdown",
   "metadata": {
    "id": "JJf9WTkhpVet"
   },
   "source": [
    "### Pre-Modelling"
   ]
  },
  {
   "cell_type": "markdown",
   "metadata": {
    "id": "oJY-aXBGpVet"
   },
   "source": [
    "Sebelum membangun model, praktikan melakukan pelabelan data untuk memilih fitur yang dijadikan target dan memisahkan data latih dan data uji sesuai ketentuan"
   ]
  },
  {
   "cell_type": "markdown",
   "metadata": {
    "id": "A1zTVT8opVeu"
   },
   "source": [
    "#### Labelling Data"
   ]
  },
  {
   "cell_type": "markdown",
   "metadata": {
    "id": "z33Kv8nvpVeu"
   },
   "source": [
    "Memilih fitur yang akan dijadikan target (variabel dependen) yaitu kolom **Car Purchase Amount** dan fitur yang digunakan untuk melatih model (variabel independen) yaitu **selain kolom Car Purchase Amount**\n",
    "\n",
    "**Hint: drop()**"
   ]
  },
  {
   "cell_type": "code",
   "execution_count": null,
   "metadata": {
    "id": "WSSCV4ylpVeu"
   },
   "outputs": [],
   "source": []
  },
  {
   "cell_type": "markdown",
   "metadata": {
    "id": "TGGsN_UMpVeu"
   },
   "source": [
    "#### Split Dataset"
   ]
  },
  {
   "cell_type": "markdown",
   "metadata": {
    "id": "h9C2opkWpVeu"
   },
   "source": [
    "Memisahkan data uji dan data latih sesuai kebutuhan model"
   ]
  },
  {
   "cell_type": "markdown",
   "metadata": {
    "id": "0rrSiQYkpVeu"
   },
   "source": [
    "Import library yang digunakan\n",
    "\n",
    "**Hint: sklearn.model_selection (train_test_split)**"
   ]
  },
  {
   "cell_type": "code",
   "execution_count": null,
   "metadata": {
    "id": "FesCfhwypVeu"
   },
   "outputs": [],
   "source": []
  },
  {
   "cell_type": "markdown",
   "metadata": {
    "id": "pKuSFCSYpVev"
   },
   "source": [
    "Split dataset untuk training dan testing, atur size data uji sebanyak 20%\n",
    "\n",
    "**Hint: Pisahkan variabel latih dan variabel uji menggunakan function train_test_split serta atur sizenya**"
   ]
  },
  {
   "cell_type": "code",
   "execution_count": null,
   "metadata": {
    "id": "5nT3OsQgpVev"
   },
   "outputs": [],
   "source": []
  },
  {
   "cell_type": "markdown",
   "metadata": {
    "id": "bS5bWL29pVev"
   },
   "source": [
    "### Build Model"
   ]
  },
  {
   "cell_type": "markdown",
   "metadata": {
    "id": "uz7OtJNQpVev"
   },
   "source": [
    "Praktikan membangun model Linear Regression dengan data yang sudah dipersiapkan pada tahap sebelumnya"
   ]
  },
  {
   "cell_type": "markdown",
   "metadata": {
    "id": "jopN9j6mpVev"
   },
   "source": [
    "Import library yang digunakan\n",
    "\n",
    "**Hint: sklearn.linear_model (LinearRegression)**"
   ]
  },
  {
   "cell_type": "code",
   "execution_count": null,
   "metadata": {
    "id": "JmTJeUgEpVev"
   },
   "outputs": [],
   "source": []
  },
  {
   "cell_type": "markdown",
   "metadata": {
    "id": "H_9GGNGLpVev"
   },
   "source": [
    "Melatih model Linear Regression\n",
    "\n",
    "**Hint: .fit()**"
   ]
  },
  {
   "cell_type": "code",
   "execution_count": null,
   "metadata": {
    "id": "Sk8gdbw3pVev"
   },
   "outputs": [],
   "source": []
  },
  {
   "cell_type": "markdown",
   "metadata": {
    "id": "MUgkbuoJpVew"
   },
   "source": [
    "Membuat prediksi dari model yang sudah dilatih, buat prediksi pada data latih maupun data uji (X_train, X_test)\n",
    "\n",
    "**Hint: .predict()**"
   ]
  },
  {
   "cell_type": "code",
   "execution_count": null,
   "metadata": {
    "id": "w_BgD8U7pVew"
   },
   "outputs": [],
   "source": []
  },
  {
   "cell_type": "markdown",
   "metadata": {
    "id": "3tQs89b3pVew"
   },
   "source": [
    "### Evaluate the model"
   ]
  },
  {
   "cell_type": "markdown",
   "metadata": {
    "id": "8cxHLYLPpVew"
   },
   "source": [
    "Setelah membangun model dengan melatih dan memprediksi, selanjutnya praktikan mengevaluasi model dengan Mean Squared Error dan R-squared"
   ]
  },
  {
   "cell_type": "markdown",
   "metadata": {
    "id": "TXHt1o9QpVew"
   },
   "source": [
    "Import library yang digunakan\n",
    "\n",
    "**Hint: sklearn.metrics (mean_squared_error, r2_score), statsmodels.api (sm), numpy (np)**"
   ]
  },
  {
   "cell_type": "code",
   "execution_count": null,
   "metadata": {
    "id": "deM9Nm-jpVew"
   },
   "outputs": [],
   "source": []
  },
  {
   "cell_type": "markdown",
   "metadata": {
    "id": "QuXUwApSaB-p"
   },
   "source": [
    "Mendapatkan Intercept dan Koefisien dari model\n",
    "\n",
    "**Hint: model.intercept_, model.coef_**"
   ]
  },
  {
   "cell_type": "code",
   "execution_count": null,
   "metadata": {
    "id": "SSaCHK9caB-q"
   },
   "outputs": [],
   "source": []
  },
  {
   "cell_type": "markdown",
   "metadata": {
    "id": "eZqUt3zSaB-q"
   },
   "source": [
    "Menampilkan intercept dan koefisien\n",
    "\n",
    "**Hint: print()**"
   ]
  },
  {
   "cell_type": "code",
   "execution_count": null,
   "metadata": {
    "id": "kHGHFT36aB-q"
   },
   "outputs": [],
   "source": []
  },
  {
   "cell_type": "markdown",
   "metadata": {
    "id": "N_-yrnH3aB-q"
   },
   "source": [
    "mendapatkan p-value dari model\n",
    "\n",
    "**Hint: sm.add_constant(), sm.OLS(), ols_model.fit()**"
   ]
  },
  {
   "cell_type": "code",
   "execution_count": null,
   "metadata": {
    "id": "45gI82OPaB-q"
   },
   "outputs": [],
   "source": []
  },
  {
   "cell_type": "markdown",
   "metadata": {
    "id": "rZWV1pAoaB-r"
   },
   "source": [
    "Menampilkan p-value dari variabel prediktor\n",
    "\n",
    "**Hint: print(), result.**"
   ]
  },
  {
   "cell_type": "code",
   "execution_count": null,
   "metadata": {
    "id": "q2DjU1_FaB-r"
   },
   "outputs": [],
   "source": []
  },
  {
   "cell_type": "markdown",
   "metadata": {
    "id": "36YDhWAKpVew"
   },
   "source": [
    "Menampilkan rata-rata kuadrat kesalahan antara nilai prediksi dan nilai aktual\n",
    "\n",
    "**Hint: mean_squared_error**"
   ]
  },
  {
   "cell_type": "code",
   "execution_count": null,
   "metadata": {
    "id": "vR28RIZrpVew"
   },
   "outputs": [],
   "source": []
  },
  {
   "cell_type": "markdown",
   "metadata": {
    "id": "yjNjFLUOpVex"
   },
   "source": [
    "Menampilkan  proporsi varians dalam variabel dependen yang dapat dijelaskan oleh model\n",
    "\n",
    "**Hint: r2_score()**"
   ]
  },
  {
   "cell_type": "code",
   "execution_count": null,
   "metadata": {
    "id": "3z_wpTrFpVex"
   },
   "outputs": [],
   "source": []
  },
  {
   "cell_type": "markdown",
   "metadata": {
    "id": "nijYsQb_PZnu"
   },
   "source": [
    "Berikan kesimpulan berdasarkan hasil evaluasi model:"
   ]
  },
  {
   "cell_type": "markdown",
   "metadata": {
    "id": "yfAEQ8M4Pyo_"
   },
   "source": [
    "Jawab Disini"
   ]
  },
  {
   "cell_type": "markdown",
   "metadata": {
    "id": "LT6L0tgWTdhJ"
   },
   "source": [
    "## Studi Kasus Segmentasi Pelanggan Berdasarkan Perilaku Pembelian (K-Means Clustering)"
   ]
  },
  {
   "cell_type": "markdown",
   "metadata": {
    "id": "fzLT6ZJZTdhK"
   },
   "source": [
    "### Read Data"
   ]
  },
  {
   "cell_type": "markdown",
   "metadata": {
    "id": "MaJGgKFNTdhK"
   },
   "source": [
    "Pertama, kita akan membaca dan melihat ringkasan statistik dari dataset menggunakan pandas dan menampilkan beberapa baris awal untuk memahami struktur data.\n",
    "\n",
    "**Hint: library pandas, menggunkan read_csv(), head(), dan data = df**"
   ]
  },
  {
   "cell_type": "code",
   "execution_count": null,
   "metadata": {
    "id": "hPnjwC4XTdhK"
   },
   "outputs": [],
   "source": [
    "\n"
   ]
  },
  {
   "cell_type": "markdown",
   "metadata": {
    "id": "HeOtewhcineK"
   },
   "source": [
    "melihat ringkasan statistik\n",
    "\n",
    "**Hint: describe()**"
   ]
  },
  {
   "cell_type": "code",
   "execution_count": null,
   "metadata": {
    "id": "dSwEB828TdhK"
   },
   "outputs": [],
   "source": []
  },
  {
   "cell_type": "markdown",
   "metadata": {
    "id": "3dPn0BTFTdhK"
   },
   "source": [
    "### Pre-Modelling"
   ]
  },
  {
   "cell_type": "markdown",
   "metadata": {
    "id": "qpDvtg_wTdhK"
   },
   "source": [
    "Sebelum membangun model, praktikan melakukan pelabelan data untuk memilih fitur yang dijadikan target dan memisahkan data latih dan data uji sesuai ketentuan"
   ]
  },
  {
   "cell_type": "markdown",
   "metadata": {
    "id": "bAo2qadRTdhL"
   },
   "source": [
    "#### Labelling Data"
   ]
  },
  {
   "cell_type": "markdown",
   "metadata": {
    "id": "iW4P-qw6nNZy"
   },
   "source": [
    "Pilih kolom yang akan digunakan dalam pembuatan K-Means\n",
    "\n",
    "**Hint: Your_dataframe_name.column =**"
   ]
  },
  {
   "cell_type": "code",
   "execution_count": null,
   "metadata": {
    "id": "9V-Nj44vnJ0m"
   },
   "outputs": [],
   "source": []
  },
  {
   "cell_type": "markdown",
   "metadata": {
    "id": "3GcclC5fhHuC"
   },
   "source": [
    "Tampilkan hasil pemilihan kolom menggunakan **head()**"
   ]
  },
  {
   "cell_type": "code",
   "execution_count": null,
   "metadata": {
    "id": "rU7fz80qhHuC"
   },
   "outputs": [],
   "source": []
  },
  {
   "cell_type": "markdown",
   "metadata": {
    "id": "s_KD5AV3OXan"
   },
   "source": [
    "tambahan: Memilih fitur selain target yang nantinya menjadi label"
   ]
  },
  {
   "cell_type": "code",
   "execution_count": null,
   "metadata": {
    "id": "3jBNhFKFMVaR"
   },
   "outputs": [],
   "source": []
  },
  {
   "cell_type": "markdown",
   "metadata": {
    "id": "azely-R1TdhL"
   },
   "source": [
    "#### Menentukan K (Elbow Method)"
   ]
  },
  {
   "cell_type": "markdown",
   "metadata": {
    "id": "A_g-jEjcTdhL"
   },
   "source": [
    "Gunakan Elbow Method untuk menemukan jumlah klaster yang optimal"
   ]
  },
  {
   "cell_type": "markdown",
   "metadata": {
    "id": "1n-BJlHOTdhL"
   },
   "source": [
    "Import library yang digunakan\n",
    "\n",
    "**Hint: sklearn.cluster (KMeans),  matplotlib.pyplot (plt)**"
   ]
  },
  {
   "cell_type": "code",
   "execution_count": null,
   "metadata": {
    "id": "qWJVoy7wTdhL"
   },
   "outputs": [],
   "source": []
  },
  {
   "cell_type": "markdown",
   "metadata": {
    "id": "GZ7wCpgQTdhL"
   },
   "source": [
    "Buat elbow method untuk menentukan k optimal\n",
    "\n",
    "**Hint: KMeans(), fit(), inertia.append()**"
   ]
  },
  {
   "cell_type": "code",
   "execution_count": null,
   "metadata": {
    "id": "CxeFIPuoTdhL"
   },
   "outputs": [],
   "source": []
  },
  {
   "cell_type": "markdown",
   "metadata": {
    "id": "5AXBrHHhqizF"
   },
   "source": [
    "Visualisasikan plot Elbow Method\n",
    "\n",
    "**Hint: plot(), xlabel(), ylabel(), title()**"
   ]
  },
  {
   "cell_type": "code",
   "execution_count": null,
   "metadata": {
    "id": "yob37UNmp2bi"
   },
   "outputs": [],
   "source": []
  },
  {
   "cell_type": "markdown",
   "metadata": {
    "id": "ENpBd-7fTdhM"
   },
   "source": [
    "### Build Model"
   ]
  },
  {
   "cell_type": "markdown",
   "metadata": {
    "id": "7A6Nuop_TdhM"
   },
   "source": [
    "Praktikan membangun model K-Means dengan data yang sudah dipersiapkan pada tahap sebelumnya"
   ]
  },
  {
   "cell_type": "markdown",
   "metadata": {
    "id": "Dp31_8IXTdhM"
   },
   "source": [
    "Cocokkan model K-means dengan k optimal (misalnya, k=4)\n",
    "\n",
    "**Hint: KMeans().fit()**"
   ]
  },
  {
   "cell_type": "code",
   "execution_count": null,
   "metadata": {
    "id": "LzkrfTEKTdhM"
   },
   "outputs": [],
   "source": []
  },
  {
   "cell_type": "markdown",
   "metadata": {
    "id": "pPEFg96oryi3"
   },
   "source": [
    "Tetapkan label cluster untuk Author\n",
    "\n",
    "**Hint: .labels_**"
   ]
  },
  {
   "cell_type": "code",
   "execution_count": null,
   "metadata": {
    "id": "t7PbXCsYrYfN"
   },
   "outputs": [],
   "source": []
  },
  {
   "cell_type": "markdown",
   "metadata": {
    "id": "DHlKnzHbTdhN"
   },
   "source": [
    "### Evaluate the model (before tuning)"
   ]
  },
  {
   "cell_type": "markdown",
   "metadata": {
    "id": "1gFemzNwTdhN"
   },
   "source": [
    "Setelah membangun model dengan melatih dan memprediksi, selanjutnya praktikan mengevaluasi model dengan Visualisasi Hasil Klasterisasi dan Silhouette Score"
   ]
  },
  {
   "cell_type": "markdown",
   "metadata": {
    "id": "8vVsrPZqTdhN"
   },
   "source": [
    "Import library yang digunakan\n",
    "\n",
    "**Hint: sklearn.metrics (silhouette_score), sklearn.decomposition (PCA), seaborn (sns)**"
   ]
  },
  {
   "cell_type": "code",
   "execution_count": null,
   "metadata": {
    "id": "-wCfv54ITdhN"
   },
   "outputs": [],
   "source": []
  },
  {
   "cell_type": "markdown",
   "metadata": {
    "id": "kLfB9thoTdhN"
   },
   "source": [
    "Untuk visualisasi hasil, praktikan bisa menggunakan PCA (Principal Component Analysis) untuk mereduksi dimensi data sehingga bisa divisualisasikan dalam bentuk 2D.\n",
    "\n",
    "**Hint: PCA(), pca.fit_transform()**"
   ]
  },
  {
   "cell_type": "code",
   "execution_count": null,
   "metadata": {
    "id": "EMMBeWu9TdhN"
   },
   "outputs": [],
   "source": [
    "\n"
   ]
  },
  {
   "cell_type": "markdown",
   "metadata": {
    "id": "yw-2tExeTdhN"
   },
   "source": [
    "Visualisasi plot klusterisasi\n",
    "\n",
    "**Hint: scatterplot(), hue=, data=pca_df**"
   ]
  },
  {
   "cell_type": "code",
   "execution_count": null,
   "metadata": {
    "id": "tWqsYYJKTdhN"
   },
   "outputs": [],
   "source": []
  },
  {
   "cell_type": "markdown",
   "metadata": {
    "id": "k1qi3MMQzXy_"
   },
   "source": [
    "Menghitung Silhouette Score\n",
    "\n",
    "**Hint: silhouette_score(), print()**"
   ]
  },
  {
   "cell_type": "code",
   "execution_count": null,
   "metadata": {
    "id": "tK0Kt7DkzXer"
   },
   "outputs": [],
   "source": []
  },
  {
   "cell_type": "markdown",
   "metadata": {
    "id": "Prbb9bg-TdhO"
   },
   "source": [
    "### Model Tuning\n"
   ]
  },
  {
   "cell_type": "markdown",
   "metadata": {
    "id": "DL3j5mqfTdhO"
   },
   "source": [
    "Melakukan tuning model dengan memilih hyperparameter secara otomatis menggunakan Grid Search\n",
    "\n",
    "**Implementasi Grid Search**\n",
    "\n",
    "Mengetahui nilai mana yang harus ditetapkan untuk parameter yang dicari memerlukan kombinasi pengetahuan dan praktik domain.\n"
   ]
  },
  {
   "cell_type": "markdown",
   "metadata": {
    "id": "BpDv9jriTdhO"
   },
   "source": [
    "Import library yang digunakan\n",
    "\n",
    "**Hint:sklearn.model_selection (GridSearchCV)**"
   ]
  },
  {
   "cell_type": "code",
   "execution_count": null,
   "metadata": {
    "id": "ylYp4G0eTdhO"
   },
   "outputs": [],
   "source": []
  },
  {
   "cell_type": "markdown",
   "metadata": {
    "id": "Gd4VNcRYTdhO"
   },
   "source": [
    "Tentukan parameter yang ingin dicoba, buat list nilai n_cluster, init, n_init, max_iter pada param_grid\n",
    "\n",
    "**Hint: param_grid = {n_cluster, ..., ...}**"
   ]
  },
  {
   "cell_type": "code",
   "execution_count": null,
   "metadata": {
    "id": "ZOMsNFITTdhO"
   },
   "outputs": [],
   "source": []
  },
  {
   "cell_type": "markdown",
   "metadata": {
    "id": "fQb5T-68TdhO"
   },
   "source": [
    "Inisialisasi GridSearchCV\n",
    "\n",
    "**Hint: inisiasi KMeans() dan GridSearchCV (param_grid=..)**"
   ]
  },
  {
   "cell_type": "code",
   "execution_count": null,
   "metadata": {
    "id": "WNKPZIkfTdhO"
   },
   "outputs": [],
   "source": []
  },
  {
   "cell_type": "markdown",
   "metadata": {
    "id": "Jri5Q7w1TdhO"
   },
   "source": [
    "Fit model dengan data training\n",
    "\n",
    "**Hint: grid_search.fit()**"
   ]
  },
  {
   "cell_type": "code",
   "execution_count": null,
   "metadata": {
    "id": "6nbu9dEITdhO"
   },
   "outputs": [],
   "source": []
  },
  {
   "cell_type": "markdown",
   "metadata": {
    "id": "L0MYM7MvTdhO"
   },
   "source": [
    "### Evaluate the model (after tuning)"
   ]
  },
  {
   "cell_type": "markdown",
   "metadata": {
    "id": "i64hF43jTdhP"
   },
   "source": [
    "Tampilkan hasil (parameter dan silhouute score) dari Grid Search\n"
   ]
  },
  {
   "cell_type": "code",
   "execution_count": 60,
   "metadata": {
    "id": "Kjaq2LyeTdhP"
   },
   "outputs": [],
   "source": [
    "# Jangan ubah apapun pada cell ini\n",
    "best_score = -1\n",
    "best_params = None"
   ]
  },
  {
   "cell_type": "markdown",
   "metadata": {
    "id": "cepXQRC2Uv2Z"
   },
   "source": [
    "Lengkapi kode dibawah ini\n",
    "\n",
    "**Hint: Ganti semua 'None' dengan kode yang sesuai**"
   ]
  },
  {
   "cell_type": "code",
   "execution_count": 61,
   "metadata": {
    "id": "YynDFYow5f4e"
   },
   "outputs": [
    {
     "ename": "NameError",
     "evalue": "name 'KMeans' is not defined",
     "output_type": "error",
     "traceback": [
      "\u001b[31m---------------------------------------------------------------------------\u001b[39m",
      "\u001b[31mNameError\u001b[39m                                 Traceback (most recent call last)",
      "\u001b[36mCell\u001b[39m\u001b[36m \u001b[39m\u001b[32mIn[61]\u001b[39m\u001b[32m, line 2\u001b[39m\n\u001b[32m      1\u001b[39m \u001b[38;5;28;01mfor\u001b[39;00m params \u001b[38;5;129;01min\u001b[39;00m grid_search.cv_results_[\u001b[33m'\u001b[39m\u001b[33mparams\u001b[39m\u001b[33m'\u001b[39m]:\n\u001b[32m----> \u001b[39m\u001b[32m2\u001b[39m     model = \u001b[43mKMeans\u001b[49m(**params)\n\u001b[32m      3\u001b[39m     cluster_labels = model.fit_predict(features)\n\u001b[32m      4\u001b[39m     score = silhouette_score(features, \u001b[38;5;28;01mNone\u001b[39;00m)\n",
      "\u001b[31mNameError\u001b[39m: name 'KMeans' is not defined"
     ]
    }
   ],
   "source": [
    "for params in grid_search.cv_results_['params']:\n",
    "    model = KMeans(**params)\n",
    "    cluster_labels = model.fit_predict(features)\n",
    "    score = silhouette_score(features, None)\n",
    "\n",
    "    if score > best_score:\n",
    "        best_score = None\n",
    "        best_params = None"
   ]
  },
  {
   "cell_type": "markdown",
   "metadata": {
    "id": "9XZWJ_aIWuZ6"
   },
   "source": [
    "Print hasil dari Grid Search untuk parameter dan skor terbaik\n",
    "\n",
    "**Hint: best_params, best_score**"
   ]
  },
  {
   "cell_type": "code",
   "execution_count": null,
   "metadata": {
    "id": "mHm2D0Oc50bD"
   },
   "outputs": [],
   "source": []
  },
  {
   "cell_type": "markdown",
   "metadata": {
    "id": "XbwCgAF33_cN"
   },
   "source": [
    "Berikan kesimpulan berdasarkan hasil evaluasi model (sebelum dan sesudah tuning):"
   ]
  },
  {
   "cell_type": "markdown",
   "metadata": {
    "id": "PyVKBLoB4AJf"
   },
   "source": [
    "Jawab Disini"
   ]
  }
 ],
 "metadata": {
  "colab": {
   "collapsed_sections": [
    "kKok05CiVF_u",
    "qWJYNKZyVIt7",
    "TGGsN_UMpVeu",
    "bS5bWL29pVev"
   ],
   "provenance": []
  },
  "kernelspec": {
   "display_name": "Python 3",
   "name": "python3"
  },
  "language_info": {
   "codemirror_mode": {
    "name": "ipython",
    "version": 3
   },
   "file_extension": ".py",
   "mimetype": "text/x-python",
   "name": "python",
   "nbconvert_exporter": "python",
   "pygments_lexer": "ipython3",
   "version": "3.10.7"
  }
 },
 "nbformat": 4,
 "nbformat_minor": 0
}
